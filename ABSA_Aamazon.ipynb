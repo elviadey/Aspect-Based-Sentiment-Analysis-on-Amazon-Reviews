{
  "nbformat": 4,
  "nbformat_minor": 0,
  "metadata": {
    "colab": {
      "provenance": []
    },
    "kernelspec": {
      "name": "python3",
      "display_name": "Python 3"
    },
    "language_info": {
      "name": "python"
    }
  },
  "cells": [
    {
      "cell_type": "code",
      "source": [
        "import pandas as pd\n",
        "import torch\n",
        "import numpy as np\n",
        "import sqlite3\n",
        "import matplotlib.pyplot as plt\n",
        "import seaborn as sns\n",
        "import re\n",
        "import nltk\n",
        "from nltk.corpus import stopwords\n",
        "from nltk.stem import WordNetLemmatizer\n",
        "from nltk.stem.porter import PorterStemmer\n",
        "from sklearn.feature_extraction.text import CountVectorizer\n",
        "import unicodedata as uni\n",
        "import missingno as msno\n",
        "import re\n",
        "\n",
        "pd.set_option('display.max_columns', None)\n",
        "pd.set_option('display.max_rows', None)\n",
        "import warnings\n",
        "nltk.download('stopwords')"
      ],
      "metadata": {
        "id": "az0_cxvA2stn",
        "colab": {
          "base_uri": "https://localhost:8080/"
        },
        "outputId": "66851c6c-5da6-4b4b-bf85-debeee808b97"
      },
      "execution_count": null,
      "outputs": [
        {
          "output_type": "stream",
          "name": "stderr",
          "text": [
            "[nltk_data] Downloading package stopwords to /root/nltk_data...\n",
            "[nltk_data]   Unzipping corpora/stopwords.zip.\n"
          ]
        },
        {
          "output_type": "execute_result",
          "data": {
            "text/plain": [
              "True"
            ]
          },
          "metadata": {},
          "execution_count": 9
        }
      ]
    },
    {
      "cell_type": "code",
      "source": [
        "# Load the dataset\n",
        "df = pd.read_csv(\"VHin.csv\")\n",
        "df.shape"
      ],
      "metadata": {
        "colab": {
          "base_uri": "https://localhost:8080/"
        },
        "id": "dkatq_IHD9rM",
        "outputId": "d7886451-2b23-4eab-dbe9-1828f34a74ce"
      },
      "execution_count": null,
      "outputs": [
        {
          "output_type": "execute_result",
          "data": {
            "text/plain": [
              "(181, 2)"
            ]
          },
          "metadata": {},
          "execution_count": 10
        }
      ]
    },
    {
      "cell_type": "code",
      "source": [
        "def remove_url(text):\n",
        "    text = re.sub(r\"http\\S+\", \"\", text)\n",
        "    return text"
      ],
      "metadata": {
        "id": "BLiRMWLNFtXm"
      },
      "execution_count": null,
      "outputs": []
    },
    {
      "cell_type": "code",
      "source": [
        "!pip install demoji"
      ],
      "metadata": {
        "id": "jHRpa6axGL08",
        "colab": {
          "base_uri": "https://localhost:8080/"
        },
        "outputId": "1d1abc70-2c8f-4b66-ad04-8a37fc3946c5"
      },
      "execution_count": null,
      "outputs": [
        {
          "output_type": "stream",
          "name": "stdout",
          "text": [
            "Requirement already satisfied: demoji in /usr/local/lib/python3.10/dist-packages (1.1.0)\n"
          ]
        }
      ]
    },
    {
      "cell_type": "code",
      "source": [
        "import demoji\n",
        "\n",
        "def handle_emoji(string):\n",
        "    emojis = demoji.findall(string)\n",
        "\n",
        "    for emoji in emojis:\n",
        "        string = string.replace(emoji, \" \" + emojis[emoji].split(\":\")[0])\n",
        "\n",
        "    return string"
      ],
      "metadata": {
        "id": "MvqQwT-xGOdi"
      },
      "execution_count": null,
      "outputs": []
    },
    {
      "cell_type": "code",
      "source": [
        "def word_tokenizer(text):\n",
        "    text = text.lower()\n",
        "    text = text.split()\n",
        "\n",
        "    return text"
      ],
      "metadata": {
        "id": "aQQjPaH9GvX2"
      },
      "execution_count": null,
      "outputs": []
    },
    {
      "cell_type": "code",
      "source": [
        "from nltk.corpus import stopwords\n",
        "\n",
        "en_stopwords = set(stopwords.words('english'))\n",
        "#print(f\"Stop Words in English : \\n{ en_stopwords}\")"
      ],
      "metadata": {
        "id": "8eW-VqW4GzWE"
      },
      "execution_count": null,
      "outputs": []
    },
    {
      "cell_type": "code",
      "source": [
        "def remove_stopwords(text):\n",
        "    text = [word for word in text if word not in en_stopwords]\n",
        "    return text"
      ],
      "metadata": {
        "id": "BV8jocEXG3Dh"
      },
      "execution_count": null,
      "outputs": []
    },
    {
      "cell_type": "code",
      "source": [
        "from nltk.stem.porter import PorterStemmer\n",
        "\n",
        "stemmer = PorterStemmer()\n",
        "\n",
        "def stemming(text):\n",
        "\n",
        "    text = [stemmer.stem(word) for word in text]\n",
        "    return text"
      ],
      "metadata": {
        "id": "Sa8xNeKrG6ds"
      },
      "execution_count": null,
      "outputs": []
    },
    {
      "cell_type": "code",
      "source": [
        "import spacy\n",
        "\n",
        "sp = spacy.load(\"en_core_web_sm\")"
      ],
      "metadata": {
        "id": "3t1FmBqQG9rO"
      },
      "execution_count": null,
      "outputs": []
    },
    {
      "cell_type": "code",
      "source": [
        "def lemmatization(text):\n",
        "\n",
        "    text = \" \".join(text)\n",
        "    token = sp(text)\n",
        "\n",
        "    text = [word.lemma_ for word in token]\n",
        "    return text"
      ],
      "metadata": {
        "id": "3DOEpjZqHBmS"
      },
      "execution_count": null,
      "outputs": []
    },
    {
      "cell_type": "markdown",
      "source": [
        "# Working on the data"
      ],
      "metadata": {
        "id": "StKbOHgyIZny"
      }
    },
    {
      "cell_type": "code",
      "source": [
        "df_temp = df.copy()\n",
        "df.head()"
      ],
      "metadata": {
        "colab": {
          "base_uri": "https://localhost:8080/",
          "height": 206
        },
        "id": "j_NL_aEkHf3D",
        "outputId": "af90d55e-816c-408d-de2a-7c5a75355eab"
      },
      "execution_count": null,
      "outputs": [
        {
          "output_type": "execute_result",
          "data": {
            "text/plain": [
              "                                              review  rating\n",
              "0  Soft cloth. Fitting is good. Overall a great buy!       5\n",
              "1  Superb stich quality..fabric is on the shinier...       4\n",
              "2  I use to wear Louis Philippe Formal pants and ...       3\n",
              "3  1. The product is exactly the way it looks in ...       5\n",
              "4                    Used, altered and torn trouser.       1"
            ],
            "text/html": [
              "\n",
              "  <div id=\"df-c4cae646-33e6-4dfc-841b-944c46ef4dc2\" class=\"colab-df-container\">\n",
              "    <div>\n",
              "<style scoped>\n",
              "    .dataframe tbody tr th:only-of-type {\n",
              "        vertical-align: middle;\n",
              "    }\n",
              "\n",
              "    .dataframe tbody tr th {\n",
              "        vertical-align: top;\n",
              "    }\n",
              "\n",
              "    .dataframe thead th {\n",
              "        text-align: right;\n",
              "    }\n",
              "</style>\n",
              "<table border=\"1\" class=\"dataframe\">\n",
              "  <thead>\n",
              "    <tr style=\"text-align: right;\">\n",
              "      <th></th>\n",
              "      <th>review</th>\n",
              "      <th>rating</th>\n",
              "    </tr>\n",
              "  </thead>\n",
              "  <tbody>\n",
              "    <tr>\n",
              "      <th>0</th>\n",
              "      <td>Soft cloth. Fitting is good. Overall a great buy!</td>\n",
              "      <td>5</td>\n",
              "    </tr>\n",
              "    <tr>\n",
              "      <th>1</th>\n",
              "      <td>Superb stich quality..fabric is on the shinier...</td>\n",
              "      <td>4</td>\n",
              "    </tr>\n",
              "    <tr>\n",
              "      <th>2</th>\n",
              "      <td>I use to wear Louis Philippe Formal pants and ...</td>\n",
              "      <td>3</td>\n",
              "    </tr>\n",
              "    <tr>\n",
              "      <th>3</th>\n",
              "      <td>1. The product is exactly the way it looks in ...</td>\n",
              "      <td>5</td>\n",
              "    </tr>\n",
              "    <tr>\n",
              "      <th>4</th>\n",
              "      <td>Used, altered and torn trouser.</td>\n",
              "      <td>1</td>\n",
              "    </tr>\n",
              "  </tbody>\n",
              "</table>\n",
              "</div>\n",
              "    <div class=\"colab-df-buttons\">\n",
              "\n",
              "  <div class=\"colab-df-container\">\n",
              "    <button class=\"colab-df-convert\" onclick=\"convertToInteractive('df-c4cae646-33e6-4dfc-841b-944c46ef4dc2')\"\n",
              "            title=\"Convert this dataframe to an interactive table.\"\n",
              "            style=\"display:none;\">\n",
              "\n",
              "  <svg xmlns=\"http://www.w3.org/2000/svg\" height=\"24px\" viewBox=\"0 -960 960 960\">\n",
              "    <path d=\"M120-120v-720h720v720H120Zm60-500h600v-160H180v160Zm220 220h160v-160H400v160Zm0 220h160v-160H400v160ZM180-400h160v-160H180v160Zm440 0h160v-160H620v160ZM180-180h160v-160H180v160Zm440 0h160v-160H620v160Z\"/>\n",
              "  </svg>\n",
              "    </button>\n",
              "\n",
              "  <style>\n",
              "    .colab-df-container {\n",
              "      display:flex;\n",
              "      gap: 12px;\n",
              "    }\n",
              "\n",
              "    .colab-df-convert {\n",
              "      background-color: #E8F0FE;\n",
              "      border: none;\n",
              "      border-radius: 50%;\n",
              "      cursor: pointer;\n",
              "      display: none;\n",
              "      fill: #1967D2;\n",
              "      height: 32px;\n",
              "      padding: 0 0 0 0;\n",
              "      width: 32px;\n",
              "    }\n",
              "\n",
              "    .colab-df-convert:hover {\n",
              "      background-color: #E2EBFA;\n",
              "      box-shadow: 0px 1px 2px rgba(60, 64, 67, 0.3), 0px 1px 3px 1px rgba(60, 64, 67, 0.15);\n",
              "      fill: #174EA6;\n",
              "    }\n",
              "\n",
              "    .colab-df-buttons div {\n",
              "      margin-bottom: 4px;\n",
              "    }\n",
              "\n",
              "    [theme=dark] .colab-df-convert {\n",
              "      background-color: #3B4455;\n",
              "      fill: #D2E3FC;\n",
              "    }\n",
              "\n",
              "    [theme=dark] .colab-df-convert:hover {\n",
              "      background-color: #434B5C;\n",
              "      box-shadow: 0px 1px 3px 1px rgba(0, 0, 0, 0.15);\n",
              "      filter: drop-shadow(0px 1px 2px rgba(0, 0, 0, 0.3));\n",
              "      fill: #FFFFFF;\n",
              "    }\n",
              "  </style>\n",
              "\n",
              "    <script>\n",
              "      const buttonEl =\n",
              "        document.querySelector('#df-c4cae646-33e6-4dfc-841b-944c46ef4dc2 button.colab-df-convert');\n",
              "      buttonEl.style.display =\n",
              "        google.colab.kernel.accessAllowed ? 'block' : 'none';\n",
              "\n",
              "      async function convertToInteractive(key) {\n",
              "        const element = document.querySelector('#df-c4cae646-33e6-4dfc-841b-944c46ef4dc2');\n",
              "        const dataTable =\n",
              "          await google.colab.kernel.invokeFunction('convertToInteractive',\n",
              "                                                    [key], {});\n",
              "        if (!dataTable) return;\n",
              "\n",
              "        const docLinkHtml = 'Like what you see? Visit the ' +\n",
              "          '<a target=\"_blank\" href=https://colab.research.google.com/notebooks/data_table.ipynb>data table notebook</a>'\n",
              "          + ' to learn more about interactive tables.';\n",
              "        element.innerHTML = '';\n",
              "        dataTable['output_type'] = 'display_data';\n",
              "        await google.colab.output.renderOutput(dataTable, element);\n",
              "        const docLink = document.createElement('div');\n",
              "        docLink.innerHTML = docLinkHtml;\n",
              "        element.appendChild(docLink);\n",
              "      }\n",
              "    </script>\n",
              "  </div>\n",
              "\n",
              "\n",
              "<div id=\"df-fc1b5d76-f903-451a-8634-97009065f4d5\">\n",
              "  <button class=\"colab-df-quickchart\" onclick=\"quickchart('df-fc1b5d76-f903-451a-8634-97009065f4d5')\"\n",
              "            title=\"Suggest charts\"\n",
              "            style=\"display:none;\">\n",
              "\n",
              "<svg xmlns=\"http://www.w3.org/2000/svg\" height=\"24px\"viewBox=\"0 0 24 24\"\n",
              "     width=\"24px\">\n",
              "    <g>\n",
              "        <path d=\"M19 3H5c-1.1 0-2 .9-2 2v14c0 1.1.9 2 2 2h14c1.1 0 2-.9 2-2V5c0-1.1-.9-2-2-2zM9 17H7v-7h2v7zm4 0h-2V7h2v10zm4 0h-2v-4h2v4z\"/>\n",
              "    </g>\n",
              "</svg>\n",
              "  </button>\n",
              "\n",
              "<style>\n",
              "  .colab-df-quickchart {\n",
              "      --bg-color: #E8F0FE;\n",
              "      --fill-color: #1967D2;\n",
              "      --hover-bg-color: #E2EBFA;\n",
              "      --hover-fill-color: #174EA6;\n",
              "      --disabled-fill-color: #AAA;\n",
              "      --disabled-bg-color: #DDD;\n",
              "  }\n",
              "\n",
              "  [theme=dark] .colab-df-quickchart {\n",
              "      --bg-color: #3B4455;\n",
              "      --fill-color: #D2E3FC;\n",
              "      --hover-bg-color: #434B5C;\n",
              "      --hover-fill-color: #FFFFFF;\n",
              "      --disabled-bg-color: #3B4455;\n",
              "      --disabled-fill-color: #666;\n",
              "  }\n",
              "\n",
              "  .colab-df-quickchart {\n",
              "    background-color: var(--bg-color);\n",
              "    border: none;\n",
              "    border-radius: 50%;\n",
              "    cursor: pointer;\n",
              "    display: none;\n",
              "    fill: var(--fill-color);\n",
              "    height: 32px;\n",
              "    padding: 0;\n",
              "    width: 32px;\n",
              "  }\n",
              "\n",
              "  .colab-df-quickchart:hover {\n",
              "    background-color: var(--hover-bg-color);\n",
              "    box-shadow: 0 1px 2px rgba(60, 64, 67, 0.3), 0 1px 3px 1px rgba(60, 64, 67, 0.15);\n",
              "    fill: var(--button-hover-fill-color);\n",
              "  }\n",
              "\n",
              "  .colab-df-quickchart-complete:disabled,\n",
              "  .colab-df-quickchart-complete:disabled:hover {\n",
              "    background-color: var(--disabled-bg-color);\n",
              "    fill: var(--disabled-fill-color);\n",
              "    box-shadow: none;\n",
              "  }\n",
              "\n",
              "  .colab-df-spinner {\n",
              "    border: 2px solid var(--fill-color);\n",
              "    border-color: transparent;\n",
              "    border-bottom-color: var(--fill-color);\n",
              "    animation:\n",
              "      spin 1s steps(1) infinite;\n",
              "  }\n",
              "\n",
              "  @keyframes spin {\n",
              "    0% {\n",
              "      border-color: transparent;\n",
              "      border-bottom-color: var(--fill-color);\n",
              "      border-left-color: var(--fill-color);\n",
              "    }\n",
              "    20% {\n",
              "      border-color: transparent;\n",
              "      border-left-color: var(--fill-color);\n",
              "      border-top-color: var(--fill-color);\n",
              "    }\n",
              "    30% {\n",
              "      border-color: transparent;\n",
              "      border-left-color: var(--fill-color);\n",
              "      border-top-color: var(--fill-color);\n",
              "      border-right-color: var(--fill-color);\n",
              "    }\n",
              "    40% {\n",
              "      border-color: transparent;\n",
              "      border-right-color: var(--fill-color);\n",
              "      border-top-color: var(--fill-color);\n",
              "    }\n",
              "    60% {\n",
              "      border-color: transparent;\n",
              "      border-right-color: var(--fill-color);\n",
              "    }\n",
              "    80% {\n",
              "      border-color: transparent;\n",
              "      border-right-color: var(--fill-color);\n",
              "      border-bottom-color: var(--fill-color);\n",
              "    }\n",
              "    90% {\n",
              "      border-color: transparent;\n",
              "      border-bottom-color: var(--fill-color);\n",
              "    }\n",
              "  }\n",
              "</style>\n",
              "\n",
              "  <script>\n",
              "    async function quickchart(key) {\n",
              "      const quickchartButtonEl =\n",
              "        document.querySelector('#' + key + ' button');\n",
              "      quickchartButtonEl.disabled = true;  // To prevent multiple clicks.\n",
              "      quickchartButtonEl.classList.add('colab-df-spinner');\n",
              "      try {\n",
              "        const charts = await google.colab.kernel.invokeFunction(\n",
              "            'suggestCharts', [key], {});\n",
              "      } catch (error) {\n",
              "        console.error('Error during call to suggestCharts:', error);\n",
              "      }\n",
              "      quickchartButtonEl.classList.remove('colab-df-spinner');\n",
              "      quickchartButtonEl.classList.add('colab-df-quickchart-complete');\n",
              "    }\n",
              "    (() => {\n",
              "      let quickchartButtonEl =\n",
              "        document.querySelector('#df-fc1b5d76-f903-451a-8634-97009065f4d5 button');\n",
              "      quickchartButtonEl.style.display =\n",
              "        google.colab.kernel.accessAllowed ? 'block' : 'none';\n",
              "    })();\n",
              "  </script>\n",
              "</div>\n",
              "    </div>\n",
              "  </div>\n"
            ],
            "application/vnd.google.colaboratory.intrinsic+json": {
              "type": "dataframe",
              "variable_name": "df",
              "summary": "{\n  \"name\": \"df\",\n  \"rows\": 181,\n  \"fields\": [\n    {\n      \"column\": \"review\",\n      \"properties\": {\n        \"dtype\": \"string\",\n        \"num_unique_values\": 167,\n        \"samples\": [\n          \"The fabric is too thin, quality not upto mark\",\n          \"This website shows that the Shirt is of pure cotton which is not after I receive the order I was surprised that the fabric was a mix of polyester not expected at all\",\n          \"Product quality is awesome. Everything is as expected in color and size.A must-buy product. Thanks Amazon.\"\n        ],\n        \"semantic_type\": \"\",\n        \"description\": \"\"\n      }\n    },\n    {\n      \"column\": \"rating\",\n      \"properties\": {\n        \"dtype\": \"number\",\n        \"std\": 1,\n        \"min\": 1,\n        \"max\": 5,\n        \"num_unique_values\": 5,\n        \"samples\": [\n          4,\n          2,\n          3\n        ],\n        \"semantic_type\": \"\",\n        \"description\": \"\"\n      }\n    }\n  ]\n}"
            }
          },
          "metadata": {},
          "execution_count": 20
        }
      ]
    },
    {
      "cell_type": "code",
      "source": [
        "def label(y):\n",
        "    if y >= 4:\n",
        "        return 1\n",
        "    else:\n",
        "        return 0\n",
        "\n",
        "from tqdm import tqdm\n",
        "\n",
        "tqdm.pandas()\n",
        "\n",
        "df_temp['y'] = df_temp['rating'].progress_map(label)"
      ],
      "metadata": {
        "colab": {
          "base_uri": "https://localhost:8080/"
        },
        "id": "D3NMzoluHg-o",
        "outputId": "581e9d1f-747b-4456-cace-f6d28a755746"
      },
      "execution_count": null,
      "outputs": [
        {
          "output_type": "stream",
          "name": "stderr",
          "text": [
            "100%|██████████| 181/181 [00:00<00:00, 117427.54it/s]\n"
          ]
        }
      ]
    },
    {
      "cell_type": "code",
      "source": [
        "df_temp = df_temp[['review', 'y', 'rating']]"
      ],
      "metadata": {
        "id": "hyCqOGkRIgj1"
      },
      "execution_count": null,
      "outputs": []
    },
    {
      "cell_type": "code",
      "source": [
        "df_temp.head()"
      ],
      "metadata": {
        "colab": {
          "base_uri": "https://localhost:8080/",
          "height": 206
        },
        "id": "L3EOFA7SI04E",
        "outputId": "585dee33-df1b-4883-d661-e905762fa4c5"
      },
      "execution_count": null,
      "outputs": [
        {
          "output_type": "execute_result",
          "data": {
            "text/plain": [
              "                                              review  y  rating\n",
              "0  Soft cloth. Fitting is good. Overall a great buy!  1       5\n",
              "1  Superb stich quality..fabric is on the shinier...  1       4\n",
              "2  I use to wear Louis Philippe Formal pants and ...  0       3\n",
              "3  1. The product is exactly the way it looks in ...  1       5\n",
              "4                    Used, altered and torn trouser.  0       1"
            ],
            "text/html": [
              "\n",
              "  <div id=\"df-65979806-6bf3-42ec-96c1-3d90655742b5\" class=\"colab-df-container\">\n",
              "    <div>\n",
              "<style scoped>\n",
              "    .dataframe tbody tr th:only-of-type {\n",
              "        vertical-align: middle;\n",
              "    }\n",
              "\n",
              "    .dataframe tbody tr th {\n",
              "        vertical-align: top;\n",
              "    }\n",
              "\n",
              "    .dataframe thead th {\n",
              "        text-align: right;\n",
              "    }\n",
              "</style>\n",
              "<table border=\"1\" class=\"dataframe\">\n",
              "  <thead>\n",
              "    <tr style=\"text-align: right;\">\n",
              "      <th></th>\n",
              "      <th>review</th>\n",
              "      <th>y</th>\n",
              "      <th>rating</th>\n",
              "    </tr>\n",
              "  </thead>\n",
              "  <tbody>\n",
              "    <tr>\n",
              "      <th>0</th>\n",
              "      <td>Soft cloth. Fitting is good. Overall a great buy!</td>\n",
              "      <td>1</td>\n",
              "      <td>5</td>\n",
              "    </tr>\n",
              "    <tr>\n",
              "      <th>1</th>\n",
              "      <td>Superb stich quality..fabric is on the shinier...</td>\n",
              "      <td>1</td>\n",
              "      <td>4</td>\n",
              "    </tr>\n",
              "    <tr>\n",
              "      <th>2</th>\n",
              "      <td>I use to wear Louis Philippe Formal pants and ...</td>\n",
              "      <td>0</td>\n",
              "      <td>3</td>\n",
              "    </tr>\n",
              "    <tr>\n",
              "      <th>3</th>\n",
              "      <td>1. The product is exactly the way it looks in ...</td>\n",
              "      <td>1</td>\n",
              "      <td>5</td>\n",
              "    </tr>\n",
              "    <tr>\n",
              "      <th>4</th>\n",
              "      <td>Used, altered and torn trouser.</td>\n",
              "      <td>0</td>\n",
              "      <td>1</td>\n",
              "    </tr>\n",
              "  </tbody>\n",
              "</table>\n",
              "</div>\n",
              "    <div class=\"colab-df-buttons\">\n",
              "\n",
              "  <div class=\"colab-df-container\">\n",
              "    <button class=\"colab-df-convert\" onclick=\"convertToInteractive('df-65979806-6bf3-42ec-96c1-3d90655742b5')\"\n",
              "            title=\"Convert this dataframe to an interactive table.\"\n",
              "            style=\"display:none;\">\n",
              "\n",
              "  <svg xmlns=\"http://www.w3.org/2000/svg\" height=\"24px\" viewBox=\"0 -960 960 960\">\n",
              "    <path d=\"M120-120v-720h720v720H120Zm60-500h600v-160H180v160Zm220 220h160v-160H400v160Zm0 220h160v-160H400v160ZM180-400h160v-160H180v160Zm440 0h160v-160H620v160ZM180-180h160v-160H180v160Zm440 0h160v-160H620v160Z\"/>\n",
              "  </svg>\n",
              "    </button>\n",
              "\n",
              "  <style>\n",
              "    .colab-df-container {\n",
              "      display:flex;\n",
              "      gap: 12px;\n",
              "    }\n",
              "\n",
              "    .colab-df-convert {\n",
              "      background-color: #E8F0FE;\n",
              "      border: none;\n",
              "      border-radius: 50%;\n",
              "      cursor: pointer;\n",
              "      display: none;\n",
              "      fill: #1967D2;\n",
              "      height: 32px;\n",
              "      padding: 0 0 0 0;\n",
              "      width: 32px;\n",
              "    }\n",
              "\n",
              "    .colab-df-convert:hover {\n",
              "      background-color: #E2EBFA;\n",
              "      box-shadow: 0px 1px 2px rgba(60, 64, 67, 0.3), 0px 1px 3px 1px rgba(60, 64, 67, 0.15);\n",
              "      fill: #174EA6;\n",
              "    }\n",
              "\n",
              "    .colab-df-buttons div {\n",
              "      margin-bottom: 4px;\n",
              "    }\n",
              "\n",
              "    [theme=dark] .colab-df-convert {\n",
              "      background-color: #3B4455;\n",
              "      fill: #D2E3FC;\n",
              "    }\n",
              "\n",
              "    [theme=dark] .colab-df-convert:hover {\n",
              "      background-color: #434B5C;\n",
              "      box-shadow: 0px 1px 3px 1px rgba(0, 0, 0, 0.15);\n",
              "      filter: drop-shadow(0px 1px 2px rgba(0, 0, 0, 0.3));\n",
              "      fill: #FFFFFF;\n",
              "    }\n",
              "  </style>\n",
              "\n",
              "    <script>\n",
              "      const buttonEl =\n",
              "        document.querySelector('#df-65979806-6bf3-42ec-96c1-3d90655742b5 button.colab-df-convert');\n",
              "      buttonEl.style.display =\n",
              "        google.colab.kernel.accessAllowed ? 'block' : 'none';\n",
              "\n",
              "      async function convertToInteractive(key) {\n",
              "        const element = document.querySelector('#df-65979806-6bf3-42ec-96c1-3d90655742b5');\n",
              "        const dataTable =\n",
              "          await google.colab.kernel.invokeFunction('convertToInteractive',\n",
              "                                                    [key], {});\n",
              "        if (!dataTable) return;\n",
              "\n",
              "        const docLinkHtml = 'Like what you see? Visit the ' +\n",
              "          '<a target=\"_blank\" href=https://colab.research.google.com/notebooks/data_table.ipynb>data table notebook</a>'\n",
              "          + ' to learn more about interactive tables.';\n",
              "        element.innerHTML = '';\n",
              "        dataTable['output_type'] = 'display_data';\n",
              "        await google.colab.output.renderOutput(dataTable, element);\n",
              "        const docLink = document.createElement('div');\n",
              "        docLink.innerHTML = docLinkHtml;\n",
              "        element.appendChild(docLink);\n",
              "      }\n",
              "    </script>\n",
              "  </div>\n",
              "\n",
              "\n",
              "<div id=\"df-e7857aec-0eca-408b-be20-26bd1b261fbb\">\n",
              "  <button class=\"colab-df-quickchart\" onclick=\"quickchart('df-e7857aec-0eca-408b-be20-26bd1b261fbb')\"\n",
              "            title=\"Suggest charts\"\n",
              "            style=\"display:none;\">\n",
              "\n",
              "<svg xmlns=\"http://www.w3.org/2000/svg\" height=\"24px\"viewBox=\"0 0 24 24\"\n",
              "     width=\"24px\">\n",
              "    <g>\n",
              "        <path d=\"M19 3H5c-1.1 0-2 .9-2 2v14c0 1.1.9 2 2 2h14c1.1 0 2-.9 2-2V5c0-1.1-.9-2-2-2zM9 17H7v-7h2v7zm4 0h-2V7h2v10zm4 0h-2v-4h2v4z\"/>\n",
              "    </g>\n",
              "</svg>\n",
              "  </button>\n",
              "\n",
              "<style>\n",
              "  .colab-df-quickchart {\n",
              "      --bg-color: #E8F0FE;\n",
              "      --fill-color: #1967D2;\n",
              "      --hover-bg-color: #E2EBFA;\n",
              "      --hover-fill-color: #174EA6;\n",
              "      --disabled-fill-color: #AAA;\n",
              "      --disabled-bg-color: #DDD;\n",
              "  }\n",
              "\n",
              "  [theme=dark] .colab-df-quickchart {\n",
              "      --bg-color: #3B4455;\n",
              "      --fill-color: #D2E3FC;\n",
              "      --hover-bg-color: #434B5C;\n",
              "      --hover-fill-color: #FFFFFF;\n",
              "      --disabled-bg-color: #3B4455;\n",
              "      --disabled-fill-color: #666;\n",
              "  }\n",
              "\n",
              "  .colab-df-quickchart {\n",
              "    background-color: var(--bg-color);\n",
              "    border: none;\n",
              "    border-radius: 50%;\n",
              "    cursor: pointer;\n",
              "    display: none;\n",
              "    fill: var(--fill-color);\n",
              "    height: 32px;\n",
              "    padding: 0;\n",
              "    width: 32px;\n",
              "  }\n",
              "\n",
              "  .colab-df-quickchart:hover {\n",
              "    background-color: var(--hover-bg-color);\n",
              "    box-shadow: 0 1px 2px rgba(60, 64, 67, 0.3), 0 1px 3px 1px rgba(60, 64, 67, 0.15);\n",
              "    fill: var(--button-hover-fill-color);\n",
              "  }\n",
              "\n",
              "  .colab-df-quickchart-complete:disabled,\n",
              "  .colab-df-quickchart-complete:disabled:hover {\n",
              "    background-color: var(--disabled-bg-color);\n",
              "    fill: var(--disabled-fill-color);\n",
              "    box-shadow: none;\n",
              "  }\n",
              "\n",
              "  .colab-df-spinner {\n",
              "    border: 2px solid var(--fill-color);\n",
              "    border-color: transparent;\n",
              "    border-bottom-color: var(--fill-color);\n",
              "    animation:\n",
              "      spin 1s steps(1) infinite;\n",
              "  }\n",
              "\n",
              "  @keyframes spin {\n",
              "    0% {\n",
              "      border-color: transparent;\n",
              "      border-bottom-color: var(--fill-color);\n",
              "      border-left-color: var(--fill-color);\n",
              "    }\n",
              "    20% {\n",
              "      border-color: transparent;\n",
              "      border-left-color: var(--fill-color);\n",
              "      border-top-color: var(--fill-color);\n",
              "    }\n",
              "    30% {\n",
              "      border-color: transparent;\n",
              "      border-left-color: var(--fill-color);\n",
              "      border-top-color: var(--fill-color);\n",
              "      border-right-color: var(--fill-color);\n",
              "    }\n",
              "    40% {\n",
              "      border-color: transparent;\n",
              "      border-right-color: var(--fill-color);\n",
              "      border-top-color: var(--fill-color);\n",
              "    }\n",
              "    60% {\n",
              "      border-color: transparent;\n",
              "      border-right-color: var(--fill-color);\n",
              "    }\n",
              "    80% {\n",
              "      border-color: transparent;\n",
              "      border-right-color: var(--fill-color);\n",
              "      border-bottom-color: var(--fill-color);\n",
              "    }\n",
              "    90% {\n",
              "      border-color: transparent;\n",
              "      border-bottom-color: var(--fill-color);\n",
              "    }\n",
              "  }\n",
              "</style>\n",
              "\n",
              "  <script>\n",
              "    async function quickchart(key) {\n",
              "      const quickchartButtonEl =\n",
              "        document.querySelector('#' + key + ' button');\n",
              "      quickchartButtonEl.disabled = true;  // To prevent multiple clicks.\n",
              "      quickchartButtonEl.classList.add('colab-df-spinner');\n",
              "      try {\n",
              "        const charts = await google.colab.kernel.invokeFunction(\n",
              "            'suggestCharts', [key], {});\n",
              "      } catch (error) {\n",
              "        console.error('Error during call to suggestCharts:', error);\n",
              "      }\n",
              "      quickchartButtonEl.classList.remove('colab-df-spinner');\n",
              "      quickchartButtonEl.classList.add('colab-df-quickchart-complete');\n",
              "    }\n",
              "    (() => {\n",
              "      let quickchartButtonEl =\n",
              "        document.querySelector('#df-e7857aec-0eca-408b-be20-26bd1b261fbb button');\n",
              "      quickchartButtonEl.style.display =\n",
              "        google.colab.kernel.accessAllowed ? 'block' : 'none';\n",
              "    })();\n",
              "  </script>\n",
              "</div>\n",
              "    </div>\n",
              "  </div>\n"
            ],
            "application/vnd.google.colaboratory.intrinsic+json": {
              "type": "dataframe",
              "variable_name": "df_temp",
              "summary": "{\n  \"name\": \"df_temp\",\n  \"rows\": 181,\n  \"fields\": [\n    {\n      \"column\": \"review\",\n      \"properties\": {\n        \"dtype\": \"string\",\n        \"num_unique_values\": 167,\n        \"samples\": [\n          \"The fabric is too thin, quality not upto mark\",\n          \"This website shows that the Shirt is of pure cotton which is not after I receive the order I was surprised that the fabric was a mix of polyester not expected at all\",\n          \"Product quality is awesome. Everything is as expected in color and size.A must-buy product. Thanks Amazon.\"\n        ],\n        \"semantic_type\": \"\",\n        \"description\": \"\"\n      }\n    },\n    {\n      \"column\": \"y\",\n      \"properties\": {\n        \"dtype\": \"number\",\n        \"std\": 0,\n        \"min\": 0,\n        \"max\": 1,\n        \"num_unique_values\": 2,\n        \"samples\": [\n          0,\n          1\n        ],\n        \"semantic_type\": \"\",\n        \"description\": \"\"\n      }\n    },\n    {\n      \"column\": \"rating\",\n      \"properties\": {\n        \"dtype\": \"number\",\n        \"std\": 1,\n        \"min\": 1,\n        \"max\": 5,\n        \"num_unique_values\": 5,\n        \"samples\": [\n          4,\n          2\n        ],\n        \"semantic_type\": \"\",\n        \"description\": \"\"\n      }\n    }\n  ]\n}"
            }
          },
          "metadata": {},
          "execution_count": 23
        }
      ]
    },
    {
      "cell_type": "code",
      "source": [
        "df_temp.y.value_counts()"
      ],
      "metadata": {
        "colab": {
          "base_uri": "https://localhost:8080/"
        },
        "id": "ltdwBVWjKaDq",
        "outputId": "538c379e-f5da-4fb2-ecb9-2aeab0cfdc22"
      },
      "execution_count": null,
      "outputs": [
        {
          "output_type": "execute_result",
          "data": {
            "text/plain": [
              "y\n",
              "1    118\n",
              "0     63\n",
              "Name: count, dtype: int64"
            ]
          },
          "metadata": {},
          "execution_count": 24
        }
      ]
    },
    {
      "cell_type": "code",
      "source": [
        "import seaborn as sns\n",
        "\n",
        "sns.countplot(x = \"y\", data = df_temp)\n",
        "plt.show()"
      ],
      "metadata": {
        "colab": {
          "base_uri": "https://localhost:8080/",
          "height": 449
        },
        "id": "UAVu61gnMueZ",
        "outputId": "2ef3f99a-7759-404a-e353-f1d22232aa12"
      },
      "execution_count": null,
      "outputs": [
        {
          "output_type": "display_data",
          "data": {
            "text/plain": [
              "<Figure size 640x480 with 1 Axes>"
            ],
            "image/png": "[encoded data removed]"
          },
          "metadata": {}
        }
      ]
    },
    {
      "cell_type": "code",
      "source": [
        "df_temp.info()"
      ],
      "metadata": {
        "colab": {
          "base_uri": "https://localhost:8080/"
        },
        "id": "8_-WtSntNqQB",
        "outputId": "10e1d05c-b11b-46a9-f578-03590c884d1c"
      },
      "execution_count": null,
      "outputs": [
        {
          "output_type": "stream",
          "name": "stdout",
          "text": [
            "<class 'pandas.core.frame.DataFrame'>\n",
            "RangeIndex: 181 entries, 0 to 180\n",
            "Data columns (total 3 columns):\n",
            " #   Column  Non-Null Count  Dtype \n",
            "---  ------  --------------  ----- \n",
            " 0   review  178 non-null    object\n",
            " 1   y       181 non-null    int64 \n",
            " 2   rating  181 non-null    int64 \n",
            "dtypes: int64(2), object(1)\n",
            "memory usage: 4.4+ KB\n"
          ]
        }
      ]
    },
    {
      "cell_type": "code",
      "source": [
        "df = df_temp\n",
        "df.head()"
      ],
      "metadata": {
        "colab": {
          "base_uri": "https://localhost:8080/",
          "height": 206
        },
        "id": "zuZMNJqWOAir",
        "outputId": "0b54f3bc-c24f-40a9-c565-495d0b5f6eb1"
      },
      "execution_count": null,
      "outputs": [
        {
          "output_type": "execute_result",
          "data": {
            "text/plain": [
              "                                              review  y  rating\n",
              "0  Soft cloth. Fitting is good. Overall a great buy!  1       5\n",
              "1  Superb stich quality..fabric is on the shinier...  1       4\n",
              "2  I use to wear Louis Philippe Formal pants and ...  0       3\n",
              "3  1. The product is exactly the way it looks in ...  1       5\n",
              "4                    Used, altered and torn trouser.  0       1"
            ],
            "text/html": [
              "\n",
              "  <div id=\"df-a3b0c650-dcc7-4ed8-aa7b-6bbae47bc1dd\" class=\"colab-df-container\">\n",
              "    <div>\n",
              "<style scoped>\n",
              "    .dataframe tbody tr th:only-of-type {\n",
              "        vertical-align: middle;\n",
              "    }\n",
              "\n",
              "    .dataframe tbody tr th {\n",
              "        vertical-align: top;\n",
              "    }\n",
              "\n",
              "    .dataframe thead th {\n",
              "        text-align: right;\n",
              "    }\n",
              "</style>\n",
              "<table border=\"1\" class=\"dataframe\">\n",
              "  <thead>\n",
              "    <tr style=\"text-align: right;\">\n",
              "      <th></th>\n",
              "      <th>review</th>\n",
              "      <th>y</th>\n",
              "      <th>rating</th>\n",
              "    </tr>\n",
              "  </thead>\n",
              "  <tbody>\n",
              "    <tr>\n",
              "      <th>0</th>\n",
              "      <td>Soft cloth. Fitting is good. Overall a great buy!</td>\n",
              "      <td>1</td>\n",
              "      <td>5</td>\n",
              "    </tr>\n",
              "    <tr>\n",
              "      <th>1</th>\n",
              "      <td>Superb stich quality..fabric is on the shinier...</td>\n",
              "      <td>1</td>\n",
              "      <td>4</td>\n",
              "    </tr>\n",
              "    <tr>\n",
              "      <th>2</th>\n",
              "      <td>I use to wear Louis Philippe Formal pants and ...</td>\n",
              "      <td>0</td>\n",
              "      <td>3</td>\n",
              "    </tr>\n",
              "    <tr>\n",
              "      <th>3</th>\n",
              "      <td>1. The product is exactly the way it looks in ...</td>\n",
              "      <td>1</td>\n",
              "      <td>5</td>\n",
              "    </tr>\n",
              "    <tr>\n",
              "      <th>4</th>\n",
              "      <td>Used, altered and torn trouser.</td>\n",
              "      <td>0</td>\n",
              "      <td>1</td>\n",
              "    </tr>\n",
              "  </tbody>\n",
              "</table>\n",
              "</div>\n",
              "    <div class=\"colab-df-buttons\">\n",
              "\n",
              "  <div class=\"colab-df-container\">\n",
              "    <button class=\"colab-df-convert\" onclick=\"convertToInteractive('df-a3b0c650-dcc7-4ed8-aa7b-6bbae47bc1dd')\"\n",
              "            title=\"Convert this dataframe to an interactive table.\"\n",
              "            style=\"display:none;\">\n",
              "\n",
              "  <svg xmlns=\"http://www.w3.org/2000/svg\" height=\"24px\" viewBox=\"0 -960 960 960\">\n",
              "    <path d=\"M120-120v-720h720v720H120Zm60-500h600v-160H180v160Zm220 220h160v-160H400v160Zm0 220h160v-160H400v160ZM180-400h160v-160H180v160Zm440 0h160v-160H620v160ZM180-180h160v-160H180v160Zm440 0h160v-160H620v160Z\"/>\n",
              "  </svg>\n",
              "    </button>\n",
              "\n",
              "  <style>\n",
              "    .colab-df-container {\n",
              "      display:flex;\n",
              "      gap: 12px;\n",
              "    }\n",
              "\n",
              "    .colab-df-convert {\n",
              "      background-color: #E8F0FE;\n",
              "      border: none;\n",
              "      border-radius: 50%;\n",
              "      cursor: pointer;\n",
              "      display: none;\n",
              "      fill: #1967D2;\n",
              "      height: 32px;\n",
              "      padding: 0 0 0 0;\n",
              "      width: 32px;\n",
              "    }\n",
              "\n",
              "    .colab-df-convert:hover {\n",
              "      background-color: #E2EBFA;\n",
              "      box-shadow: 0px 1px 2px rgba(60, 64, 67, 0.3), 0px 1px 3px 1px rgba(60, 64, 67, 0.15);\n",
              "      fill: #174EA6;\n",
              "    }\n",
              "\n",
              "    .colab-df-buttons div {\n",
              "      margin-bottom: 4px;\n",
              "    }\n",
              "\n",
              "    [theme=dark] .colab-df-convert {\n",
              "      background-color: #3B4455;\n",
              "      fill: #D2E3FC;\n",
              "    }\n",
              "\n",
              "    [theme=dark] .colab-df-convert:hover {\n",
              "      background-color: #434B5C;\n",
              "      box-shadow: 0px 1px 3px 1px rgba(0, 0, 0, 0.15);\n",
              "      filter: drop-shadow(0px 1px 2px rgba(0, 0, 0, 0.3));\n",
              "      fill: #FFFFFF;\n",
              "    }\n",
              "  </style>\n",
              "\n",
              "    <script>\n",
              "      const buttonEl =\n",
              "        document.querySelector('#df-a3b0c650-dcc7-4ed8-aa7b-6bbae47bc1dd button.colab-df-convert');\n",
              "      buttonEl.style.display =\n",
              "        google.colab.kernel.accessAllowed ? 'block' : 'none';\n",
              "\n",
              "      async function convertToInteractive(key) {\n",
              "        const element = document.querySelector('#df-a3b0c650-dcc7-4ed8-aa7b-6bbae47bc1dd');\n",
              "        const dataTable =\n",
              "          await google.colab.kernel.invokeFunction('convertToInteractive',\n",
              "                                                    [key], {});\n",
              "        if (!dataTable) return;\n",
              "\n",
              "        const docLinkHtml = 'Like what you see? Visit the ' +\n",
              "          '<a target=\"_blank\" href=https://colab.research.google.com/notebooks/data_table.ipynb>data table notebook</a>'\n",
              "          + ' to learn more about interactive tables.';\n",
              "        element.innerHTML = '';\n",
              "        dataTable['output_type'] = 'display_data';\n",
              "        await google.colab.output.renderOutput(dataTable, element);\n",
              "        const docLink = document.createElement('div');\n",
              "        docLink.innerHTML = docLinkHtml;\n",
              "        element.appendChild(docLink);\n",
              "      }\n",
              "    </script>\n",
              "  </div>\n",
              "\n",
              "\n",
              "<div id=\"df-9df796c5-0c82-4d4c-9669-b547b6637873\">\n",
              "  <button class=\"colab-df-quickchart\" onclick=\"quickchart('df-9df796c5-0c82-4d4c-9669-b547b6637873')\"\n",
              "            title=\"Suggest charts\"\n",
              "            style=\"display:none;\">\n",
              "\n",
              "<svg xmlns=\"http://www.w3.org/2000/svg\" height=\"24px\"viewBox=\"0 0 24 24\"\n",
              "     width=\"24px\">\n",
              "    <g>\n",
              "        <path d=\"M19 3H5c-1.1 0-2 .9-2 2v14c0 1.1.9 2 2 2h14c1.1 0 2-.9 2-2V5c0-1.1-.9-2-2-2zM9 17H7v-7h2v7zm4 0h-2V7h2v10zm4 0h-2v-4h2v4z\"/>\n",
              "    </g>\n",
              "</svg>\n",
              "  </button>\n",
              "\n",
              "<style>\n",
              "  .colab-df-quickchart {\n",
              "      --bg-color: #E8F0FE;\n",
              "      --fill-color: #1967D2;\n",
              "      --hover-bg-color: #E2EBFA;\n",
              "      --hover-fill-color: #174EA6;\n",
              "      --disabled-fill-color: #AAA;\n",
              "      --disabled-bg-color: #DDD;\n",
              "  }\n",
              "\n",
              "  [theme=dark] .colab-df-quickchart {\n",
              "      --bg-color: #3B4455;\n",
              "      --fill-color: #D2E3FC;\n",
              "      --hover-bg-color: #434B5C;\n",
              "      --hover-fill-color: #FFFFFF;\n",
              "      --disabled-bg-color: #3B4455;\n",
              "      --disabled-fill-color: #666;\n",
              "  }\n",
              "\n",
              "  .colab-df-quickchart {\n",
              "    background-color: var(--bg-color);\n",
              "    border: none;\n",
              "    border-radius: 50%;\n",
              "    cursor: pointer;\n",
              "    display: none;\n",
              "    fill: var(--fill-color);\n",
              "    height: 32px;\n",
              "    padding: 0;\n",
              "    width: 32px;\n",
              "  }\n",
              "\n",
              "  .colab-df-quickchart:hover {\n",
              "    background-color: var(--hover-bg-color);\n",
              "    box-shadow: 0 1px 2px rgba(60, 64, 67, 0.3), 0 1px 3px 1px rgba(60, 64, 67, 0.15);\n",
              "    fill: var(--button-hover-fill-color);\n",
              "  }\n",
              "\n",
              "  .colab-df-quickchart-complete:disabled,\n",
              "  .colab-df-quickchart-complete:disabled:hover {\n",
              "    background-color: var(--disabled-bg-color);\n",
              "    fill: var(--disabled-fill-color);\n",
              "    box-shadow: none;\n",
              "  }\n",
              "\n",
              "  .colab-df-spinner {\n",
              "    border: 2px solid var(--fill-color);\n",
              "    border-color: transparent;\n",
              "    border-bottom-color: var(--fill-color);\n",
              "    animation:\n",
              "      spin 1s steps(1) infinite;\n",
              "  }\n",
              "\n",
              "  @keyframes spin {\n",
              "    0% {\n",
              "      border-color: transparent;\n",
              "      border-bottom-color: var(--fill-color);\n",
              "      border-left-color: var(--fill-color);\n",
              "    }\n",
              "    20% {\n",
              "      border-color: transparent;\n",
              "      border-left-color: var(--fill-color);\n",
              "      border-top-color: var(--fill-color);\n",
              "    }\n",
              "    30% {\n",
              "      border-color: transparent;\n",
              "      border-left-color: var(--fill-color);\n",
              "      border-top-color: var(--fill-color);\n",
              "      border-right-color: var(--fill-color);\n",
              "    }\n",
              "    40% {\n",
              "      border-color: transparent;\n",
              "      border-right-color: var(--fill-color);\n",
              "      border-top-color: var(--fill-color);\n",
              "    }\n",
              "    60% {\n",
              "      border-color: transparent;\n",
              "      border-right-color: var(--fill-color);\n",
              "    }\n",
              "    80% {\n",
              "      border-color: transparent;\n",
              "      border-right-color: var(--fill-color);\n",
              "      border-bottom-color: var(--fill-color);\n",
              "    }\n",
              "    90% {\n",
              "      border-color: transparent;\n",
              "      border-bottom-color: var(--fill-color);\n",
              "    }\n",
              "  }\n",
              "</style>\n",
              "\n",
              "  <script>\n",
              "    async function quickchart(key) {\n",
              "      const quickchartButtonEl =\n",
              "        document.querySelector('#' + key + ' button');\n",
              "      quickchartButtonEl.disabled = true;  // To prevent multiple clicks.\n",
              "      quickchartButtonEl.classList.add('colab-df-spinner');\n",
              "      try {\n",
              "        const charts = await google.colab.kernel.invokeFunction(\n",
              "            'suggestCharts', [key], {});\n",
              "      } catch (error) {\n",
              "        console.error('Error during call to suggestCharts:', error);\n",
              "      }\n",
              "      quickchartButtonEl.classList.remove('colab-df-spinner');\n",
              "      quickchartButtonEl.classList.add('colab-df-quickchart-complete');\n",
              "    }\n",
              "    (() => {\n",
              "      let quickchartButtonEl =\n",
              "        document.querySelector('#df-9df796c5-0c82-4d4c-9669-b547b6637873 button');\n",
              "      quickchartButtonEl.style.display =\n",
              "        google.colab.kernel.accessAllowed ? 'block' : 'none';\n",
              "    })();\n",
              "  </script>\n",
              "</div>\n",
              "    </div>\n",
              "  </div>\n"
            ],
            "application/vnd.google.colaboratory.intrinsic+json": {
              "type": "dataframe",
              "variable_name": "df",
              "summary": "{\n  \"name\": \"df\",\n  \"rows\": 181,\n  \"fields\": [\n    {\n      \"column\": \"review\",\n      \"properties\": {\n        \"dtype\": \"string\",\n        \"num_unique_values\": 167,\n        \"samples\": [\n          \"The fabric is too thin, quality not upto mark\",\n          \"This website shows that the Shirt is of pure cotton which is not after I receive the order I was surprised that the fabric was a mix of polyester not expected at all\",\n          \"Product quality is awesome. Everything is as expected in color and size.A must-buy product. Thanks Amazon.\"\n        ],\n        \"semantic_type\": \"\",\n        \"description\": \"\"\n      }\n    },\n    {\n      \"column\": \"y\",\n      \"properties\": {\n        \"dtype\": \"number\",\n        \"std\": 0,\n        \"min\": 0,\n        \"max\": 1,\n        \"num_unique_values\": 2,\n        \"samples\": [\n          0,\n          1\n        ],\n        \"semantic_type\": \"\",\n        \"description\": \"\"\n      }\n    },\n    {\n      \"column\": \"rating\",\n      \"properties\": {\n        \"dtype\": \"number\",\n        \"std\": 1,\n        \"min\": 1,\n        \"max\": 5,\n        \"num_unique_values\": 5,\n        \"samples\": [\n          4,\n          2\n        ],\n        \"semantic_type\": \"\",\n        \"description\": \"\"\n      }\n    }\n  ]\n}"
            }
          },
          "metadata": {},
          "execution_count": 27
        }
      ]
    },
    {
      "cell_type": "code",
      "source": [
        "def preprocessing(text):\n",
        "\n",
        "    text = remove_url(text)\n",
        "    text = handle_emoji(text)\n",
        "    text = text.lower()\n",
        "    text = re.sub(r'[^\\w\\s]', '', text)\n",
        "    text = word_tokenizer(text)\n",
        "    text = stemming(text)\n",
        "    text = lemmatization(text)\n",
        "    text = remove_stopwords(text)\n",
        "    text = \" \".join(text)\n",
        "\n",
        "    return text"
      ],
      "metadata": {
        "id": "CcVwOZgJOCys"
      },
      "execution_count": null,
      "outputs": []
    },
    {
      "cell_type": "code",
      "source": [
        "# Replace empty values in the 'Body' column with \"No review provided\"\n",
        "df['review'].fillna(\"No review provided\", inplace=True)"
      ],
      "metadata": {
        "id": "LdVrdX2ka5p9"
      },
      "execution_count": null,
      "outputs": []
    },
    {
      "cell_type": "code",
      "source": [
        "from tqdm import tqdm\n",
        "\n",
        "tqdm.pandas()\n",
        "\n",
        "df['clean_review'] = df['review'].progress_map(preprocessing)"
      ],
      "metadata": {
        "colab": {
          "base_uri": "https://localhost:8080/"
        },
        "id": "3DtwKZ63OIg5",
        "outputId": "d0502ec1-9ae0-4ccc-9ac3-aed7a9410d80"
      },
      "execution_count": null,
      "outputs": [
        {
          "output_type": "stream",
          "name": "stderr",
          "text": [
            "100%|██████████| 181/181 [00:02<00:00, 69.13it/s] \n"
          ]
        }
      ]
    },
    {
      "cell_type": "code",
      "source": [
        "df.head()"
      ],
      "metadata": {
        "colab": {
          "base_uri": "https://localhost:8080/",
          "height": 206
        },
        "id": "a3-lXUL_PeiC",
        "outputId": "92bb4d47-a6b1-4c32-8873-00d984fd36d2"
      },
      "execution_count": null,
      "outputs": [
        {
          "output_type": "execute_result",
          "data": {
            "text/plain": [
              "                                              review  y  rating  \\\n",
              "0  Soft cloth. Fitting is good. Overall a great buy!  1       5   \n",
              "1  Superb stich quality..fabric is on the shinier...  1       4   \n",
              "2  I use to wear Louis Philippe Formal pants and ...  0       3   \n",
              "3  1. The product is exactly the way it looks in ...  1       5   \n",
              "4                    Used, altered and torn trouser.  0       1   \n",
              "\n",
              "                                        clean_review  \n",
              "0               soft cloth fit good overal great buy  \n",
              "1  superb stich qualityfabr shinier side overal love  \n",
              "2  I use wear loui philipp formal pant fit good h...  \n",
              "3  1 product exactli way look pic2 materi durable...  \n",
              "4                             use alter tear trouser  "
            ],
            "text/html": [
              "\n",
              "  <div id=\"df-393c0c49-0ab6-439b-a875-f075dc119131\" class=\"colab-df-container\">\n",
              "    <div>\n",
              "<style scoped>\n",
              "    .dataframe tbody tr th:only-of-type {\n",
              "        vertical-align: middle;\n",
              "    }\n",
              "\n",
              "    .dataframe tbody tr th {\n",
              "        vertical-align: top;\n",
              "    }\n",
              "\n",
              "    .dataframe thead th {\n",
              "        text-align: right;\n",
              "    }\n",
              "</style>\n",
              "<table border=\"1\" class=\"dataframe\">\n",
              "  <thead>\n",
              "    <tr style=\"text-align: right;\">\n",
              "      <th></th>\n",
              "      <th>review</th>\n",
              "      <th>y</th>\n",
              "      <th>rating</th>\n",
              "      <th>clean_review</th>\n",
              "    </tr>\n",
              "  </thead>\n",
              "  <tbody>\n",
              "    <tr>\n",
              "      <th>0</th>\n",
              "      <td>Soft cloth. Fitting is good. Overall a great buy!</td>\n",
              "      <td>1</td>\n",
              "      <td>5</td>\n",
              "      <td>soft cloth fit good overal great buy</td>\n",
              "    </tr>\n",
              "    <tr>\n",
              "      <th>1</th>\n",
              "      <td>Superb stich quality..fabric is on the shinier...</td>\n",
              "      <td>1</td>\n",
              "      <td>4</td>\n",
              "      <td>superb stich qualityfabr shinier side overal love</td>\n",
              "    </tr>\n",
              "    <tr>\n",
              "      <th>2</th>\n",
              "      <td>I use to wear Louis Philippe Formal pants and ...</td>\n",
              "      <td>0</td>\n",
              "      <td>3</td>\n",
              "      <td>I use wear loui philipp formal pant fit good h...</td>\n",
              "    </tr>\n",
              "    <tr>\n",
              "      <th>3</th>\n",
              "      <td>1. The product is exactly the way it looks in ...</td>\n",
              "      <td>1</td>\n",
              "      <td>5</td>\n",
              "      <td>1 product exactli way look pic2 materi durable...</td>\n",
              "    </tr>\n",
              "    <tr>\n",
              "      <th>4</th>\n",
              "      <td>Used, altered and torn trouser.</td>\n",
              "      <td>0</td>\n",
              "      <td>1</td>\n",
              "      <td>use alter tear trouser</td>\n",
              "    </tr>\n",
              "  </tbody>\n",
              "</table>\n",
              "</div>\n",
              "    <div class=\"colab-df-buttons\">\n",
              "\n",
              "  <div class=\"colab-df-container\">\n",
              "    <button class=\"colab-df-convert\" onclick=\"convertToInteractive('df-393c0c49-0ab6-439b-a875-f075dc119131')\"\n",
              "            title=\"Convert this dataframe to an interactive table.\"\n",
              "            style=\"display:none;\">\n",
              "\n",
              "  <svg xmlns=\"http://www.w3.org/2000/svg\" height=\"24px\" viewBox=\"0 -960 960 960\">\n",
              "    <path d=\"M120-120v-720h720v720H120Zm60-500h600v-160H180v160Zm220 220h160v-160H400v160Zm0 220h160v-160H400v160ZM180-400h160v-160H180v160Zm440 0h160v-160H620v160ZM180-180h160v-160H180v160Zm440 0h160v-160H620v160Z\"/>\n",
              "  </svg>\n",
              "    </button>\n",
              "\n",
              "  <style>\n",
              "    .colab-df-container {\n",
              "      display:flex;\n",
              "      gap: 12px;\n",
              "    }\n",
              "\n",
              "    .colab-df-convert {\n",
              "      background-color: #E8F0FE;\n",
              "      border: none;\n",
              "      border-radius: 50%;\n",
              "      cursor: pointer;\n",
              "      display: none;\n",
              "      fill: #1967D2;\n",
              "      height: 32px;\n",
              "      padding: 0 0 0 0;\n",
              "      width: 32px;\n",
              "    }\n",
              "\n",
              "    .colab-df-convert:hover {\n",
              "      background-color: #E2EBFA;\n",
              "      box-shadow: 0px 1px 2px rgba(60, 64, 67, 0.3), 0px 1px 3px 1px rgba(60, 64, 67, 0.15);\n",
              "      fill: #174EA6;\n",
              "    }\n",
              "\n",
              "    .colab-df-buttons div {\n",
              "      margin-bottom: 4px;\n",
              "    }\n",
              "\n",
              "    [theme=dark] .colab-df-convert {\n",
              "      background-color: #3B4455;\n",
              "      fill: #D2E3FC;\n",
              "    }\n",
              "\n",
              "    [theme=dark] .colab-df-convert:hover {\n",
              "      background-color: #434B5C;\n",
              "      box-shadow: 0px 1px 3px 1px rgba(0, 0, 0, 0.15);\n",
              "      filter: drop-shadow(0px 1px 2px rgba(0, 0, 0, 0.3));\n",
              "      fill: #FFFFFF;\n",
              "    }\n",
              "  </style>\n",
              "\n",
              "    <script>\n",
              "      const buttonEl =\n",
              "        document.querySelector('#df-393c0c49-0ab6-439b-a875-f075dc119131 button.colab-df-convert');\n",
              "      buttonEl.style.display =\n",
              "        google.colab.kernel.accessAllowed ? 'block' : 'none';\n",
              "\n",
              "      async function convertToInteractive(key) {\n",
              "        const element = document.querySelector('#df-393c0c49-0ab6-439b-a875-f075dc119131');\n",
              "        const dataTable =\n",
              "          await google.colab.kernel.invokeFunction('convertToInteractive',\n",
              "                                                    [key], {});\n",
              "        if (!dataTable) return;\n",
              "\n",
              "        const docLinkHtml = 'Like what you see? Visit the ' +\n",
              "          '<a target=\"_blank\" href=https://colab.research.google.com/notebooks/data_table.ipynb>data table notebook</a>'\n",
              "          + ' to learn more about interactive tables.';\n",
              "        element.innerHTML = '';\n",
              "        dataTable['output_type'] = 'display_data';\n",
              "        await google.colab.output.renderOutput(dataTable, element);\n",
              "        const docLink = document.createElement('div');\n",
              "        docLink.innerHTML = docLinkHtml;\n",
              "        element.appendChild(docLink);\n",
              "      }\n",
              "    </script>\n",
              "  </div>\n",
              "\n",
              "\n",
              "<div id=\"df-87fd772f-1a1d-4439-8b7f-c0af067c765d\">\n",
              "  <button class=\"colab-df-quickchart\" onclick=\"quickchart('df-87fd772f-1a1d-4439-8b7f-c0af067c765d')\"\n",
              "            title=\"Suggest charts\"\n",
              "            style=\"display:none;\">\n",
              "\n",
              "<svg xmlns=\"http://www.w3.org/2000/svg\" height=\"24px\"viewBox=\"0 0 24 24\"\n",
              "     width=\"24px\">\n",
              "    <g>\n",
              "        <path d=\"M19 3H5c-1.1 0-2 .9-2 2v14c0 1.1.9 2 2 2h14c1.1 0 2-.9 2-2V5c0-1.1-.9-2-2-2zM9 17H7v-7h2v7zm4 0h-2V7h2v10zm4 0h-2v-4h2v4z\"/>\n",
              "    </g>\n",
              "</svg>\n",
              "  </button>\n",
              "\n",
              "<style>\n",
              "  .colab-df-quickchart {\n",
              "      --bg-color: #E8F0FE;\n",
              "      --fill-color: #1967D2;\n",
              "      --hover-bg-color: #E2EBFA;\n",
              "      --hover-fill-color: #174EA6;\n",
              "      --disabled-fill-color: #AAA;\n",
              "      --disabled-bg-color: #DDD;\n",
              "  }\n",
              "\n",
              "  [theme=dark] .colab-df-quickchart {\n",
              "      --bg-color: #3B4455;\n",
              "      --fill-color: #D2E3FC;\n",
              "      --hover-bg-color: #434B5C;\n",
              "      --hover-fill-color: #FFFFFF;\n",
              "      --disabled-bg-color: #3B4455;\n",
              "      --disabled-fill-color: #666;\n",
              "  }\n",
              "\n",
              "  .colab-df-quickchart {\n",
              "    background-color: var(--bg-color);\n",
              "    border: none;\n",
              "    border-radius: 50%;\n",
              "    cursor: pointer;\n",
              "    display: none;\n",
              "    fill: var(--fill-color);\n",
              "    height: 32px;\n",
              "    padding: 0;\n",
              "    width: 32px;\n",
              "  }\n",
              "\n",
              "  .colab-df-quickchart:hover {\n",
              "    background-color: var(--hover-bg-color);\n",
              "    box-shadow: 0 1px 2px rgba(60, 64, 67, 0.3), 0 1px 3px 1px rgba(60, 64, 67, 0.15);\n",
              "    fill: var(--button-hover-fill-color);\n",
              "  }\n",
              "\n",
              "  .colab-df-quickchart-complete:disabled,\n",
              "  .colab-df-quickchart-complete:disabled:hover {\n",
              "    background-color: var(--disabled-bg-color);\n",
              "    fill: var(--disabled-fill-color);\n",
              "    box-shadow: none;\n",
              "  }\n",
              "\n",
              "  .colab-df-spinner {\n",
              "    border: 2px solid var(--fill-color);\n",
              "    border-color: transparent;\n",
              "    border-bottom-color: var(--fill-color);\n",
              "    animation:\n",
              "      spin 1s steps(1) infinite;\n",
              "  }\n",
              "\n",
              "  @keyframes spin {\n",
              "    0% {\n",
              "      border-color: transparent;\n",
              "      border-bottom-color: var(--fill-color);\n",
              "      border-left-color: var(--fill-color);\n",
              "    }\n",
              "    20% {\n",
              "      border-color: transparent;\n",
              "      border-left-color: var(--fill-color);\n",
              "      border-top-color: var(--fill-color);\n",
              "    }\n",
              "    30% {\n",
              "      border-color: transparent;\n",
              "      border-left-color: var(--fill-color);\n",
              "      border-top-color: var(--fill-color);\n",
              "      border-right-color: var(--fill-color);\n",
              "    }\n",
              "    40% {\n",
              "      border-color: transparent;\n",
              "      border-right-color: var(--fill-color);\n",
              "      border-top-color: var(--fill-color);\n",
              "    }\n",
              "    60% {\n",
              "      border-color: transparent;\n",
              "      border-right-color: var(--fill-color);\n",
              "    }\n",
              "    80% {\n",
              "      border-color: transparent;\n",
              "      border-right-color: var(--fill-color);\n",
              "      border-bottom-color: var(--fill-color);\n",
              "    }\n",
              "    90% {\n",
              "      border-color: transparent;\n",
              "      border-bottom-color: var(--fill-color);\n",
              "    }\n",
              "  }\n",
              "</style>\n",
              "\n",
              "  <script>\n",
              "    async function quickchart(key) {\n",
              "      const quickchartButtonEl =\n",
              "        document.querySelector('#' + key + ' button');\n",
              "      quickchartButtonEl.disabled = true;  // To prevent multiple clicks.\n",
              "      quickchartButtonEl.classList.add('colab-df-spinner');\n",
              "      try {\n",
              "        const charts = await google.colab.kernel.invokeFunction(\n",
              "            'suggestCharts', [key], {});\n",
              "      } catch (error) {\n",
              "        console.error('Error during call to suggestCharts:', error);\n",
              "      }\n",
              "      quickchartButtonEl.classList.remove('colab-df-spinner');\n",
              "      quickchartButtonEl.classList.add('colab-df-quickchart-complete');\n",
              "    }\n",
              "    (() => {\n",
              "      let quickchartButtonEl =\n",
              "        document.querySelector('#df-87fd772f-1a1d-4439-8b7f-c0af067c765d button');\n",
              "      quickchartButtonEl.style.display =\n",
              "        google.colab.kernel.accessAllowed ? 'block' : 'none';\n",
              "    })();\n",
              "  </script>\n",
              "</div>\n",
              "    </div>\n",
              "  </div>\n"
            ],
            "application/vnd.google.colaboratory.intrinsic+json": {
              "type": "dataframe",
              "variable_name": "df",
              "summary": "{\n  \"name\": \"df\",\n  \"rows\": 181,\n  \"fields\": [\n    {\n      \"column\": \"review\",\n      \"properties\": {\n        \"dtype\": \"string\",\n        \"num_unique_values\": 168,\n        \"samples\": [\n          \"Doesn't look geniune product\",\n          \"Good quality trouser from Ven Heusen.\",\n          \"The shirt is not of good quality... These type of quality can be purchased at below rs 400... Don't purchase if it's more than that. It's not worth the money\"\n        ],\n        \"semantic_type\": \"\",\n        \"description\": \"\"\n      }\n    },\n    {\n      \"column\": \"y\",\n      \"properties\": {\n        \"dtype\": \"number\",\n        \"std\": 0,\n        \"min\": 0,\n        \"max\": 1,\n        \"num_unique_values\": 2,\n        \"samples\": [\n          0,\n          1\n        ],\n        \"semantic_type\": \"\",\n        \"description\": \"\"\n      }\n    },\n    {\n      \"column\": \"rating\",\n      \"properties\": {\n        \"dtype\": \"number\",\n        \"std\": 1,\n        \"min\": 1,\n        \"max\": 5,\n        \"num_unique_values\": 5,\n        \"samples\": [\n          4,\n          2\n        ],\n        \"semantic_type\": \"\",\n        \"description\": \"\"\n      }\n    },\n    {\n      \"column\": \"clean_review\",\n      \"properties\": {\n        \"dtype\": \"string\",\n        \"num_unique_values\": 164,\n        \"samples\": [\n          \"per brand price meet expect dure 1st wear stretch right hand get come\",\n          \"shirt good qualiti type qualiti purchas rs 400 purchas worth money\"\n        ],\n        \"semantic_type\": \"\",\n        \"description\": \"\"\n      }\n    }\n  ]\n}"
            }
          },
          "metadata": {},
          "execution_count": 31
        }
      ]
    },
    {
      "cell_type": "code",
      "source": [
        "reviews = df.clean_review.values.tolist()"
      ],
      "metadata": {
        "id": "Amq5sKZHPs8y"
      },
      "execution_count": null,
      "outputs": []
    },
    {
      "cell_type": "code",
      "source": [
        "from tqdm import tqdm\n",
        "\n",
        "tqdm.pandas()\n",
        "\n",
        "df['clean_review2'] = df['clean_review'].progress_map(word_tokenizer)"
      ],
      "metadata": {
        "colab": {
          "base_uri": "https://localhost:8080/"
        },
        "id": "3BQeyEqjPw2g",
        "outputId": "f1631b50-24e6-4011-c69c-5e746af0c5d7"
      },
      "execution_count": null,
      "outputs": [
        {
          "output_type": "stream",
          "name": "stderr",
          "text": [
            "100%|██████████| 181/181 [00:00<00:00, 155695.04it/s]\n"
          ]
        }
      ]
    },
    {
      "cell_type": "code",
      "source": [
        "df.head()"
      ],
      "metadata": {
        "colab": {
          "base_uri": "https://localhost:8080/",
          "height": 206
        },
        "id": "flXA1hSSP0Bk",
        "outputId": "629ea421-f2e2-4be2-db0f-c1e7c05f1b8a"
      },
      "execution_count": null,
      "outputs": [
        {
          "output_type": "execute_result",
          "data": {
            "text/plain": [
              "                                              review  y  rating  \\\n",
              "0  Soft cloth. Fitting is good. Overall a great buy!  1       5   \n",
              "1  Superb stich quality..fabric is on the shinier...  1       4   \n",
              "2  I use to wear Louis Philippe Formal pants and ...  0       3   \n",
              "3  1. The product is exactly the way it looks in ...  1       5   \n",
              "4                    Used, altered and torn trouser.  0       1   \n",
              "\n",
              "                                        clean_review  \\\n",
              "0               soft cloth fit good overal great buy   \n",
              "1  superb stich qualityfabr shinier side overal love   \n",
              "2  I use wear loui philipp formal pant fit good h...   \n",
              "3  1 product exactli way look pic2 materi durable...   \n",
              "4                             use alter tear trouser   \n",
              "\n",
              "                                       clean_review2  \n",
              "0       [soft, cloth, fit, good, overal, great, buy]  \n",
              "1  [superb, stich, qualityfabr, shinier, side, ov...  \n",
              "2  [i, use, wear, loui, philipp, formal, pant, fi...  \n",
              "3  [1, product, exactli, way, look, pic2, materi,...  \n",
              "4                        [use, alter, tear, trouser]  "
            ],
            "text/html": [
              "\n",
              "  <div id=\"df-95d2d1b5-3ba3-4950-b3e1-133efa4ebb34\" class=\"colab-df-container\">\n",
              "    <div>\n",
              "<style scoped>\n",
              "    .dataframe tbody tr th:only-of-type {\n",
              "        vertical-align: middle;\n",
              "    }\n",
              "\n",
              "    .dataframe tbody tr th {\n",
              "        vertical-align: top;\n",
              "    }\n",
              "\n",
              "    .dataframe thead th {\n",
              "        text-align: right;\n",
              "    }\n",
              "</style>\n",
              "<table border=\"1\" class=\"dataframe\">\n",
              "  <thead>\n",
              "    <tr style=\"text-align: right;\">\n",
              "      <th></th>\n",
              "      <th>review</th>\n",
              "      <th>y</th>\n",
              "      <th>rating</th>\n",
              "      <th>clean_review</th>\n",
              "      <th>clean_review2</th>\n",
              "    </tr>\n",
              "  </thead>\n",
              "  <tbody>\n",
              "    <tr>\n",
              "      <th>0</th>\n",
              "      <td>Soft cloth. Fitting is good. Overall a great buy!</td>\n",
              "      <td>1</td>\n",
              "      <td>5</td>\n",
              "      <td>soft cloth fit good overal great buy</td>\n",
              "      <td>[soft, cloth, fit, good, overal, great, buy]</td>\n",
              "    </tr>\n",
              "    <tr>\n",
              "      <th>1</th>\n",
              "      <td>Superb stich quality..fabric is on the shinier...</td>\n",
              "      <td>1</td>\n",
              "      <td>4</td>\n",
              "      <td>superb stich qualityfabr shinier side overal love</td>\n",
              "      <td>[superb, stich, qualityfabr, shinier, side, ov...</td>\n",
              "    </tr>\n",
              "    <tr>\n",
              "      <th>2</th>\n",
              "      <td>I use to wear Louis Philippe Formal pants and ...</td>\n",
              "      <td>0</td>\n",
              "      <td>3</td>\n",
              "      <td>I use wear loui philipp formal pant fit good h...</td>\n",
              "      <td>[i, use, wear, loui, philipp, formal, pant, fi...</td>\n",
              "    </tr>\n",
              "    <tr>\n",
              "      <th>3</th>\n",
              "      <td>1. The product is exactly the way it looks in ...</td>\n",
              "      <td>1</td>\n",
              "      <td>5</td>\n",
              "      <td>1 product exactli way look pic2 materi durable...</td>\n",
              "      <td>[1, product, exactli, way, look, pic2, materi,...</td>\n",
              "    </tr>\n",
              "    <tr>\n",
              "      <th>4</th>\n",
              "      <td>Used, altered and torn trouser.</td>\n",
              "      <td>0</td>\n",
              "      <td>1</td>\n",
              "      <td>use alter tear trouser</td>\n",
              "      <td>[use, alter, tear, trouser]</td>\n",
              "    </tr>\n",
              "  </tbody>\n",
              "</table>\n",
              "</div>\n",
              "    <div class=\"colab-df-buttons\">\n",
              "\n",
              "  <div class=\"colab-df-container\">\n",
              "    <button class=\"colab-df-convert\" onclick=\"convertToInteractive('df-95d2d1b5-3ba3-4950-b3e1-133efa4ebb34')\"\n",
              "            title=\"Convert this dataframe to an interactive table.\"\n",
              "            style=\"display:none;\">\n",
              "\n",
              "  <svg xmlns=\"http://www.w3.org/2000/svg\" height=\"24px\" viewBox=\"0 -960 960 960\">\n",
              "    <path d=\"M120-120v-720h720v720H120Zm60-500h600v-160H180v160Zm220 220h160v-160H400v160Zm0 220h160v-160H400v160ZM180-400h160v-160H180v160Zm440 0h160v-160H620v160ZM180-180h160v-160H180v160Zm440 0h160v-160H620v160Z\"/>\n",
              "  </svg>\n",
              "    </button>\n",
              "\n",
              "  <style>\n",
              "    .colab-df-container {\n",
              "      display:flex;\n",
              "      gap: 12px;\n",
              "    }\n",
              "\n",
              "    .colab-df-convert {\n",
              "      background-color: #E8F0FE;\n",
              "      border: none;\n",
              "      border-radius: 50%;\n",
              "      cursor: pointer;\n",
              "      display: none;\n",
              "      fill: #1967D2;\n",
              "      height: 32px;\n",
              "      padding: 0 0 0 0;\n",
              "      width: 32px;\n",
              "    }\n",
              "\n",
              "    .colab-df-convert:hover {\n",
              "      background-color: #E2EBFA;\n",
              "      box-shadow: 0px 1px 2px rgba(60, 64, 67, 0.3), 0px 1px 3px 1px rgba(60, 64, 67, 0.15);\n",
              "      fill: #174EA6;\n",
              "    }\n",
              "\n",
              "    .colab-df-buttons div {\n",
              "      margin-bottom: 4px;\n",
              "    }\n",
              "\n",
              "    [theme=dark] .colab-df-convert {\n",
              "      background-color: #3B4455;\n",
              "      fill: #D2E3FC;\n",
              "    }\n",
              "\n",
              "    [theme=dark] .colab-df-convert:hover {\n",
              "      background-color: #434B5C;\n",
              "      box-shadow: 0px 1px 3px 1px rgba(0, 0, 0, 0.15);\n",
              "      filter: drop-shadow(0px 1px 2px rgba(0, 0, 0, 0.3));\n",
              "      fill: #FFFFFF;\n",
              "    }\n",
              "  </style>\n",
              "\n",
              "    <script>\n",
              "      const buttonEl =\n",
              "        document.querySelector('#df-95d2d1b5-3ba3-4950-b3e1-133efa4ebb34 button.colab-df-convert');\n",
              "      buttonEl.style.display =\n",
              "        google.colab.kernel.accessAllowed ? 'block' : 'none';\n",
              "\n",
              "      async function convertToInteractive(key) {\n",
              "        const element = document.querySelector('#df-95d2d1b5-3ba3-4950-b3e1-133efa4ebb34');\n",
              "        const dataTable =\n",
              "          await google.colab.kernel.invokeFunction('convertToInteractive',\n",
              "                                                    [key], {});\n",
              "        if (!dataTable) return;\n",
              "\n",
              "        const docLinkHtml = 'Like what you see? Visit the ' +\n",
              "          '<a target=\"_blank\" href=https://colab.research.google.com/notebooks/data_table.ipynb>data table notebook</a>'\n",
              "          + ' to learn more about interactive tables.';\n",
              "        element.innerHTML = '';\n",
              "        dataTable['output_type'] = 'display_data';\n",
              "        await google.colab.output.renderOutput(dataTable, element);\n",
              "        const docLink = document.createElement('div');\n",
              "        docLink.innerHTML = docLinkHtml;\n",
              "        element.appendChild(docLink);\n",
              "      }\n",
              "    </script>\n",
              "  </div>\n",
              "\n",
              "\n",
              "<div id=\"df-20d507a7-6b6f-4b25-81b0-0062584b981c\">\n",
              "  <button class=\"colab-df-quickchart\" onclick=\"quickchart('df-20d507a7-6b6f-4b25-81b0-0062584b981c')\"\n",
              "            title=\"Suggest charts\"\n",
              "            style=\"display:none;\">\n",
              "\n",
              "<svg xmlns=\"http://www.w3.org/2000/svg\" height=\"24px\"viewBox=\"0 0 24 24\"\n",
              "     width=\"24px\">\n",
              "    <g>\n",
              "        <path d=\"M19 3H5c-1.1 0-2 .9-2 2v14c0 1.1.9 2 2 2h14c1.1 0 2-.9 2-2V5c0-1.1-.9-2-2-2zM9 17H7v-7h2v7zm4 0h-2V7h2v10zm4 0h-2v-4h2v4z\"/>\n",
              "    </g>\n",
              "</svg>\n",
              "  </button>\n",
              "\n",
              "<style>\n",
              "  .colab-df-quickchart {\n",
              "      --bg-color: #E8F0FE;\n",
              "      --fill-color: #1967D2;\n",
              "      --hover-bg-color: #E2EBFA;\n",
              "      --hover-fill-color: #174EA6;\n",
              "      --disabled-fill-color: #AAA;\n",
              "      --disabled-bg-color: #DDD;\n",
              "  }\n",
              "\n",
              "  [theme=dark] .colab-df-quickchart {\n",
              "      --bg-color: #3B4455;\n",
              "      --fill-color: #D2E3FC;\n",
              "      --hover-bg-color: #434B5C;\n",
              "      --hover-fill-color: #FFFFFF;\n",
              "      --disabled-bg-color: #3B4455;\n",
              "      --disabled-fill-color: #666;\n",
              "  }\n",
              "\n",
              "  .colab-df-quickchart {\n",
              "    background-color: var(--bg-color);\n",
              "    border: none;\n",
              "    border-radius: 50%;\n",
              "    cursor: pointer;\n",
              "    display: none;\n",
              "    fill: var(--fill-color);\n",
              "    height: 32px;\n",
              "    padding: 0;\n",
              "    width: 32px;\n",
              "  }\n",
              "\n",
              "  .colab-df-quickchart:hover {\n",
              "    background-color: var(--hover-bg-color);\n",
              "    box-shadow: 0 1px 2px rgba(60, 64, 67, 0.3), 0 1px 3px 1px rgba(60, 64, 67, 0.15);\n",
              "    fill: var(--button-hover-fill-color);\n",
              "  }\n",
              "\n",
              "  .colab-df-quickchart-complete:disabled,\n",
              "  .colab-df-quickchart-complete:disabled:hover {\n",
              "    background-color: var(--disabled-bg-color);\n",
              "    fill: var(--disabled-fill-color);\n",
              "    box-shadow: none;\n",
              "  }\n",
              "\n",
              "  .colab-df-spinner {\n",
              "    border: 2px solid var(--fill-color);\n",
              "    border-color: transparent;\n",
              "    border-bottom-color: var(--fill-color);\n",
              "    animation:\n",
              "      spin 1s steps(1) infinite;\n",
              "  }\n",
              "\n",
              "  @keyframes spin {\n",
              "    0% {\n",
              "      border-color: transparent;\n",
              "      border-bottom-color: var(--fill-color);\n",
              "      border-left-color: var(--fill-color);\n",
              "    }\n",
              "    20% {\n",
              "      border-color: transparent;\n",
              "      border-left-color: var(--fill-color);\n",
              "      border-top-color: var(--fill-color);\n",
              "    }\n",
              "    30% {\n",
              "      border-color: transparent;\n",
              "      border-left-color: var(--fill-color);\n",
              "      border-top-color: var(--fill-color);\n",
              "      border-right-color: var(--fill-color);\n",
              "    }\n",
              "    40% {\n",
              "      border-color: transparent;\n",
              "      border-right-color: var(--fill-color);\n",
              "      border-top-color: var(--fill-color);\n",
              "    }\n",
              "    60% {\n",
              "      border-color: transparent;\n",
              "      border-right-color: var(--fill-color);\n",
              "    }\n",
              "    80% {\n",
              "      border-color: transparent;\n",
              "      border-right-color: var(--fill-color);\n",
              "      border-bottom-color: var(--fill-color);\n",
              "    }\n",
              "    90% {\n",
              "      border-color: transparent;\n",
              "      border-bottom-color: var(--fill-color);\n",
              "    }\n",
              "  }\n",
              "</style>\n",
              "\n",
              "  <script>\n",
              "    async function quickchart(key) {\n",
              "      const quickchartButtonEl =\n",
              "        document.querySelector('#' + key + ' button');\n",
              "      quickchartButtonEl.disabled = true;  // To prevent multiple clicks.\n",
              "      quickchartButtonEl.classList.add('colab-df-spinner');\n",
              "      try {\n",
              "        const charts = await google.colab.kernel.invokeFunction(\n",
              "            'suggestCharts', [key], {});\n",
              "      } catch (error) {\n",
              "        console.error('Error during call to suggestCharts:', error);\n",
              "      }\n",
              "      quickchartButtonEl.classList.remove('colab-df-spinner');\n",
              "      quickchartButtonEl.classList.add('colab-df-quickchart-complete');\n",
              "    }\n",
              "    (() => {\n",
              "      let quickchartButtonEl =\n",
              "        document.querySelector('#df-20d507a7-6b6f-4b25-81b0-0062584b981c button');\n",
              "      quickchartButtonEl.style.display =\n",
              "        google.colab.kernel.accessAllowed ? 'block' : 'none';\n",
              "    })();\n",
              "  </script>\n",
              "</div>\n",
              "    </div>\n",
              "  </div>\n"
            ],
            "application/vnd.google.colaboratory.intrinsic+json": {
              "type": "dataframe",
              "variable_name": "df",
              "summary": "{\n  \"name\": \"df\",\n  \"rows\": 181,\n  \"fields\": [\n    {\n      \"column\": \"review\",\n      \"properties\": {\n        \"dtype\": \"string\",\n        \"num_unique_values\": 168,\n        \"samples\": [\n          \"Doesn't look geniune product\",\n          \"Good quality trouser from Ven Heusen.\",\n          \"The shirt is not of good quality... These type of quality can be purchased at below rs 400... Don't purchase if it's more than that. It's not worth the money\"\n        ],\n        \"semantic_type\": \"\",\n        \"description\": \"\"\n      }\n    },\n    {\n      \"column\": \"y\",\n      \"properties\": {\n        \"dtype\": \"number\",\n        \"std\": 0,\n        \"min\": 0,\n        \"max\": 1,\n        \"num_unique_values\": 2,\n        \"samples\": [\n          0,\n          1\n        ],\n        \"semantic_type\": \"\",\n        \"description\": \"\"\n      }\n    },\n    {\n      \"column\": \"rating\",\n      \"properties\": {\n        \"dtype\": \"number\",\n        \"std\": 1,\n        \"min\": 1,\n        \"max\": 5,\n        \"num_unique_values\": 5,\n        \"samples\": [\n          4,\n          2\n        ],\n        \"semantic_type\": \"\",\n        \"description\": \"\"\n      }\n    },\n    {\n      \"column\": \"clean_review\",\n      \"properties\": {\n        \"dtype\": \"string\",\n        \"num_unique_values\": 164,\n        \"samples\": [\n          \"per brand price meet expect dure 1st wear stretch right hand get come\",\n          \"shirt good qualiti type qualiti purchas rs 400 purchas worth money\"\n        ],\n        \"semantic_type\": \"\",\n        \"description\": \"\"\n      }\n    },\n    {\n      \"column\": \"clean_review2\",\n      \"properties\": {\n        \"dtype\": \"object\",\n        \"semantic_type\": \"\",\n        \"description\": \"\"\n      }\n    }\n  ]\n}"
            }
          },
          "metadata": {},
          "execution_count": 34
        }
      ]
    },
    {
      "cell_type": "code",
      "source": [
        "data_words = df['clean_review2'].values.tolist()\n",
        "len(data_words)"
      ],
      "metadata": {
        "colab": {
          "base_uri": "https://localhost:8080/"
        },
        "id": "zNXJJuVRQIxi",
        "outputId": "f088062d-392e-4d5b-c187-bc892dbc919c"
      },
      "execution_count": null,
      "outputs": [
        {
          "output_type": "execute_result",
          "data": {
            "text/plain": [
              "181"
            ]
          },
          "metadata": {},
          "execution_count": 35
        }
      ]
    },
    {
      "cell_type": "code",
      "source": [
        "import gensim.corpora as corpora\n",
        "\n",
        "# Create Dictionary\n",
        "id2word = corpora.Dictionary(data_words)\n",
        "# Create Corpus\n",
        "texts = data_words\n",
        "# Term Document Frequency\n",
        "corpus = [id2word.doc2bow(text) for text in texts]\n",
        "# View\n",
        "print(corpus[:1][0][:30])"
      ],
      "metadata": {
        "colab": {
          "base_uri": "https://localhost:8080/"
        },
        "id": "aib5qEbeQRCt",
        "outputId": "a7bde35c-221c-43de-9958-2592d7abe8d6"
      },
      "execution_count": null,
      "outputs": [
        {
          "output_type": "stream",
          "name": "stdout",
          "text": [
            "[(0, 1), (1, 1), (2, 1), (3, 1), (4, 1), (5, 1), (6, 1)]\n"
          ]
        }
      ]
    },
    {
      "cell_type": "code",
      "source": [
        "from gensim.models import LdaMulticore\n",
        "from gensim.models import LdaModel\n",
        "from pprint import pprint\n",
        "\n",
        "# number of topics\n",
        "num_topics = 10\n",
        "# Build LDA model\n",
        "lda_model = LdaMulticore(corpus=corpus, id2word=id2word,\n",
        "                     num_topics=num_topics, iterations=400)\n",
        "# Print the Keyword in the 10 topics\n",
        "pprint(lda_model.print_topics())\n",
        "doc_lda = lda_model[corpus]"
      ],
      "metadata": {
        "colab": {
          "base_uri": "https://localhost:8080/"
        },
        "id": "eiOTfAaYQYfY",
        "outputId": "09fc3ef6-d39b-4807-fb0b-69d81f40c634"
      },
      "execution_count": null,
      "outputs": [
        {
          "output_type": "stream",
          "name": "stderr",
          "text": [
            "WARNING:gensim.models.ldamulticore:too few updates, training might not converge; consider increasing the number of passes or iterations to improve accuracy\n"
          ]
        },
        {
          "output_type": "stream",
          "name": "stdout",
          "text": [
            "[(0,\n",
            "  '0.045*\"good\" + 0.028*\"nice\" + 0.026*\"i\" + 0.026*\"fit\" + 0.017*\"product\" + '\n",
            "  '0.017*\"veri\" + 0.017*\"size\" + 0.015*\"thi\" + 0.015*\"one\" + 0.013*\"trouser\"'),\n",
            " (1,\n",
            "  '0.060*\"fit\" + 0.040*\"good\" + 0.034*\"price\" + 0.034*\"fabric\" + '\n",
            "  '0.020*\"product\" + 0.020*\"i\" + 0.020*\"thi\" + 0.014*\"awesom\" + '\n",
            "  '0.014*\"qualiti\" + 0.014*\"well\"'),\n",
            " (2,\n",
            "  '0.043*\"wa\" + 0.034*\"good\" + 0.031*\"thi\" + 0.028*\"qualiti\" + 0.028*\"i\" + '\n",
            "  '0.028*\"fit\" + 0.025*\"product\" + 0.022*\"shirt\" + 0.019*\"buy\" + '\n",
            "  '0.019*\"fabric\"'),\n",
            " (3,\n",
            "  '0.047*\"qualiti\" + 0.028*\"cloth\" + 0.028*\"good\" + 0.028*\"fit\" + 0.024*\"veri\" '\n",
            "  '+ 0.019*\"product\" + 0.014*\"fabric\" + 0.014*\"perfect\" + 0.014*\"show\" + '\n",
            "  '0.010*\"nice\"'),\n",
            " (4,\n",
            "  '0.035*\"i\" + 0.035*\"get\" + 0.026*\"good\" + 0.026*\"qualiti\" + 0.026*\"purchas\" '\n",
            "  '+ 0.026*\"money\" + 0.018*\"fit\" + 0.018*\"order\" + 0.018*\"shirt\" + '\n",
            "  '0.018*\"replac\"'),\n",
            " (5,\n",
            "  '0.040*\"good\" + 0.032*\"fit\" + 0.016*\"veri\" + 0.016*\"color\" + 0.016*\"get\" + '\n",
            "  '0.016*\"valu\" + 0.016*\"product\" + 0.016*\"pant\" + 0.016*\"money\" + '\n",
            "  '0.016*\"qualiti\"'),\n",
            " (6,\n",
            "  '0.038*\"well\" + 0.029*\"useless\" + 0.020*\"fabric\" + 0.020*\"materi\" + '\n",
            "  '0.020*\"nice\" + 0.010*\"good\" + 0.010*\"like\" + 0.010*\"product\" + 0.010*\"veri\" '\n",
            "  '+ 0.010*\"brand\"'),\n",
            " (7,\n",
            "  '0.030*\"veri\" + 0.020*\"stitch\" + 0.020*\"bottom\" + 0.020*\"amazon\" + '\n",
            "  '0.020*\"bad\" + 0.010*\"like\" + 0.010*\"fit\" + 0.010*\"mention\" + 0.010*\"wa\" + '\n",
            "  '0.010*\"i\"'),\n",
            " (8,\n",
            "  '0.038*\"product\" + 0.028*\"fabric\" + 0.028*\"veri\" + 0.019*\"good\" + '\n",
            "  '0.019*\"qualiti\" + 0.019*\"small\" + 0.019*\"premium\" + 0.010*\"nice\" + '\n",
            "  '0.010*\"fit\" + 0.010*\"money\"'),\n",
            " (9,\n",
            "  '0.040*\"i\" + 0.036*\"good\" + 0.032*\"shirt\" + 0.028*\"product\" + 0.028*\"nice\" + '\n",
            "  '0.024*\"wash\" + 0.020*\"veri\" + 0.016*\"thi\" + 0.016*\"wear\" + 0.012*\"like\"')]\n"
          ]
        }
      ]
    },
    {
      "cell_type": "markdown",
      "source": [
        "Four aspects: fit, comfort, size, qualiti, materi"
      ],
      "metadata": {
        "id": "UX3QmHRfQwLN"
      }
    },
    {
      "cell_type": "code",
      "source": [
        "%%time\n",
        "from gensim.models import FastText\n",
        "fasttext_model = FastText(data_words, vector_size= 100, window=5, min_count=5, workers=4,sg=1)"
      ],
      "metadata": {
        "colab": {
          "base_uri": "https://localhost:8080/"
        },
        "id": "cjZfYJHsQ3uV",
        "outputId": "84106726-0cd5-42ab-c9d7-c21521ae1e3d"
      },
      "execution_count": null,
      "outputs": [
        {
          "output_type": "stream",
          "name": "stdout",
          "text": [
            "CPU times: user 1.06 s, sys: 996 ms, total: 2.06 s\n",
            "Wall time: 2.06 s\n"
          ]
        }
      ]
    },
    {
      "cell_type": "code",
      "source": [
        "fasttext_model.save(\"FastText-Model-For-ABSA.bin\")"
      ],
      "metadata": {
        "id": "4GJMRfjXQ_EX"
      },
      "execution_count": null,
      "outputs": []
    },
    {
      "cell_type": "code",
      "source": [
        "aspects = [\"materi\", \"qualiti\", \"fit\", \"look\", \"size\", \"money\", \"feel\"]\n",
        "\n",
        "def get_similarity(text, aspect):\n",
        "    try:\n",
        "        text = \" \".join(text)\n",
        "        return fasttext_model.wv.n_similarity(text, aspect)\n",
        "    except:\n",
        "        return 0"
      ],
      "metadata": {
        "id": "ywBGJXGBRZTN"
      },
      "execution_count": null,
      "outputs": []
    },
    {
      "cell_type": "code",
      "source": [
        "from tqdm import tqdm\n",
        "tqdm.pandas()\n",
        "for aspect in aspects:\n",
        "    df[aspect] = df['clean_review2'].progress_map(lambda text: get_similarity(text, aspect))"
      ],
      "metadata": {
        "colab": {
          "base_uri": "https://localhost:8080/"
        },
        "id": "6WOz2OssR6as",
        "outputId": "f5340f08-65d4-4c48-b974-dc73118ec3ad"
      },
      "execution_count": null,
      "outputs": [
        {
          "output_type": "stream",
          "name": "stderr",
          "text": [
            "100%|██████████| 181/181 [00:00<00:00, 957.33it/s]\n",
            "100%|██████████| 181/181 [00:00<00:00, 936.58it/s]\n",
            "100%|██████████| 181/181 [00:00<00:00, 840.71it/s]\n",
            "100%|██████████| 181/181 [00:00<00:00, 754.37it/s]\n",
            "100%|██████████| 181/181 [00:00<00:00, 519.56it/s]\n",
            "100%|██████████| 181/181 [00:00<00:00, 540.87it/s]\n",
            "100%|██████████| 181/181 [00:00<00:00, 595.48it/s]\n"
          ]
        }
      ]
    },
    {
      "cell_type": "code",
      "source": [
        "df.head()"
      ],
      "metadata": {
        "colab": {
          "base_uri": "https://localhost:8080/",
          "height": 362
        },
        "id": "Z3pOYCdDR-hQ",
        "outputId": "e397feaa-8227-45fd-a69e-80d4aea18632"
      },
      "execution_count": null,
      "outputs": [
        {
          "output_type": "execute_result",
          "data": {
            "text/plain": [
              "                                              review  y  rating  \\\n",
              "0  Soft cloth. Fitting is good. Overall a great buy!  1       5   \n",
              "1  Superb stich quality..fabric is on the shinier...  1       4   \n",
              "2  I use to wear Louis Philippe Formal pants and ...  0       3   \n",
              "3  1. The product is exactly the way it looks in ...  1       5   \n",
              "4                    Used, altered and torn trouser.  0       1   \n",
              "\n",
              "                                        clean_review  \\\n",
              "0               soft cloth fit good overal great buy   \n",
              "1  superb stich qualityfabr shinier side overal love   \n",
              "2  I use wear loui philipp formal pant fit good h...   \n",
              "3  1 product exactli way look pic2 materi durable...   \n",
              "4                             use alter tear trouser   \n",
              "\n",
              "                                       clean_review2    materi   qualiti  \\\n",
              "0       [soft, cloth, fit, good, overal, great, buy]  0.448259  0.344546   \n",
              "1  [superb, stich, qualityfabr, shinier, side, ov...  0.606517  0.446310   \n",
              "2  [i, use, wear, loui, philipp, formal, pant, fi...  0.569100  0.462688   \n",
              "3  [1, product, exactli, way, look, pic2, materi,...  0.640904  0.381793   \n",
              "4                        [use, alter, tear, trouser]  0.699540  0.302360   \n",
              "\n",
              "        fit      look      size     money      feel  \n",
              "0  0.410328  0.394692  0.112760  0.264317  0.262923  \n",
              "1  0.290501  0.116674  0.401671  0.305264  0.450012  \n",
              "2  0.429400  0.248417  0.224232  0.293853  0.305632  \n",
              "3  0.369145  0.168858  0.292695  0.373978  0.413194  \n",
              "4  0.260152  0.019401  0.260376  0.158826  0.380774  "
            ],
            "text/html": [
              "\n",
              "  <div id=\"df-e26bfbe8-2f92-4fea-a8bb-eac8d5d90a2d\" class=\"colab-df-container\">\n",
              "    <div>\n",
              "<style scoped>\n",
              "    .dataframe tbody tr th:only-of-type {\n",
              "        vertical-align: middle;\n",
              "    }\n",
              "\n",
              "    .dataframe tbody tr th {\n",
              "        vertical-align: top;\n",
              "    }\n",
              "\n",
              "    .dataframe thead th {\n",
              "        text-align: right;\n",
              "    }\n",
              "</style>\n",
              "<table border=\"1\" class=\"dataframe\">\n",
              "  <thead>\n",
              "    <tr style=\"text-align: right;\">\n",
              "      <th></th>\n",
              "      <th>review</th>\n",
              "      <th>y</th>\n",
              "      <th>rating</th>\n",
              "      <th>clean_review</th>\n",
              "      <th>clean_review2</th>\n",
              "      <th>materi</th>\n",
              "      <th>qualiti</th>\n",
              "      <th>fit</th>\n",
              "      <th>look</th>\n",
              "      <th>size</th>\n",
              "      <th>money</th>\n",
              "      <th>feel</th>\n",
              "    </tr>\n",
              "  </thead>\n",
              "  <tbody>\n",
              "    <tr>\n",
              "      <th>0</th>\n",
              "      <td>Soft cloth. Fitting is good. Overall a great buy!</td>\n",
              "      <td>1</td>\n",
              "      <td>5</td>\n",
              "      <td>soft cloth fit good overal great buy</td>\n",
              "      <td>[soft, cloth, fit, good, overal, great, buy]</td>\n",
              "      <td>0.448259</td>\n",
              "      <td>0.344546</td>\n",
              "      <td>0.410328</td>\n",
              "      <td>0.394692</td>\n",
              "      <td>0.112760</td>\n",
              "      <td>0.264317</td>\n",
              "      <td>0.262923</td>\n",
              "    </tr>\n",
              "    <tr>\n",
              "      <th>1</th>\n",
              "      <td>Superb stich quality..fabric is on the shinier...</td>\n",
              "      <td>1</td>\n",
              "      <td>4</td>\n",
              "      <td>superb stich qualityfabr shinier side overal love</td>\n",
              "      <td>[superb, stich, qualityfabr, shinier, side, ov...</td>\n",
              "      <td>0.606517</td>\n",
              "      <td>0.446310</td>\n",
              "      <td>0.290501</td>\n",
              "      <td>0.116674</td>\n",
              "      <td>0.401671</td>\n",
              "      <td>0.305264</td>\n",
              "      <td>0.450012</td>\n",
              "    </tr>\n",
              "    <tr>\n",
              "      <th>2</th>\n",
              "      <td>I use to wear Louis Philippe Formal pants and ...</td>\n",
              "      <td>0</td>\n",
              "      <td>3</td>\n",
              "      <td>I use wear loui philipp formal pant fit good h...</td>\n",
              "      <td>[i, use, wear, loui, philipp, formal, pant, fi...</td>\n",
              "      <td>0.569100</td>\n",
              "      <td>0.462688</td>\n",
              "      <td>0.429400</td>\n",
              "      <td>0.248417</td>\n",
              "      <td>0.224232</td>\n",
              "      <td>0.293853</td>\n",
              "      <td>0.305632</td>\n",
              "    </tr>\n",
              "    <tr>\n",
              "      <th>3</th>\n",
              "      <td>1. The product is exactly the way it looks in ...</td>\n",
              "      <td>1</td>\n",
              "      <td>5</td>\n",
              "      <td>1 product exactli way look pic2 materi durable...</td>\n",
              "      <td>[1, product, exactli, way, look, pic2, materi,...</td>\n",
              "      <td>0.640904</td>\n",
              "      <td>0.381793</td>\n",
              "      <td>0.369145</td>\n",
              "      <td>0.168858</td>\n",
              "      <td>0.292695</td>\n",
              "      <td>0.373978</td>\n",
              "      <td>0.413194</td>\n",
              "    </tr>\n",
              "    <tr>\n",
              "      <th>4</th>\n",
              "      <td>Used, altered and torn trouser.</td>\n",
              "      <td>0</td>\n",
              "      <td>1</td>\n",
              "      <td>use alter tear trouser</td>\n",
              "      <td>[use, alter, tear, trouser]</td>\n",
              "      <td>0.699540</td>\n",
              "      <td>0.302360</td>\n",
              "      <td>0.260152</td>\n",
              "      <td>0.019401</td>\n",
              "      <td>0.260376</td>\n",
              "      <td>0.158826</td>\n",
              "      <td>0.380774</td>\n",
              "    </tr>\n",
              "  </tbody>\n",
              "</table>\n",
              "</div>\n",
              "    <div class=\"colab-df-buttons\">\n",
              "\n",
              "  <div class=\"colab-df-container\">\n",
              "    <button class=\"colab-df-convert\" onclick=\"convertToInteractive('df-e26bfbe8-2f92-4fea-a8bb-eac8d5d90a2d')\"\n",
              "            title=\"Convert this dataframe to an interactive table.\"\n",
              "            style=\"display:none;\">\n",
              "\n",
              "  <svg xmlns=\"http://www.w3.org/2000/svg\" height=\"24px\" viewBox=\"0 -960 960 960\">\n",
              "    <path d=\"M120-120v-720h720v720H120Zm60-500h600v-160H180v160Zm220 220h160v-160H400v160Zm0 220h160v-160H400v160ZM180-400h160v-160H180v160Zm440 0h160v-160H620v160ZM180-180h160v-160H180v160Zm440 0h160v-160H620v160Z\"/>\n",
              "  </svg>\n",
              "    </button>\n",
              "\n",
              "  <style>\n",
              "    .colab-df-container {\n",
              "      display:flex;\n",
              "      gap: 12px;\n",
              "    }\n",
              "\n",
              "    .colab-df-convert {\n",
              "      background-color: #E8F0FE;\n",
              "      border: none;\n",
              "      border-radius: 50%;\n",
              "      cursor: pointer;\n",
              "      display: none;\n",
              "      fill: #1967D2;\n",
              "      height: 32px;\n",
              "      padding: 0 0 0 0;\n",
              "      width: 32px;\n",
              "    }\n",
              "\n",
              "    .colab-df-convert:hover {\n",
              "      background-color: #E2EBFA;\n",
              "      box-shadow: 0px 1px 2px rgba(60, 64, 67, 0.3), 0px 1px 3px 1px rgba(60, 64, 67, 0.15);\n",
              "      fill: #174EA6;\n",
              "    }\n",
              "\n",
              "    .colab-df-buttons div {\n",
              "      margin-bottom: 4px;\n",
              "    }\n",
              "\n",
              "    [theme=dark] .colab-df-convert {\n",
              "      background-color: #3B4455;\n",
              "      fill: #D2E3FC;\n",
              "    }\n",
              "\n",
              "    [theme=dark] .colab-df-convert:hover {\n",
              "      background-color: #434B5C;\n",
              "      box-shadow: 0px 1px 3px 1px rgba(0, 0, 0, 0.15);\n",
              "      filter: drop-shadow(0px 1px 2px rgba(0, 0, 0, 0.3));\n",
              "      fill: #FFFFFF;\n",
              "    }\n",
              "  </style>\n",
              "\n",
              "    <script>\n",
              "      const buttonEl =\n",
              "        document.querySelector('#df-e26bfbe8-2f92-4fea-a8bb-eac8d5d90a2d button.colab-df-convert');\n",
              "      buttonEl.style.display =\n",
              "        google.colab.kernel.accessAllowed ? 'block' : 'none';\n",
              "\n",
              "      async function convertToInteractive(key) {\n",
              "        const element = document.querySelector('#df-e26bfbe8-2f92-4fea-a8bb-eac8d5d90a2d');\n",
              "        const dataTable =\n",
              "          await google.colab.kernel.invokeFunction('convertToInteractive',\n",
              "                                                    [key], {});\n",
              "        if (!dataTable) return;\n",
              "\n",
              "        const docLinkHtml = 'Like what you see? Visit the ' +\n",
              "          '<a target=\"_blank\" href=https://colab.research.google.com/notebooks/data_table.ipynb>data table notebook</a>'\n",
              "          + ' to learn more about interactive tables.';\n",
              "        element.innerHTML = '';\n",
              "        dataTable['output_type'] = 'display_data';\n",
              "        await google.colab.output.renderOutput(dataTable, element);\n",
              "        const docLink = document.createElement('div');\n",
              "        docLink.innerHTML = docLinkHtml;\n",
              "        element.appendChild(docLink);\n",
              "      }\n",
              "    </script>\n",
              "  </div>\n",
              "\n",
              "\n",
              "<div id=\"df-12249b69-cbbb-44a1-a6f7-e830340bbc87\">\n",
              "  <button class=\"colab-df-quickchart\" onclick=\"quickchart('df-12249b69-cbbb-44a1-a6f7-e830340bbc87')\"\n",
              "            title=\"Suggest charts\"\n",
              "            style=\"display:none;\">\n",
              "\n",
              "<svg xmlns=\"http://www.w3.org/2000/svg\" height=\"24px\"viewBox=\"0 0 24 24\"\n",
              "     width=\"24px\">\n",
              "    <g>\n",
              "        <path d=\"M19 3H5c-1.1 0-2 .9-2 2v14c0 1.1.9 2 2 2h14c1.1 0 2-.9 2-2V5c0-1.1-.9-2-2-2zM9 17H7v-7h2v7zm4 0h-2V7h2v10zm4 0h-2v-4h2v4z\"/>\n",
              "    </g>\n",
              "</svg>\n",
              "  </button>\n",
              "\n",
              "<style>\n",
              "  .colab-df-quickchart {\n",
              "      --bg-color: #E8F0FE;\n",
              "      --fill-color: #1967D2;\n",
              "      --hover-bg-color: #E2EBFA;\n",
              "      --hover-fill-color: #174EA6;\n",
              "      --disabled-fill-color: #AAA;\n",
              "      --disabled-bg-color: #DDD;\n",
              "  }\n",
              "\n",
              "  [theme=dark] .colab-df-quickchart {\n",
              "      --bg-color: #3B4455;\n",
              "      --fill-color: #D2E3FC;\n",
              "      --hover-bg-color: #434B5C;\n",
              "      --hover-fill-color: #FFFFFF;\n",
              "      --disabled-bg-color: #3B4455;\n",
              "      --disabled-fill-color: #666;\n",
              "  }\n",
              "\n",
              "  .colab-df-quickchart {\n",
              "    background-color: var(--bg-color);\n",
              "    border: none;\n",
              "    border-radius: 50%;\n",
              "    cursor: pointer;\n",
              "    display: none;\n",
              "    fill: var(--fill-color);\n",
              "    height: 32px;\n",
              "    padding: 0;\n",
              "    width: 32px;\n",
              "  }\n",
              "\n",
              "  .colab-df-quickchart:hover {\n",
              "    background-color: var(--hover-bg-color);\n",
              "    box-shadow: 0 1px 2px rgba(60, 64, 67, 0.3), 0 1px 3px 1px rgba(60, 64, 67, 0.15);\n",
              "    fill: var(--button-hover-fill-color);\n",
              "  }\n",
              "\n",
              "  .colab-df-quickchart-complete:disabled,\n",
              "  .colab-df-quickchart-complete:disabled:hover {\n",
              "    background-color: var(--disabled-bg-color);\n",
              "    fill: var(--disabled-fill-color);\n",
              "    box-shadow: none;\n",
              "  }\n",
              "\n",
              "  .colab-df-spinner {\n",
              "    border: 2px solid var(--fill-color);\n",
              "    border-color: transparent;\n",
              "    border-bottom-color: var(--fill-color);\n",
              "    animation:\n",
              "      spin 1s steps(1) infinite;\n",
              "  }\n",
              "\n",
              "  @keyframes spin {\n",
              "    0% {\n",
              "      border-color: transparent;\n",
              "      border-bottom-color: var(--fill-color);\n",
              "      border-left-color: var(--fill-color);\n",
              "    }\n",
              "    20% {\n",
              "      border-color: transparent;\n",
              "      border-left-color: var(--fill-color);\n",
              "      border-top-color: var(--fill-color);\n",
              "    }\n",
              "    30% {\n",
              "      border-color: transparent;\n",
              "      border-left-color: var(--fill-color);\n",
              "      border-top-color: var(--fill-color);\n",
              "      border-right-color: var(--fill-color);\n",
              "    }\n",
              "    40% {\n",
              "      border-color: transparent;\n",
              "      border-right-color: var(--fill-color);\n",
              "      border-top-color: var(--fill-color);\n",
              "    }\n",
              "    60% {\n",
              "      border-color: transparent;\n",
              "      border-right-color: var(--fill-color);\n",
              "    }\n",
              "    80% {\n",
              "      border-color: transparent;\n",
              "      border-right-color: var(--fill-color);\n",
              "      border-bottom-color: var(--fill-color);\n",
              "    }\n",
              "    90% {\n",
              "      border-color: transparent;\n",
              "      border-bottom-color: var(--fill-color);\n",
              "    }\n",
              "  }\n",
              "</style>\n",
              "\n",
              "  <script>\n",
              "    async function quickchart(key) {\n",
              "      const quickchartButtonEl =\n",
              "        document.querySelector('#' + key + ' button');\n",
              "      quickchartButtonEl.disabled = true;  // To prevent multiple clicks.\n",
              "      quickchartButtonEl.classList.add('colab-df-spinner');\n",
              "      try {\n",
              "        const charts = await google.colab.kernel.invokeFunction(\n",
              "            'suggestCharts', [key], {});\n",
              "      } catch (error) {\n",
              "        console.error('Error during call to suggestCharts:', error);\n",
              "      }\n",
              "      quickchartButtonEl.classList.remove('colab-df-spinner');\n",
              "      quickchartButtonEl.classList.add('colab-df-quickchart-complete');\n",
              "    }\n",
              "    (() => {\n",
              "      let quickchartButtonEl =\n",
              "        document.querySelector('#df-12249b69-cbbb-44a1-a6f7-e830340bbc87 button');\n",
              "      quickchartButtonEl.style.display =\n",
              "        google.colab.kernel.accessAllowed ? 'block' : 'none';\n",
              "    })();\n",
              "  </script>\n",
              "</div>\n",
              "    </div>\n",
              "  </div>\n"
            ],
            "application/vnd.google.colaboratory.intrinsic+json": {
              "type": "dataframe",
              "variable_name": "df",
              "summary": "{\n  \"name\": \"df\",\n  \"rows\": 181,\n  \"fields\": [\n    {\n      \"column\": \"review\",\n      \"properties\": {\n        \"dtype\": \"string\",\n        \"num_unique_values\": 168,\n        \"samples\": [\n          \"Doesn't look geniune product\",\n          \"Good quality trouser from Ven Heusen.\",\n          \"The shirt is not of good quality... These type of quality can be purchased at below rs 400... Don't purchase if it's more than that. It's not worth the money\"\n        ],\n        \"semantic_type\": \"\",\n        \"description\": \"\"\n      }\n    },\n    {\n      \"column\": \"y\",\n      \"properties\": {\n        \"dtype\": \"number\",\n        \"std\": 0,\n        \"min\": 0,\n        \"max\": 1,\n        \"num_unique_values\": 2,\n        \"samples\": [\n          0,\n          1\n        ],\n        \"semantic_type\": \"\",\n        \"description\": \"\"\n      }\n    },\n    {\n      \"column\": \"rating\",\n      \"properties\": {\n        \"dtype\": \"number\",\n        \"std\": 1,\n        \"min\": 1,\n        \"max\": 5,\n        \"num_unique_values\": 5,\n        \"samples\": [\n          4,\n          2\n        ],\n        \"semantic_type\": \"\",\n        \"description\": \"\"\n      }\n    },\n    {\n      \"column\": \"clean_review\",\n      \"properties\": {\n        \"dtype\": \"string\",\n        \"num_unique_values\": 164,\n        \"samples\": [\n          \"per brand price meet expect dure 1st wear stretch right hand get come\",\n          \"shirt good qualiti type qualiti purchas rs 400 purchas worth money\"\n        ],\n        \"semantic_type\": \"\",\n        \"description\": \"\"\n      }\n    },\n    {\n      \"column\": \"clean_review2\",\n      \"properties\": {\n        \"dtype\": \"object\",\n        \"semantic_type\": \"\",\n        \"description\": \"\"\n      }\n    },\n    {\n      \"column\": \"materi\",\n      \"properties\": {\n        \"dtype\": \"float32\",\n        \"num_unique_values\": 162,\n        \"samples\": [\n          0.6690540313720703,\n          0.4623183310031891\n        ],\n        \"semantic_type\": \"\",\n        \"description\": \"\"\n      }\n    },\n    {\n      \"column\": \"qualiti\",\n      \"properties\": {\n        \"dtype\": \"float32\",\n        \"num_unique_values\": 163,\n        \"samples\": [\n          0.361189603805542,\n          0.30175134539604187\n        ],\n        \"semantic_type\": \"\",\n        \"description\": \"\"\n      }\n    },\n    {\n      \"column\": \"fit\",\n      \"properties\": {\n        \"dtype\": \"float32\",\n        \"num_unique_values\": 162,\n        \"samples\": [\n          0.4389282763004303,\n          0.27791664004325867\n        ],\n        \"semantic_type\": \"\",\n        \"description\": \"\"\n      }\n    },\n    {\n      \"column\": \"look\",\n      \"properties\": {\n        \"dtype\": \"float32\",\n        \"num_unique_values\": 163,\n        \"samples\": [\n          -0.05278026685118675,\n          0.1730419099330902\n        ],\n        \"semantic_type\": \"\",\n        \"description\": \"\"\n      }\n    },\n    {\n      \"column\": \"size\",\n      \"properties\": {\n        \"dtype\": \"float32\",\n        \"num_unique_values\": 164,\n        \"samples\": [\n          0.2838306128978729,\n          0.13799691200256348\n        ],\n        \"semantic_type\": \"\",\n        \"description\": \"\"\n      }\n    },\n    {\n      \"column\": \"money\",\n      \"properties\": {\n        \"dtype\": \"float32\",\n        \"num_unique_values\": 164,\n        \"samples\": [\n          0.2684650719165802,\n          0.19171763956546783\n        ],\n        \"semantic_type\": \"\",\n        \"description\": \"\"\n      }\n    },\n    {\n      \"column\": \"feel\",\n      \"properties\": {\n        \"dtype\": \"float32\",\n        \"num_unique_values\": 163,\n        \"samples\": [\n          0.3565443456172943,\n          0.11075098067522049\n        ],\n        \"semantic_type\": \"\",\n        \"description\": \"\"\n      }\n    }\n  ]\n}"
            }
          },
          "metadata": {},
          "execution_count": 42
        }
      ]
    },
    {
      "cell_type": "code",
      "source": [
        "df.to_csv(\"Clean_Product.csv\", index = False)"
      ],
      "metadata": {
        "id": "lKsH6RwASeOt"
      },
      "execution_count": null,
      "outputs": []
    },
    {
      "cell_type": "markdown",
      "source": [
        "# Model"
      ],
      "metadata": {
        "id": "gt3mrWYASklf"
      }
    },
    {
      "cell_type": "code",
      "source": [
        "import torch\n",
        "from torch import nn\n",
        "from torch.utils.data import Dataset\n",
        "from torch.utils.data import DataLoader\n",
        "from torch.utils.data import RandomSampler\n",
        "import warnings"
      ],
      "metadata": {
        "id": "hNXuLP9_SoL1"
      },
      "execution_count": null,
      "outputs": []
    },
    {
      "cell_type": "code",
      "source": [
        "class config:\n",
        "    warnings.filterwarnings(\"ignore\", category = UserWarning)\n",
        "    IMG_SIZE = (224,224)\n",
        "    DEVICE = (\"cuda\" if torch.cuda.is_available() else \"cpu\")\n",
        "    FOLDS = 5\n",
        "    SHUFFLE = True\n",
        "    BATCH_SIZE = 32\n",
        "    LR = 0.01\n",
        "    EPOCHS = 30\n",
        "    EMB_DIM = 100\n",
        "    MAX_LEN = 20\n",
        "    MODEL_PATH = \"./Models/MyModel.pt\""
      ],
      "metadata": {
        "id": "bVrMnse2SrBx"
      },
      "execution_count": null,
      "outputs": []
    },
    {
      "cell_type": "code",
      "source": [
        "df = pd.read_csv(\"Clean_Product.csv\")\n",
        "df.head()"
      ],
      "metadata": {
        "colab": {
          "base_uri": "https://localhost:8080/",
          "height": 362
        },
        "id": "N8JHpDubSxnv",
        "outputId": "e1adbea2-1da6-40e6-8a4a-25bec9dddc9a"
      },
      "execution_count": null,
      "outputs": [
        {
          "output_type": "execute_result",
          "data": {
            "text/plain": [
              "                                              review  y  rating  \\\n",
              "0  Soft cloth. Fitting is good. Overall a great buy!  1       5   \n",
              "1  Superb stich quality..fabric is on the shinier...  1       4   \n",
              "2  I use to wear Louis Philippe Formal pants and ...  0       3   \n",
              "3  1. The product is exactly the way it looks in ...  1       5   \n",
              "4                    Used, altered and torn trouser.  0       1   \n",
              "\n",
              "                                        clean_review  \\\n",
              "0               soft cloth fit good overal great buy   \n",
              "1  superb stich qualityfabr shinier side overal love   \n",
              "2  I use wear loui philipp formal pant fit good h...   \n",
              "3  1 product exactli way look pic2 materi durable...   \n",
              "4                             use alter tear trouser   \n",
              "\n",
              "                                       clean_review2    materi   qualiti  \\\n",
              "0  ['soft', 'cloth', 'fit', 'good', 'overal', 'gr...  0.448259  0.344546   \n",
              "1  ['superb', 'stich', 'qualityfabr', 'shinier', ...  0.606517  0.446310   \n",
              "2  ['i', 'use', 'wear', 'loui', 'philipp', 'forma...  0.569100  0.462688   \n",
              "3  ['1', 'product', 'exactli', 'way', 'look', 'pi...  0.640904  0.381793   \n",
              "4                ['use', 'alter', 'tear', 'trouser']  0.699540  0.302360   \n",
              "\n",
              "        fit      look      size     money      feel  \n",
              "0  0.410328  0.394692  0.112760  0.264317  0.262923  \n",
              "1  0.290501  0.116674  0.401671  0.305264  0.450012  \n",
              "2  0.429400  0.248417  0.224232  0.293853  0.305632  \n",
              "3  0.369145  0.168858  0.292695  0.373978  0.413194  \n",
              "4  0.260152  0.019401  0.260376  0.158826  0.380774  "
            ],
            "text/html": [
              "\n",
              "  <div id=\"df-0371ea1b-221c-431e-a929-e2b428991004\" class=\"colab-df-container\">\n",
              "    <div>\n",
              "<style scoped>\n",
              "    .dataframe tbody tr th:only-of-type {\n",
              "        vertical-align: middle;\n",
              "    }\n",
              "\n",
              "    .dataframe tbody tr th {\n",
              "        vertical-align: top;\n",
              "    }\n",
              "\n",
              "    .dataframe thead th {\n",
              "        text-align: right;\n",
              "    }\n",
              "</style>\n",
              "<table border=\"1\" class=\"dataframe\">\n",
              "  <thead>\n",
              "    <tr style=\"text-align: right;\">\n",
              "      <th></th>\n",
              "      <th>review</th>\n",
              "      <th>y</th>\n",
              "      <th>rating</th>\n",
              "      <th>clean_review</th>\n",
              "      <th>clean_review2</th>\n",
              "      <th>materi</th>\n",
              "      <th>qualiti</th>\n",
              "      <th>fit</th>\n",
              "      <th>look</th>\n",
              "      <th>size</th>\n",
              "      <th>money</th>\n",
              "      <th>feel</th>\n",
              "    </tr>\n",
              "  </thead>\n",
              "  <tbody>\n",
              "    <tr>\n",
              "      <th>0</th>\n",
              "      <td>Soft cloth. Fitting is good. Overall a great buy!</td>\n",
              "      <td>1</td>\n",
              "      <td>5</td>\n",
              "      <td>soft cloth fit good overal great buy</td>\n",
              "      <td>['soft', 'cloth', 'fit', 'good', 'overal', 'gr...</td>\n",
              "      <td>0.448259</td>\n",
              "      <td>0.344546</td>\n",
              "      <td>0.410328</td>\n",
              "      <td>0.394692</td>\n",
              "      <td>0.112760</td>\n",
              "      <td>0.264317</td>\n",
              "      <td>0.262923</td>\n",
              "    </tr>\n",
              "    <tr>\n",
              "      <th>1</th>\n",
              "      <td>Superb stich quality..fabric is on the shinier...</td>\n",
              "      <td>1</td>\n",
              "      <td>4</td>\n",
              "      <td>superb stich qualityfabr shinier side overal love</td>\n",
              "      <td>['superb', 'stich', 'qualityfabr', 'shinier', ...</td>\n",
              "      <td>0.606517</td>\n",
              "      <td>0.446310</td>\n",
              "      <td>0.290501</td>\n",
              "      <td>0.116674</td>\n",
              "      <td>0.401671</td>\n",
              "      <td>0.305264</td>\n",
              "      <td>0.450012</td>\n",
              "    </tr>\n",
              "    <tr>\n",
              "      <th>2</th>\n",
              "      <td>I use to wear Louis Philippe Formal pants and ...</td>\n",
              "      <td>0</td>\n",
              "      <td>3</td>\n",
              "      <td>I use wear loui philipp formal pant fit good h...</td>\n",
              "      <td>['i', 'use', 'wear', 'loui', 'philipp', 'forma...</td>\n",
              "      <td>0.569100</td>\n",
              "      <td>0.462688</td>\n",
              "      <td>0.429400</td>\n",
              "      <td>0.248417</td>\n",
              "      <td>0.224232</td>\n",
              "      <td>0.293853</td>\n",
              "      <td>0.305632</td>\n",
              "    </tr>\n",
              "    <tr>\n",
              "      <th>3</th>\n",
              "      <td>1. The product is exactly the way it looks in ...</td>\n",
              "      <td>1</td>\n",
              "      <td>5</td>\n",
              "      <td>1 product exactli way look pic2 materi durable...</td>\n",
              "      <td>['1', 'product', 'exactli', 'way', 'look', 'pi...</td>\n",
              "      <td>0.640904</td>\n",
              "      <td>0.381793</td>\n",
              "      <td>0.369145</td>\n",
              "      <td>0.168858</td>\n",
              "      <td>0.292695</td>\n",
              "      <td>0.373978</td>\n",
              "      <td>0.413194</td>\n",
              "    </tr>\n",
              "    <tr>\n",
              "      <th>4</th>\n",
              "      <td>Used, altered and torn trouser.</td>\n",
              "      <td>0</td>\n",
              "      <td>1</td>\n",
              "      <td>use alter tear trouser</td>\n",
              "      <td>['use', 'alter', 'tear', 'trouser']</td>\n",
              "      <td>0.699540</td>\n",
              "      <td>0.302360</td>\n",
              "      <td>0.260152</td>\n",
              "      <td>0.019401</td>\n",
              "      <td>0.260376</td>\n",
              "      <td>0.158826</td>\n",
              "      <td>0.380774</td>\n",
              "    </tr>\n",
              "  </tbody>\n",
              "</table>\n",
              "</div>\n",
              "    <div class=\"colab-df-buttons\">\n",
              "\n",
              "  <div class=\"colab-df-container\">\n",
              "    <button class=\"colab-df-convert\" onclick=\"convertToInteractive('df-0371ea1b-221c-431e-a929-e2b428991004')\"\n",
              "            title=\"Convert this dataframe to an interactive table.\"\n",
              "            style=\"display:none;\">\n",
              "\n",
              "  <svg xmlns=\"http://www.w3.org/2000/svg\" height=\"24px\" viewBox=\"0 -960 960 960\">\n",
              "    <path d=\"M120-120v-720h720v720H120Zm60-500h600v-160H180v160Zm220 220h160v-160H400v160Zm0 220h160v-160H400v160ZM180-400h160v-160H180v160Zm440 0h160v-160H620v160ZM180-180h160v-160H180v160Zm440 0h160v-160H620v160Z\"/>\n",
              "  </svg>\n",
              "    </button>\n",
              "\n",
              "  <style>\n",
              "    .colab-df-container {\n",
              "      display:flex;\n",
              "      gap: 12px;\n",
              "    }\n",
              "\n",
              "    .colab-df-convert {\n",
              "      background-color: #E8F0FE;\n",
              "      border: none;\n",
              "      border-radius: 50%;\n",
              "      cursor: pointer;\n",
              "      display: none;\n",
              "      fill: #1967D2;\n",
              "      height: 32px;\n",
              "      padding: 0 0 0 0;\n",
              "      width: 32px;\n",
              "    }\n",
              "\n",
              "    .colab-df-convert:hover {\n",
              "      background-color: #E2EBFA;\n",
              "      box-shadow: 0px 1px 2px rgba(60, 64, 67, 0.3), 0px 1px 3px 1px rgba(60, 64, 67, 0.15);\n",
              "      fill: #174EA6;\n",
              "    }\n",
              "\n",
              "    .colab-df-buttons div {\n",
              "      margin-bottom: 4px;\n",
              "    }\n",
              "\n",
              "    [theme=dark] .colab-df-convert {\n",
              "      background-color: #3B4455;\n",
              "      fill: #D2E3FC;\n",
              "    }\n",
              "\n",
              "    [theme=dark] .colab-df-convert:hover {\n",
              "      background-color: #434B5C;\n",
              "      box-shadow: 0px 1px 3px 1px rgba(0, 0, 0, 0.15);\n",
              "      filter: drop-shadow(0px 1px 2px rgba(0, 0, 0, 0.3));\n",
              "      fill: #FFFFFF;\n",
              "    }\n",
              "  </style>\n",
              "\n",
              "    <script>\n",
              "      const buttonEl =\n",
              "        document.querySelector('#df-0371ea1b-221c-431e-a929-e2b428991004 button.colab-df-convert');\n",
              "      buttonEl.style.display =\n",
              "        google.colab.kernel.accessAllowed ? 'block' : 'none';\n",
              "\n",
              "      async function convertToInteractive(key) {\n",
              "        const element = document.querySelector('#df-0371ea1b-221c-431e-a929-e2b428991004');\n",
              "        const dataTable =\n",
              "          await google.colab.kernel.invokeFunction('convertToInteractive',\n",
              "                                                    [key], {});\n",
              "        if (!dataTable) return;\n",
              "\n",
              "        const docLinkHtml = 'Like what you see? Visit the ' +\n",
              "          '<a target=\"_blank\" href=https://colab.research.google.com/notebooks/data_table.ipynb>data table notebook</a>'\n",
              "          + ' to learn more about interactive tables.';\n",
              "        element.innerHTML = '';\n",
              "        dataTable['output_type'] = 'display_data';\n",
              "        await google.colab.output.renderOutput(dataTable, element);\n",
              "        const docLink = document.createElement('div');\n",
              "        docLink.innerHTML = docLinkHtml;\n",
              "        element.appendChild(docLink);\n",
              "      }\n",
              "    </script>\n",
              "  </div>\n",
              "\n",
              "\n",
              "<div id=\"df-ebe77d5f-0a21-4fa4-8757-c146c6bf98fc\">\n",
              "  <button class=\"colab-df-quickchart\" onclick=\"quickchart('df-ebe77d5f-0a21-4fa4-8757-c146c6bf98fc')\"\n",
              "            title=\"Suggest charts\"\n",
              "            style=\"display:none;\">\n",
              "\n",
              "<svg xmlns=\"http://www.w3.org/2000/svg\" height=\"24px\"viewBox=\"0 0 24 24\"\n",
              "     width=\"24px\">\n",
              "    <g>\n",
              "        <path d=\"M19 3H5c-1.1 0-2 .9-2 2v14c0 1.1.9 2 2 2h14c1.1 0 2-.9 2-2V5c0-1.1-.9-2-2-2zM9 17H7v-7h2v7zm4 0h-2V7h2v10zm4 0h-2v-4h2v4z\"/>\n",
              "    </g>\n",
              "</svg>\n",
              "  </button>\n",
              "\n",
              "<style>\n",
              "  .colab-df-quickchart {\n",
              "      --bg-color: #E8F0FE;\n",
              "      --fill-color: #1967D2;\n",
              "      --hover-bg-color: #E2EBFA;\n",
              "      --hover-fill-color: #174EA6;\n",
              "      --disabled-fill-color: #AAA;\n",
              "      --disabled-bg-color: #DDD;\n",
              "  }\n",
              "\n",
              "  [theme=dark] .colab-df-quickchart {\n",
              "      --bg-color: #3B4455;\n",
              "      --fill-color: #D2E3FC;\n",
              "      --hover-bg-color: #434B5C;\n",
              "      --hover-fill-color: #FFFFFF;\n",
              "      --disabled-bg-color: #3B4455;\n",
              "      --disabled-fill-color: #666;\n",
              "  }\n",
              "\n",
              "  .colab-df-quickchart {\n",
              "    background-color: var(--bg-color);\n",
              "    border: none;\n",
              "    border-radius: 50%;\n",
              "    cursor: pointer;\n",
              "    display: none;\n",
              "    fill: var(--fill-color);\n",
              "    height: 32px;\n",
              "    padding: 0;\n",
              "    width: 32px;\n",
              "  }\n",
              "\n",
              "  .colab-df-quickchart:hover {\n",
              "    background-color: var(--hover-bg-color);\n",
              "    box-shadow: 0 1px 2px rgba(60, 64, 67, 0.3), 0 1px 3px 1px rgba(60, 64, 67, 0.15);\n",
              "    fill: var(--button-hover-fill-color);\n",
              "  }\n",
              "\n",
              "  .colab-df-quickchart-complete:disabled,\n",
              "  .colab-df-quickchart-complete:disabled:hover {\n",
              "    background-color: var(--disabled-bg-color);\n",
              "    fill: var(--disabled-fill-color);\n",
              "    box-shadow: none;\n",
              "  }\n",
              "\n",
              "  .colab-df-spinner {\n",
              "    border: 2px solid var(--fill-color);\n",
              "    border-color: transparent;\n",
              "    border-bottom-color: var(--fill-color);\n",
              "    animation:\n",
              "      spin 1s steps(1) infinite;\n",
              "  }\n",
              "\n",
              "  @keyframes spin {\n",
              "    0% {\n",
              "      border-color: transparent;\n",
              "      border-bottom-color: var(--fill-color);\n",
              "      border-left-color: var(--fill-color);\n",
              "    }\n",
              "    20% {\n",
              "      border-color: transparent;\n",
              "      border-left-color: var(--fill-color);\n",
              "      border-top-color: var(--fill-color);\n",
              "    }\n",
              "    30% {\n",
              "      border-color: transparent;\n",
              "      border-left-color: var(--fill-color);\n",
              "      border-top-color: var(--fill-color);\n",
              "      border-right-color: var(--fill-color);\n",
              "    }\n",
              "    40% {\n",
              "      border-color: transparent;\n",
              "      border-right-color: var(--fill-color);\n",
              "      border-top-color: var(--fill-color);\n",
              "    }\n",
              "    60% {\n",
              "      border-color: transparent;\n",
              "      border-right-color: var(--fill-color);\n",
              "    }\n",
              "    80% {\n",
              "      border-color: transparent;\n",
              "      border-right-color: var(--fill-color);\n",
              "      border-bottom-color: var(--fill-color);\n",
              "    }\n",
              "    90% {\n",
              "      border-color: transparent;\n",
              "      border-bottom-color: var(--fill-color);\n",
              "    }\n",
              "  }\n",
              "</style>\n",
              "\n",
              "  <script>\n",
              "    async function quickchart(key) {\n",
              "      const quickchartButtonEl =\n",
              "        document.querySelector('#' + key + ' button');\n",
              "      quickchartButtonEl.disabled = true;  // To prevent multiple clicks.\n",
              "      quickchartButtonEl.classList.add('colab-df-spinner');\n",
              "      try {\n",
              "        const charts = await google.colab.kernel.invokeFunction(\n",
              "            'suggestCharts', [key], {});\n",
              "      } catch (error) {\n",
              "        console.error('Error during call to suggestCharts:', error);\n",
              "      }\n",
              "      quickchartButtonEl.classList.remove('colab-df-spinner');\n",
              "      quickchartButtonEl.classList.add('colab-df-quickchart-complete');\n",
              "    }\n",
              "    (() => {\n",
              "      let quickchartButtonEl =\n",
              "        document.querySelector('#df-ebe77d5f-0a21-4fa4-8757-c146c6bf98fc button');\n",
              "      quickchartButtonEl.style.display =\n",
              "        google.colab.kernel.accessAllowed ? 'block' : 'none';\n",
              "    })();\n",
              "  </script>\n",
              "</div>\n",
              "    </div>\n",
              "  </div>\n"
            ],
            "application/vnd.google.colaboratory.intrinsic+json": {
              "type": "dataframe",
              "variable_name": "df",
              "summary": "{\n  \"name\": \"df\",\n  \"rows\": 181,\n  \"fields\": [\n    {\n      \"column\": \"review\",\n      \"properties\": {\n        \"dtype\": \"string\",\n        \"num_unique_values\": 168,\n        \"samples\": [\n          \"Doesn't look geniune product\",\n          \"Good quality trouser from Ven Heusen.\",\n          \"The shirt is not of good quality... These type of quality can be purchased at below rs 400... Don't purchase if it's more than that. It's not worth the money\"\n        ],\n        \"semantic_type\": \"\",\n        \"description\": \"\"\n      }\n    },\n    {\n      \"column\": \"y\",\n      \"properties\": {\n        \"dtype\": \"number\",\n        \"std\": 0,\n        \"min\": 0,\n        \"max\": 1,\n        \"num_unique_values\": 2,\n        \"samples\": [\n          0,\n          1\n        ],\n        \"semantic_type\": \"\",\n        \"description\": \"\"\n      }\n    },\n    {\n      \"column\": \"rating\",\n      \"properties\": {\n        \"dtype\": \"number\",\n        \"std\": 1,\n        \"min\": 1,\n        \"max\": 5,\n        \"num_unique_values\": 5,\n        \"samples\": [\n          4,\n          2\n        ],\n        \"semantic_type\": \"\",\n        \"description\": \"\"\n      }\n    },\n    {\n      \"column\": \"clean_review\",\n      \"properties\": {\n        \"dtype\": \"string\",\n        \"num_unique_values\": 164,\n        \"samples\": [\n          \"per brand price meet expect dure 1st wear stretch right hand get come\",\n          \"shirt good qualiti type qualiti purchas rs 400 purchas worth money\"\n        ],\n        \"semantic_type\": \"\",\n        \"description\": \"\"\n      }\n    },\n    {\n      \"column\": \"clean_review2\",\n      \"properties\": {\n        \"dtype\": \"string\",\n        \"num_unique_values\": 164,\n        \"samples\": [\n          \"['per', 'brand', 'price', 'meet', 'expect', 'dure', '1st', 'wear', 'stretch', 'right', 'hand', 'get', 'come']\",\n          \"['shirt', 'good', 'qualiti', 'type', 'qualiti', 'purchas', 'rs', '400', 'purchas', 'worth', 'money']\"\n        ],\n        \"semantic_type\": \"\",\n        \"description\": \"\"\n      }\n    },\n    {\n      \"column\": \"materi\",\n      \"properties\": {\n        \"dtype\": \"number\",\n        \"std\": 0.2012344600784159,\n        \"min\": -0.14227432,\n        \"max\": 0.8026124,\n        \"num_unique_values\": 162,\n        \"samples\": [\n          0.66905403,\n          0.46231833\n        ],\n        \"semantic_type\": \"\",\n        \"description\": \"\"\n      }\n    },\n    {\n      \"column\": \"qualiti\",\n      \"properties\": {\n        \"dtype\": \"number\",\n        \"std\": 0.15840361931762006,\n        \"min\": 0.0055308267,\n        \"max\": 0.8196211,\n        \"num_unique_values\": 163,\n        \"samples\": [\n          0.3611896,\n          0.30175135\n        ],\n        \"semantic_type\": \"\",\n        \"description\": \"\"\n      }\n    },\n    {\n      \"column\": \"fit\",\n      \"properties\": {\n        \"dtype\": \"number\",\n        \"std\": 0.15947230691413414,\n        \"min\": -0.07061831,\n        \"max\": 0.6604722,\n        \"num_unique_values\": 162,\n        \"samples\": [\n          0.43892828,\n          0.27791664\n        ],\n        \"semantic_type\": \"\",\n        \"description\": \"\"\n      }\n    },\n    {\n      \"column\": \"look\",\n      \"properties\": {\n        \"dtype\": \"number\",\n        \"std\": 0.1829919460976564,\n        \"min\": -0.11222723,\n        \"max\": 0.6459827,\n        \"num_unique_values\": 163,\n        \"samples\": [\n          -0.052780267,\n          0.17304191\n        ],\n        \"semantic_type\": \"\",\n        \"description\": \"\"\n      }\n    },\n    {\n      \"column\": \"size\",\n      \"properties\": {\n        \"dtype\": \"number\",\n        \"std\": 0.14105694895096327,\n        \"min\": -0.14779663,\n        \"max\": 0.65646636,\n        \"num_unique_values\": 164,\n        \"samples\": [\n          0.2838306,\n          0.13799691\n        ],\n        \"semantic_type\": \"\",\n        \"description\": \"\"\n      }\n    },\n    {\n      \"column\": \"money\",\n      \"properties\": {\n        \"dtype\": \"number\",\n        \"std\": 0.13797920366899197,\n        \"min\": -0.073035024,\n        \"max\": 0.74876887,\n        \"num_unique_values\": 164,\n        \"samples\": [\n          0.26846507,\n          0.19171764\n        ],\n        \"semantic_type\": \"\",\n        \"description\": \"\"\n      }\n    },\n    {\n      \"column\": \"feel\",\n      \"properties\": {\n        \"dtype\": \"number\",\n        \"std\": 0.15562812797204015,\n        \"min\": -0.17156023,\n        \"max\": 0.6981446,\n        \"num_unique_values\": 163,\n        \"samples\": [\n          0.35654435,\n          0.11075098\n        ],\n        \"semantic_type\": \"\",\n        \"description\": \"\"\n      }\n    }\n  ]\n}"
            }
          },
          "metadata": {},
          "execution_count": 46
        }
      ]
    },
    {
      "cell_type": "code",
      "source": [
        "class Vocabulary:\n",
        "\n",
        "    '''\n",
        "    __init__ method is called by default as soon as an object of this class is initiated\n",
        "    we use this method to initiate our vocab dictionaries\n",
        "    '''\n",
        "    def __init__(self, freq_threshold, max_size):\n",
        "        '''\n",
        "        freq_threshold : the minimum times a word must occur in corpus to be treated in vocab\n",
        "        max_size : max source vocab size. Eg. if set to 10,000, we pick the top 10,000 most frequent words and discard others\n",
        "        '''\n",
        "        #initiate the index to token dict\n",
        "        ## <PAD> -> padding, used for padding the shorter sentences in a batch to match the length of longest sentence in the batch\n",
        "        ## <SOS> -> start token, added in front of each sentence to signify the start of sentence\n",
        "        ## <EOS> -> End of sentence token, added to the end of each sentence to signify the end of sentence\n",
        "        ## <UNK> -> words which are not found in the vocab are replace by this token\n",
        "        self.itos = {0: '<PAD>', 1:'<SOS>', 2:'<EOS>', 3: '<UNK>'}\n",
        "        #initiate the token to index dict\n",
        "        self.stoi = {k:j for j,k in self.itos.items()}\n",
        "\n",
        "        self.freq_threshold = freq_threshold\n",
        "        self.max_size = max_size\n",
        "\n",
        "    '''\n",
        "    __len__ is used by dataloader later to create batches\n",
        "    '''\n",
        "    def __len__(self):\n",
        "        return len(self.itos)\n",
        "\n",
        "    '''\n",
        "    a simple tokenizer to split on space and converts the sentence to list of words\n",
        "    '''\n",
        "    @staticmethod\n",
        "    def tokenizer(text):\n",
        "        return [tok.lower().strip() for tok in text.split(' ')]\n",
        "\n",
        "    '''\n",
        "    build the vocab: create a dictionary mapping of index to string (itos) and string to index (stoi)\n",
        "    output ex. for stoi -> {'the':5, 'a':6, 'an':7}\n",
        "    '''\n",
        "    def build_vocabulary(self, sentence_list):\n",
        "        #calculate the frequencies of each word first to remove the words with freq < freq_threshold\n",
        "        frequencies = {}  #init the freq dict\n",
        "        idx = 4 #index from which we want our dict to start. We already used 4 indexes for pad, start, end, unk\n",
        "\n",
        "        #calculate freq of words\n",
        "        for sentence in sentence_list:\n",
        "            for word in self.tokenizer(sentence):\n",
        "                if word not in frequencies.keys():\n",
        "                    frequencies[word]=1\n",
        "                else:\n",
        "                    frequencies[word]+=1\n",
        "\n",
        "\n",
        "        #limit vocab by removing low freq words\n",
        "        frequencies = {k:v for k,v in frequencies.items() if v>self.freq_threshold}\n",
        "\n",
        "        #limit vocab to the max_size specified\n",
        "        frequencies = dict(sorted(frequencies.items(), key = lambda x: -x[1])[:self.max_size-idx]) # idx =4 for pad, start, end , unk\n",
        "\n",
        "        #create vocab\n",
        "        for word in frequencies.keys():\n",
        "            self.stoi[word] = idx\n",
        "            self.itos[idx] = word\n",
        "            idx+=1\n",
        "\n",
        "\n",
        "    '''\n",
        "    convert the list of words to a list of corresponding indexes\n",
        "    '''\n",
        "    def numericalize(self, text):\n",
        "        #tokenize text\n",
        "        tokenized_text = self.tokenizer(text)\n",
        "        numericalized_text = []\n",
        "        for token in tokenized_text:\n",
        "            if token in self.stoi.keys():\n",
        "                numericalized_text.append(self.stoi[token])\n",
        "            else: #out-of-vocab words are represented by UNK token index\n",
        "                numericalized_text.append(self.stoi['<UNK>'])\n",
        "\n",
        "        return numericalized_text"
      ],
      "metadata": {
        "id": "Gz5kFnjGTCSf"
      },
      "execution_count": null,
      "outputs": []
    },
    {
      "cell_type": "code",
      "source": [
        "from torch.utils.data import Dataset\n",
        "\n",
        "class CustomDataset(Dataset):\n",
        "    '''\n",
        "    Initiating Variables\n",
        "    df: the training dataframe\n",
        "    source_column : the name of source text column in the dataframe\n",
        "    transform : If we want to add any augmentation\n",
        "    freq_threshold : the minimum times a word must occur in corpus to be treated in vocab\n",
        "    source_vocab_max_size : max source vocab size\n",
        "    '''\n",
        "\n",
        "    def __init__(self, df, source_column,freq_threshold = 3,\n",
        "                source_vocab_max_size = 10000 , transform=None):\n",
        "\n",
        "        self.df = df\n",
        "        self.transform = transform\n",
        "\n",
        "        #get source and target texts\n",
        "        self.source_texts = self.df[source_column]\n",
        "\n",
        "\n",
        "        ##VOCAB class has been created above\n",
        "        #Initialize source vocab object and build vocabulary\n",
        "        self.source_vocab = Vocabulary(freq_threshold, source_vocab_max_size)\n",
        "        self.source_vocab.build_vocabulary(self.source_texts.tolist())\n",
        "\n",
        "\n",
        "    def __len__(self):\n",
        "        return len(self.df)\n",
        "\n",
        "    '''\n",
        "    __getitem__ runs on 1 example at a time. Here, we get an example at index and return its numericalize source and\n",
        "    target values using the vocabulary objects we created in __init__\n",
        "    '''\n",
        "    def __getitem__(self, index):\n",
        "        source_text = self.source_texts[index]\n",
        "\n",
        "        if self.transform is not None:\n",
        "            source_text = self.transform(source_text)\n",
        "\n",
        "        #numericalize texts ['<SOS>','cat', 'in', 'a', 'bag','<EOS>'] -> [1,12,2,9,24,2]\n",
        "        numerialized_source = [self.source_vocab.stoi[\"<SOS>\"]]\n",
        "        numerialized_source += self.source_vocab.numericalize(source_text)\n",
        "        numerialized_source.append(self.source_vocab.stoi[\"<EOS>\"])\n",
        "\n",
        "        #convert the list to tensor and return\n",
        "        return torch.tensor(numerialized_source), torch.tensor(self.df.y[index])"
      ],
      "metadata": {
        "id": "_PqBQNOaTIL-"
      },
      "execution_count": null,
      "outputs": []
    },
    {
      "cell_type": "code",
      "source": [
        "df.head()"
      ],
      "metadata": {
        "colab": {
          "base_uri": "https://localhost:8080/",
          "height": 362
        },
        "id": "z5LzhOQkTLBm",
        "outputId": "66942fc8-66c1-4cdd-d057-ea0a97af5a4a"
      },
      "execution_count": null,
      "outputs": [
        {
          "output_type": "execute_result",
          "data": {
            "text/plain": [
              "                                              review  y  rating  \\\n",
              "0  Soft cloth. Fitting is good. Overall a great buy!  1       5   \n",
              "1  Superb stich quality..fabric is on the shinier...  1       4   \n",
              "2  I use to wear Louis Philippe Formal pants and ...  0       3   \n",
              "3  1. The product is exactly the way it looks in ...  1       5   \n",
              "4                    Used, altered and torn trouser.  0       1   \n",
              "\n",
              "                                        clean_review  \\\n",
              "0               soft cloth fit good overal great buy   \n",
              "1  superb stich qualityfabr shinier side overal love   \n",
              "2  I use wear loui philipp formal pant fit good h...   \n",
              "3  1 product exactli way look pic2 materi durable...   \n",
              "4                             use alter tear trouser   \n",
              "\n",
              "                                       clean_review2    materi   qualiti  \\\n",
              "0  ['soft', 'cloth', 'fit', 'good', 'overal', 'gr...  0.448259  0.344546   \n",
              "1  ['superb', 'stich', 'qualityfabr', 'shinier', ...  0.606517  0.446310   \n",
              "2  ['i', 'use', 'wear', 'loui', 'philipp', 'forma...  0.569100  0.462688   \n",
              "3  ['1', 'product', 'exactli', 'way', 'look', 'pi...  0.640904  0.381793   \n",
              "4                ['use', 'alter', 'tear', 'trouser']  0.699540  0.302360   \n",
              "\n",
              "        fit      look      size     money      feel  \n",
              "0  0.410328  0.394692  0.112760  0.264317  0.262923  \n",
              "1  0.290501  0.116674  0.401671  0.305264  0.450012  \n",
              "2  0.429400  0.248417  0.224232  0.293853  0.305632  \n",
              "3  0.369145  0.168858  0.292695  0.373978  0.413194  \n",
              "4  0.260152  0.019401  0.260376  0.158826  0.380774  "
            ],
            "text/html": [
              "\n",
              "  <div id=\"df-fdfb36ff-ec92-478f-9615-e32d637a43e0\" class=\"colab-df-container\">\n",
              "    <div>\n",
              "<style scoped>\n",
              "    .dataframe tbody tr th:only-of-type {\n",
              "        vertical-align: middle;\n",
              "    }\n",
              "\n",
              "    .dataframe tbody tr th {\n",
              "        vertical-align: top;\n",
              "    }\n",
              "\n",
              "    .dataframe thead th {\n",
              "        text-align: right;\n",
              "    }\n",
              "</style>\n",
              "<table border=\"1\" class=\"dataframe\">\n",
              "  <thead>\n",
              "    <tr style=\"text-align: right;\">\n",
              "      <th></th>\n",
              "      <th>review</th>\n",
              "      <th>y</th>\n",
              "      <th>rating</th>\n",
              "      <th>clean_review</th>\n",
              "      <th>clean_review2</th>\n",
              "      <th>materi</th>\n",
              "      <th>qualiti</th>\n",
              "      <th>fit</th>\n",
              "      <th>look</th>\n",
              "      <th>size</th>\n",
              "      <th>money</th>\n",
              "      <th>feel</th>\n",
              "    </tr>\n",
              "  </thead>\n",
              "  <tbody>\n",
              "    <tr>\n",
              "      <th>0</th>\n",
              "      <td>Soft cloth. Fitting is good. Overall a great buy!</td>\n",
              "      <td>1</td>\n",
              "      <td>5</td>\n",
              "      <td>soft cloth fit good overal great buy</td>\n",
              "      <td>['soft', 'cloth', 'fit', 'good', 'overal', 'gr...</td>\n",
              "      <td>0.448259</td>\n",
              "      <td>0.344546</td>\n",
              "      <td>0.410328</td>\n",
              "      <td>0.394692</td>\n",
              "      <td>0.112760</td>\n",
              "      <td>0.264317</td>\n",
              "      <td>0.262923</td>\n",
              "    </tr>\n",
              "    <tr>\n",
              "      <th>1</th>\n",
              "      <td>Superb stich quality..fabric is on the shinier...</td>\n",
              "      <td>1</td>\n",
              "      <td>4</td>\n",
              "      <td>superb stich qualityfabr shinier side overal love</td>\n",
              "      <td>['superb', 'stich', 'qualityfabr', 'shinier', ...</td>\n",
              "      <td>0.606517</td>\n",
              "      <td>0.446310</td>\n",
              "      <td>0.290501</td>\n",
              "      <td>0.116674</td>\n",
              "      <td>0.401671</td>\n",
              "      <td>0.305264</td>\n",
              "      <td>0.450012</td>\n",
              "    </tr>\n",
              "    <tr>\n",
              "      <th>2</th>\n",
              "      <td>I use to wear Louis Philippe Formal pants and ...</td>\n",
              "      <td>0</td>\n",
              "      <td>3</td>\n",
              "      <td>I use wear loui philipp formal pant fit good h...</td>\n",
              "      <td>['i', 'use', 'wear', 'loui', 'philipp', 'forma...</td>\n",
              "      <td>0.569100</td>\n",
              "      <td>0.462688</td>\n",
              "      <td>0.429400</td>\n",
              "      <td>0.248417</td>\n",
              "      <td>0.224232</td>\n",
              "      <td>0.293853</td>\n",
              "      <td>0.305632</td>\n",
              "    </tr>\n",
              "    <tr>\n",
              "      <th>3</th>\n",
              "      <td>1. The product is exactly the way it looks in ...</td>\n",
              "      <td>1</td>\n",
              "      <td>5</td>\n",
              "      <td>1 product exactli way look pic2 materi durable...</td>\n",
              "      <td>['1', 'product', 'exactli', 'way', 'look', 'pi...</td>\n",
              "      <td>0.640904</td>\n",
              "      <td>0.381793</td>\n",
              "      <td>0.369145</td>\n",
              "      <td>0.168858</td>\n",
              "      <td>0.292695</td>\n",
              "      <td>0.373978</td>\n",
              "      <td>0.413194</td>\n",
              "    </tr>\n",
              "    <tr>\n",
              "      <th>4</th>\n",
              "      <td>Used, altered and torn trouser.</td>\n",
              "      <td>0</td>\n",
              "      <td>1</td>\n",
              "      <td>use alter tear trouser</td>\n",
              "      <td>['use', 'alter', 'tear', 'trouser']</td>\n",
              "      <td>0.699540</td>\n",
              "      <td>0.302360</td>\n",
              "      <td>0.260152</td>\n",
              "      <td>0.019401</td>\n",
              "      <td>0.260376</td>\n",
              "      <td>0.158826</td>\n",
              "      <td>0.380774</td>\n",
              "    </tr>\n",
              "  </tbody>\n",
              "</table>\n",
              "</div>\n",
              "    <div class=\"colab-df-buttons\">\n",
              "\n",
              "  <div class=\"colab-df-container\">\n",
              "    <button class=\"colab-df-convert\" onclick=\"convertToInteractive('df-fdfb36ff-ec92-478f-9615-e32d637a43e0')\"\n",
              "            title=\"Convert this dataframe to an interactive table.\"\n",
              "            style=\"display:none;\">\n",
              "\n",
              "  <svg xmlns=\"http://www.w3.org/2000/svg\" height=\"24px\" viewBox=\"0 -960 960 960\">\n",
              "    <path d=\"M120-120v-720h720v720H120Zm60-500h600v-160H180v160Zm220 220h160v-160H400v160Zm0 220h160v-160H400v160ZM180-400h160v-160H180v160Zm440 0h160v-160H620v160ZM180-180h160v-160H180v160Zm440 0h160v-160H620v160Z\"/>\n",
              "  </svg>\n",
              "    </button>\n",
              "\n",
              "  <style>\n",
              "    .colab-df-container {\n",
              "      display:flex;\n",
              "      gap: 12px;\n",
              "    }\n",
              "\n",
              "    .colab-df-convert {\n",
              "      background-color: #E8F0FE;\n",
              "      border: none;\n",
              "      border-radius: 50%;\n",
              "      cursor: pointer;\n",
              "      display: none;\n",
              "      fill: #1967D2;\n",
              "      height: 32px;\n",
              "      padding: 0 0 0 0;\n",
              "      width: 32px;\n",
              "    }\n",
              "\n",
              "    .colab-df-convert:hover {\n",
              "      background-color: #E2EBFA;\n",
              "      box-shadow: 0px 1px 2px rgba(60, 64, 67, 0.3), 0px 1px 3px 1px rgba(60, 64, 67, 0.15);\n",
              "      fill: #174EA6;\n",
              "    }\n",
              "\n",
              "    .colab-df-buttons div {\n",
              "      margin-bottom: 4px;\n",
              "    }\n",
              "\n",
              "    [theme=dark] .colab-df-convert {\n",
              "      background-color: #3B4455;\n",
              "      fill: #D2E3FC;\n",
              "    }\n",
              "\n",
              "    [theme=dark] .colab-df-convert:hover {\n",
              "      background-color: #434B5C;\n",
              "      box-shadow: 0px 1px 3px 1px rgba(0, 0, 0, 0.15);\n",
              "      filter: drop-shadow(0px 1px 2px rgba(0, 0, 0, 0.3));\n",
              "      fill: #FFFFFF;\n",
              "    }\n",
              "  </style>\n",
              "\n",
              "    <script>\n",
              "      const buttonEl =\n",
              "        document.querySelector('#df-fdfb36ff-ec92-478f-9615-e32d637a43e0 button.colab-df-convert');\n",
              "      buttonEl.style.display =\n",
              "        google.colab.kernel.accessAllowed ? 'block' : 'none';\n",
              "\n",
              "      async function convertToInteractive(key) {\n",
              "        const element = document.querySelector('#df-fdfb36ff-ec92-478f-9615-e32d637a43e0');\n",
              "        const dataTable =\n",
              "          await google.colab.kernel.invokeFunction('convertToInteractive',\n",
              "                                                    [key], {});\n",
              "        if (!dataTable) return;\n",
              "\n",
              "        const docLinkHtml = 'Like what you see? Visit the ' +\n",
              "          '<a target=\"_blank\" href=https://colab.research.google.com/notebooks/data_table.ipynb>data table notebook</a>'\n",
              "          + ' to learn more about interactive tables.';\n",
              "        element.innerHTML = '';\n",
              "        dataTable['output_type'] = 'display_data';\n",
              "        await google.colab.output.renderOutput(dataTable, element);\n",
              "        const docLink = document.createElement('div');\n",
              "        docLink.innerHTML = docLinkHtml;\n",
              "        element.appendChild(docLink);\n",
              "      }\n",
              "    </script>\n",
              "  </div>\n",
              "\n",
              "\n",
              "<div id=\"df-b2e775ba-a6da-41c9-96b1-464aa40107ae\">\n",
              "  <button class=\"colab-df-quickchart\" onclick=\"quickchart('df-b2e775ba-a6da-41c9-96b1-464aa40107ae')\"\n",
              "            title=\"Suggest charts\"\n",
              "            style=\"display:none;\">\n",
              "\n",
              "<svg xmlns=\"http://www.w3.org/2000/svg\" height=\"24px\"viewBox=\"0 0 24 24\"\n",
              "     width=\"24px\">\n",
              "    <g>\n",
              "        <path d=\"M19 3H5c-1.1 0-2 .9-2 2v14c0 1.1.9 2 2 2h14c1.1 0 2-.9 2-2V5c0-1.1-.9-2-2-2zM9 17H7v-7h2v7zm4 0h-2V7h2v10zm4 0h-2v-4h2v4z\"/>\n",
              "    </g>\n",
              "</svg>\n",
              "  </button>\n",
              "\n",
              "<style>\n",
              "  .colab-df-quickchart {\n",
              "      --bg-color: #E8F0FE;\n",
              "      --fill-color: #1967D2;\n",
              "      --hover-bg-color: #E2EBFA;\n",
              "      --hover-fill-color: #174EA6;\n",
              "      --disabled-fill-color: #AAA;\n",
              "      --disabled-bg-color: #DDD;\n",
              "  }\n",
              "\n",
              "  [theme=dark] .colab-df-quickchart {\n",
              "      --bg-color: #3B4455;\n",
              "      --fill-color: #D2E3FC;\n",
              "      --hover-bg-color: #434B5C;\n",
              "      --hover-fill-color: #FFFFFF;\n",
              "      --disabled-bg-color: #3B4455;\n",
              "      --disabled-fill-color: #666;\n",
              "  }\n",
              "\n",
              "  .colab-df-quickchart {\n",
              "    background-color: var(--bg-color);\n",
              "    border: none;\n",
              "    border-radius: 50%;\n",
              "    cursor: pointer;\n",
              "    display: none;\n",
              "    fill: var(--fill-color);\n",
              "    height: 32px;\n",
              "    padding: 0;\n",
              "    width: 32px;\n",
              "  }\n",
              "\n",
              "  .colab-df-quickchart:hover {\n",
              "    background-color: var(--hover-bg-color);\n",
              "    box-shadow: 0 1px 2px rgba(60, 64, 67, 0.3), 0 1px 3px 1px rgba(60, 64, 67, 0.15);\n",
              "    fill: var(--button-hover-fill-color);\n",
              "  }\n",
              "\n",
              "  .colab-df-quickchart-complete:disabled,\n",
              "  .colab-df-quickchart-complete:disabled:hover {\n",
              "    background-color: var(--disabled-bg-color);\n",
              "    fill: var(--disabled-fill-color);\n",
              "    box-shadow: none;\n",
              "  }\n",
              "\n",
              "  .colab-df-spinner {\n",
              "    border: 2px solid var(--fill-color);\n",
              "    border-color: transparent;\n",
              "    border-bottom-color: var(--fill-color);\n",
              "    animation:\n",
              "      spin 1s steps(1) infinite;\n",
              "  }\n",
              "\n",
              "  @keyframes spin {\n",
              "    0% {\n",
              "      border-color: transparent;\n",
              "      border-bottom-color: var(--fill-color);\n",
              "      border-left-color: var(--fill-color);\n",
              "    }\n",
              "    20% {\n",
              "      border-color: transparent;\n",
              "      border-left-color: var(--fill-color);\n",
              "      border-top-color: var(--fill-color);\n",
              "    }\n",
              "    30% {\n",
              "      border-color: transparent;\n",
              "      border-left-color: var(--fill-color);\n",
              "      border-top-color: var(--fill-color);\n",
              "      border-right-color: var(--fill-color);\n",
              "    }\n",
              "    40% {\n",
              "      border-color: transparent;\n",
              "      border-right-color: var(--fill-color);\n",
              "      border-top-color: var(--fill-color);\n",
              "    }\n",
              "    60% {\n",
              "      border-color: transparent;\n",
              "      border-right-color: var(--fill-color);\n",
              "    }\n",
              "    80% {\n",
              "      border-color: transparent;\n",
              "      border-right-color: var(--fill-color);\n",
              "      border-bottom-color: var(--fill-color);\n",
              "    }\n",
              "    90% {\n",
              "      border-color: transparent;\n",
              "      border-bottom-color: var(--fill-color);\n",
              "    }\n",
              "  }\n",
              "</style>\n",
              "\n",
              "  <script>\n",
              "    async function quickchart(key) {\n",
              "      const quickchartButtonEl =\n",
              "        document.querySelector('#' + key + ' button');\n",
              "      quickchartButtonEl.disabled = true;  // To prevent multiple clicks.\n",
              "      quickchartButtonEl.classList.add('colab-df-spinner');\n",
              "      try {\n",
              "        const charts = await google.colab.kernel.invokeFunction(\n",
              "            'suggestCharts', [key], {});\n",
              "      } catch (error) {\n",
              "        console.error('Error during call to suggestCharts:', error);\n",
              "      }\n",
              "      quickchartButtonEl.classList.remove('colab-df-spinner');\n",
              "      quickchartButtonEl.classList.add('colab-df-quickchart-complete');\n",
              "    }\n",
              "    (() => {\n",
              "      let quickchartButtonEl =\n",
              "        document.querySelector('#df-b2e775ba-a6da-41c9-96b1-464aa40107ae button');\n",
              "      quickchartButtonEl.style.display =\n",
              "        google.colab.kernel.accessAllowed ? 'block' : 'none';\n",
              "    })();\n",
              "  </script>\n",
              "</div>\n",
              "    </div>\n",
              "  </div>\n"
            ],
            "application/vnd.google.colaboratory.intrinsic+json": {
              "type": "dataframe",
              "variable_name": "df",
              "summary": "{\n  \"name\": \"df\",\n  \"rows\": 181,\n  \"fields\": [\n    {\n      \"column\": \"review\",\n      \"properties\": {\n        \"dtype\": \"string\",\n        \"num_unique_values\": 168,\n        \"samples\": [\n          \"Doesn't look geniune product\",\n          \"Good quality trouser from Ven Heusen.\",\n          \"The shirt is not of good quality... These type of quality can be purchased at below rs 400... Don't purchase if it's more than that. It's not worth the money\"\n        ],\n        \"semantic_type\": \"\",\n        \"description\": \"\"\n      }\n    },\n    {\n      \"column\": \"y\",\n      \"properties\": {\n        \"dtype\": \"number\",\n        \"std\": 0,\n        \"min\": 0,\n        \"max\": 1,\n        \"num_unique_values\": 2,\n        \"samples\": [\n          0,\n          1\n        ],\n        \"semantic_type\": \"\",\n        \"description\": \"\"\n      }\n    },\n    {\n      \"column\": \"rating\",\n      \"properties\": {\n        \"dtype\": \"number\",\n        \"std\": 1,\n        \"min\": 1,\n        \"max\": 5,\n        \"num_unique_values\": 5,\n        \"samples\": [\n          4,\n          2\n        ],\n        \"semantic_type\": \"\",\n        \"description\": \"\"\n      }\n    },\n    {\n      \"column\": \"clean_review\",\n      \"properties\": {\n        \"dtype\": \"string\",\n        \"num_unique_values\": 164,\n        \"samples\": [\n          \"per brand price meet expect dure 1st wear stretch right hand get come\",\n          \"shirt good qualiti type qualiti purchas rs 400 purchas worth money\"\n        ],\n        \"semantic_type\": \"\",\n        \"description\": \"\"\n      }\n    },\n    {\n      \"column\": \"clean_review2\",\n      \"properties\": {\n        \"dtype\": \"string\",\n        \"num_unique_values\": 164,\n        \"samples\": [\n          \"['per', 'brand', 'price', 'meet', 'expect', 'dure', '1st', 'wear', 'stretch', 'right', 'hand', 'get', 'come']\",\n          \"['shirt', 'good', 'qualiti', 'type', 'qualiti', 'purchas', 'rs', '400', 'purchas', 'worth', 'money']\"\n        ],\n        \"semantic_type\": \"\",\n        \"description\": \"\"\n      }\n    },\n    {\n      \"column\": \"materi\",\n      \"properties\": {\n        \"dtype\": \"number\",\n        \"std\": 0.2012344600784159,\n        \"min\": -0.14227432,\n        \"max\": 0.8026124,\n        \"num_unique_values\": 162,\n        \"samples\": [\n          0.66905403,\n          0.46231833\n        ],\n        \"semantic_type\": \"\",\n        \"description\": \"\"\n      }\n    },\n    {\n      \"column\": \"qualiti\",\n      \"properties\": {\n        \"dtype\": \"number\",\n        \"std\": 0.15840361931762006,\n        \"min\": 0.0055308267,\n        \"max\": 0.8196211,\n        \"num_unique_values\": 163,\n        \"samples\": [\n          0.3611896,\n          0.30175135\n        ],\n        \"semantic_type\": \"\",\n        \"description\": \"\"\n      }\n    },\n    {\n      \"column\": \"fit\",\n      \"properties\": {\n        \"dtype\": \"number\",\n        \"std\": 0.15947230691413414,\n        \"min\": -0.07061831,\n        \"max\": 0.6604722,\n        \"num_unique_values\": 162,\n        \"samples\": [\n          0.43892828,\n          0.27791664\n        ],\n        \"semantic_type\": \"\",\n        \"description\": \"\"\n      }\n    },\n    {\n      \"column\": \"look\",\n      \"properties\": {\n        \"dtype\": \"number\",\n        \"std\": 0.1829919460976564,\n        \"min\": -0.11222723,\n        \"max\": 0.6459827,\n        \"num_unique_values\": 163,\n        \"samples\": [\n          -0.052780267,\n          0.17304191\n        ],\n        \"semantic_type\": \"\",\n        \"description\": \"\"\n      }\n    },\n    {\n      \"column\": \"size\",\n      \"properties\": {\n        \"dtype\": \"number\",\n        \"std\": 0.14105694895096327,\n        \"min\": -0.14779663,\n        \"max\": 0.65646636,\n        \"num_unique_values\": 164,\n        \"samples\": [\n          0.2838306,\n          0.13799691\n        ],\n        \"semantic_type\": \"\",\n        \"description\": \"\"\n      }\n    },\n    {\n      \"column\": \"money\",\n      \"properties\": {\n        \"dtype\": \"number\",\n        \"std\": 0.13797920366899197,\n        \"min\": -0.073035024,\n        \"max\": 0.74876887,\n        \"num_unique_values\": 164,\n        \"samples\": [\n          0.26846507,\n          0.19171764\n        ],\n        \"semantic_type\": \"\",\n        \"description\": \"\"\n      }\n    },\n    {\n      \"column\": \"feel\",\n      \"properties\": {\n        \"dtype\": \"number\",\n        \"std\": 0.15562812797204015,\n        \"min\": -0.17156023,\n        \"max\": 0.6981446,\n        \"num_unique_values\": 163,\n        \"samples\": [\n          0.35654435,\n          0.11075098\n        ],\n        \"semantic_type\": \"\",\n        \"description\": \"\"\n      }\n    }\n  ]\n}"
            }
          },
          "metadata": {},
          "execution_count": 49
        }
      ]
    },
    {
      "cell_type": "code",
      "source": [
        "print(df['clean_review'].isnull().sum())"
      ],
      "metadata": {
        "colab": {
          "base_uri": "https://localhost:8080/"
        },
        "id": "FCPk9TZ6UaiA",
        "outputId": "fc067d35-dd02-459a-93c8-3518ab358857"
      },
      "execution_count": null,
      "outputs": [
        {
          "output_type": "stream",
          "name": "stdout",
          "text": [
            "0\n"
          ]
        }
      ]
    },
    {
      "cell_type": "code",
      "source": [
        "df['clean_review'].fillna(\"\", inplace=True)"
      ],
      "metadata": {
        "id": "mLuN6FixUhnk"
      },
      "execution_count": null,
      "outputs": []
    },
    {
      "cell_type": "code",
      "source": [
        "dataset = CustomDataset(df, \"clean_review\")"
      ],
      "metadata": {
        "id": "s9njyJHoTQnX"
      },
      "execution_count": null,
      "outputs": []
    },
    {
      "cell_type": "code",
      "source": [
        "len(dataset.source_vocab.stoi)"
      ],
      "metadata": {
        "colab": {
          "base_uri": "https://localhost:8080/"
        },
        "id": "R2VZ4i_HUqxB",
        "outputId": "9bcb2ebb-02bd-43f2-da58-694d06874037"
      },
      "execution_count": null,
      "outputs": [
        {
          "output_type": "execute_result",
          "data": {
            "text/plain": [
              "85"
            ]
          },
          "metadata": {},
          "execution_count": 53
        }
      ]
    },
    {
      "cell_type": "code",
      "source": [
        "import pickle\n",
        "\n",
        "with open('dataset-new', 'wb') as dataset_file:\n",
        "\n",
        "    pickle.dump(dataset, dataset_file, pickle.HIGHEST_PROTOCOL)"
      ],
      "metadata": {
        "id": "wvHFOAMKUxs8"
      },
      "execution_count": null,
      "outputs": []
    },
    {
      "cell_type": "code",
      "source": [
        "def get_emb_layer_with_weights(target_vocab, emb_model, trainable = False):\n",
        "\n",
        "    weights_matrix = np.zeros((len(target_vocab), config.EMB_DIM))\n",
        "    words_found = 0\n",
        "\n",
        "    for i, word in enumerate(target_vocab):\n",
        "        weights_matrix[i] = np.concatenate([emb_model.wv[word]])\n",
        "        words_found += 1\n",
        "\n",
        "    print(f\"Words found are : {words_found}\")\n",
        "\n",
        "    weights_matrix = torch.tensor(weights_matrix, dtype = torch.float32).reshape(len(target_vocab), config.EMB_DIM)\n",
        "    emb_layer = nn.Embedding.from_pretrained(weights_matrix)\n",
        "    print(emb_layer)\n",
        "    if trainable:\n",
        "        emb_layer.weight.requires_grad = True\n",
        "    else:\n",
        "        emb_layer.weight.requires_grad = False\n",
        "\n",
        "    return emb_layer"
      ],
      "metadata": {
        "id": "O1k7L5DRUyCt"
      },
      "execution_count": null,
      "outputs": []
    },
    {
      "cell_type": "code",
      "source": [
        "class MyCollate:\n",
        "    def __init__(self, pad_idx, maxlen):\n",
        "        self.pad_idx = pad_idx\n",
        "        self.maxlen = maxlen\n",
        "\n",
        "\n",
        "    #__call__: a default method\n",
        "    ##   First the obj is created using MyCollate(pad_idx) in data loader\n",
        "    ##   Then if obj(batch) is called -> __call__ runs by default\n",
        "    def __call__(self, batch):\n",
        "        #get all source indexed sentences of the batch\n",
        "        source = [item[0] for item in batch]\n",
        "        #pad them using pad_sequence method from pytorch.\n",
        "#         source = pad_sequence(source, batch_first=False, padding_value = self.pad_idx)\n",
        "\n",
        "        padded_sequence = torch.zeros((self.maxlen, len(batch)), dtype = torch.int)\n",
        "\n",
        "        for idx, text in enumerate(source):\n",
        "\n",
        "            if len(text) > self.maxlen:\n",
        "                padded_sequence[:, idx] = source[idx][: self.maxlen]\n",
        "            else:\n",
        "                padded_sequence[:len(source[idx]), idx] = padded_sequence[:len(source[idx]), idx] + source[idx]\n",
        "\n",
        "\n",
        "        #get all target indexed sentences of the batch\n",
        "        target = [item[1] for item in batch]\n",
        "\n",
        "        target = torch.tensor(target, dtype = torch.float32).reshape(-1)\n",
        "        return padded_sequence, target\n"
      ],
      "metadata": {
        "id": "fR_yKx_nU6-V"
      },
      "execution_count": null,
      "outputs": []
    },
    {
      "cell_type": "code",
      "source": [
        "class Model(nn.Module):\n",
        "    def __init__(self, input_dim, embedding_dim, hidden_dim, output_dim, embedding_layer):\n",
        "        super().__init__()\n",
        "#         self.embedding = nn.Embedding(input_dim, embedding_dim)\n",
        "        self.hidden_dim = hidden_dim\n",
        "        self.embedding = embedding_layer\n",
        "        self.lstm = nn.LSTM(embedding_dim, hidden_dim, bidirectional = True)\n",
        "        self.fc1 = nn.Linear(2*hidden_dim, 128)\n",
        "        self.fc2 = nn.Linear(128, output_dim)\n",
        "        self.dropout = nn.Dropout(0.3)\n",
        "        self.sigmoid = nn.Sigmoid()\n",
        "\n",
        "\n",
        "\n",
        "    def forward(self, text):\n",
        "\n",
        "        max_len, N = text.shape\n",
        "        hidden = torch.zeros((2, N , self.hidden_dim),\n",
        "                          dtype=torch.float)\n",
        "        memory = torch.zeros((2, N , self.hidden_dim),\n",
        "                          dtype=torch.float)\n",
        "        hidden = hidden.to(config.DEVICE)\n",
        "        memory = memory.to(config.DEVICE)\n",
        "        embedded = self.embedding(text)\n",
        "        output, hidden = self.lstm(embedded, (hidden, memory))\n",
        "#         assert torch.equal(output[-1,:,:], hidden.squeeze(0))\n",
        "        y_pred = output[-1,:,:]\n",
        "        y_pred = self.fc1(y_pred)\n",
        "        y_pred = self.fc2(y_pred)\n",
        "        y_pred = self.sigmoid(y_pred)\n",
        "\n",
        "        return y_pred"
      ],
      "metadata": {
        "id": "GIgHWqueVACZ"
      },
      "execution_count": null,
      "outputs": []
    },
    {
      "cell_type": "code",
      "source": [
        "def train_epochs(dataloader,model, loss_fn, optimizer):\n",
        "    train_correct = 0\n",
        "    train_loss = 0\n",
        "\n",
        "    model.train()\n",
        "\n",
        "    for review, label in tqdm(dataloader):\n",
        "\n",
        "        review, label = review.to(config.DEVICE), label.to(config.DEVICE)\n",
        "        optimizer.zero_grad()\n",
        "        output = model(review)\n",
        "        output = output.reshape(-1)\n",
        "        loss = loss_fn(output, label)\n",
        "        loss.backward()\n",
        "        optimizer.step()\n",
        "\n",
        "        train_loss += loss.item()*review.size(1)\n",
        "        prediction = (output > 0.5).float()\n",
        "        train_correct += (prediction == label).float().sum()\n",
        "\n",
        "    return train_loss, train_correct\n",
        "\n"
      ],
      "metadata": {
        "id": "7jDvV7LkVDM5"
      },
      "execution_count": null,
      "outputs": []
    },
    {
      "cell_type": "code",
      "source": [
        "def val_epochs(dataloader, model, loss_fn):\n",
        "    val_correct = 0\n",
        "    val_loss = 0\n",
        "\n",
        "    model.eval()\n",
        "#     hidden = model.init_hidden(config.BATCH_SIZE)\n",
        "\n",
        "    for review, label in dataloader:\n",
        "\n",
        "        review, label = review.to(config.DEVICE), label.to(config.DEVICE)\n",
        "\n",
        "        output = model(review)\n",
        "        output = output.reshape(-1)\n",
        "\n",
        "        loss = loss_fn(output, label)\n",
        "\n",
        "        val_loss += loss.item()*review.size(1)\n",
        "        prediction = (output > 0.5).float()\n",
        "        val_correct += (prediction == label).float().sum()\n",
        "#         prediction =\n",
        "    return val_loss, val_correct\n",
        "\n"
      ],
      "metadata": {
        "id": "Z7O-UVUlVGnn"
      },
      "execution_count": null,
      "outputs": []
    },
    {
      "cell_type": "code",
      "source": [
        "from sklearn.model_selection import StratifiedKFold\n",
        "from sklearn.model_selection import KFold\n",
        "from torch.utils.data import SubsetRandomSampler\n",
        "from torch.optim import Adam\n",
        "from tqdm import tqdm\n",
        "from torch.utils.data import DataLoader\n",
        "import matplotlib.pyplot as plt\n",
        "\n",
        "\n",
        "# sfk = StratifiedKFold(n_splits = config.FOLDS)\n",
        "kfold = KFold(n_splits = config.FOLDS)\n",
        "model_state_dicts = {}\n",
        "\n",
        "for fold, (train_idx, val_idx) in enumerate(kfold.split(np.arange(len(dataset)))):\n",
        "\n",
        "    train_sampler = SubsetRandomSampler(train_idx)\n",
        "    val_sampler = SubsetRandomSampler(val_idx)\n",
        "\n",
        "    train_loader = DataLoader(dataset, batch_size = config.BATCH_SIZE, sampler = train_sampler, collate_fn = MyCollate(0, config.MAX_LEN))\n",
        "    val_loader = DataLoader(dataset, batch_size = config.BATCH_SIZE, sampler = val_sampler, collate_fn = MyCollate(0, config.MAX_LEN))\n",
        "\n",
        "    VOCAB_SIZE = len(dataset.source_vocab)\n",
        "    HIDDEN_DIM = 128\n",
        "    OUTPUT_DIM = 1\n",
        "    VOCAB = list(dataset.source_vocab.stoi)\n",
        "\n",
        "    embedding_layer = get_emb_layer_with_weights(target_vocab = VOCAB, emb_model = fasttext_model, trainable = False)\n",
        "\n",
        "    model = Model(VOCAB_SIZE, config.EMB_DIM, HIDDEN_DIM, OUTPUT_DIM, embedding_layer)\n",
        "    model = model.to(config.DEVICE)\n",
        "\n",
        "#     model\n",
        "#     model = Model(2, len(dataset.source_vocab), 128, 100, 1 ).to(config.DEVICE)\n",
        "#     hidden = model.init_hidden(config.BATCH_SIZE)\n",
        "#     model.hidden = hidden\n",
        "\n",
        "    loss_fn = nn.BCELoss()\n",
        "    optimizer = torch.optim.SGD(model.parameters(), lr = 0.1)\n",
        "\n",
        "    train_losses = []\n",
        "    val_losses = []\n",
        "    train_accs = []\n",
        "    val_accs = []\n",
        "\n",
        "    print(f\"-----------------------------------------------------------{fold}-fold of the model-----------------------------------------------------------\")\n",
        "    for epoch in range(config.EPOCHS):\n",
        "        train_loss, train_correct = train_epochs(train_loader, model, loss_fn, optimizer)\n",
        "        val_loss, val_correct = val_epochs(val_loader, model, loss_fn)\n",
        "\n",
        "        train_loss = train_loss/len(train_loader.sampler)\n",
        "        val_loss = val_loss/len(val_loader.sampler)\n",
        "        train_acc = (train_correct/len(train_loader.sampler))*100\n",
        "        val_acc = (val_correct/len(val_loader.sampler))*100\n",
        "\n",
        "        train_losses.append(train_loss)\n",
        "        val_losses.append(val_loss)\n",
        "        train_accs.append(train_acc.cpu().numpy().tolist())\n",
        "        val_accs.append(val_acc.cpu().numpy().tolist())\n",
        "\n",
        "        print(f\"| Train Loss : {train_loss} |\", end = \" \")\n",
        "        print(f\" Val Loss : {val_loss} |\", end = \" \")\n",
        "        print(f\"Train Acc : {train_acc} |\", end = \" \")\n",
        "        print(f\"Val Acc : {val_acc} |\")\n",
        "\n",
        "\n",
        "    # Saving the state dicts for the model\n",
        "    model_state_dicts.update({f\"LSTM-Model-for-{fold}\" : model.state_dict(),\n",
        "                             f\"Model-Optimizer-for-{fold}\" : optimizer.state_dict()})\n",
        "\n"
      ],
      "metadata": {
        "colab": {
          "base_uri": "https://localhost:8080/"
        },
        "id": "yXIJryk-VJE3",
        "outputId": "406353a0-e683-4fcb-dafb-ea255fa6a2c4"
      },
      "execution_count": null,
      "outputs": [
        {
          "output_type": "stream",
          "name": "stdout",
          "text": [
            "Words found are : 85\n",
            "Embedding(85, 100)\n",
            "-----------------------------------------------------------0-fold of the model-----------------------------------------------------------\n"
          ]
        },
        {
          "output_type": "stream",
          "name": "stderr",
          "text": [
            "100%|██████████| 5/5 [00:00<00:00,  7.45it/s]\n"
          ]
        },
        {
          "output_type": "stream",
          "name": "stdout",
          "text": [
            "| Train Loss : 0.6951394412252638 |  Val Loss : 0.6800154528102359 | Train Acc : 46.52777862548828 | Val Acc : 72.97296905517578 |\n"
          ]
        },
        {
          "output_type": "stream",
          "name": "stderr",
          "text": [
            "100%|██████████| 5/5 [00:00<00:00, 18.04it/s]\n"
          ]
        },
        {
          "output_type": "stream",
          "name": "stdout",
          "text": [
            "| Train Loss : 0.6826974815792508 |  Val Loss : 0.6612874978297466 | Train Acc : 63.19444274902344 | Val Acc : 72.97296905517578 |\n"
          ]
        },
        {
          "output_type": "stream",
          "name": "stderr",
          "text": [
            "100%|██████████| 5/5 [00:00<00:00, 18.20it/s]\n"
          ]
        },
        {
          "output_type": "stream",
          "name": "stdout",
          "text": [
            "| Train Loss : 0.6737425128618876 |  Val Loss : 0.6446591857317332 | Train Acc : 63.19444274902344 | Val Acc : 72.97296905517578 |\n"
          ]
        },
        {
          "output_type": "stream",
          "name": "stderr",
          "text": [
            "100%|██████████| 5/5 [00:00<00:00, 18.82it/s]\n"
          ]
        },
        {
          "output_type": "stream",
          "name": "stdout",
          "text": [
            "| Train Loss : 0.6679702798525492 |  Val Loss : 0.6373448549090205 | Train Acc : 63.19444274902344 | Val Acc : 72.97296905517578 |\n"
          ]
        },
        {
          "output_type": "stream",
          "name": "stderr",
          "text": [
            "100%|██████████| 5/5 [00:00<00:00, 18.02it/s]\n"
          ]
        },
        {
          "output_type": "stream",
          "name": "stdout",
          "text": [
            "| Train Loss : 0.6647461520300971 |  Val Loss : 0.6309022033536756 | Train Acc : 63.19444274902344 | Val Acc : 72.97296905517578 |\n"
          ]
        },
        {
          "output_type": "stream",
          "name": "stderr",
          "text": [
            "100%|██████████| 5/5 [00:00<00:00, 15.08it/s]\n"
          ]
        },
        {
          "output_type": "stream",
          "name": "stdout",
          "text": [
            "| Train Loss : 0.6625845498508878 |  Val Loss : 0.6258369619781906 | Train Acc : 63.19444274902344 | Val Acc : 72.97296905517578 |\n"
          ]
        },
        {
          "output_type": "stream",
          "name": "stderr",
          "text": [
            "100%|██████████| 5/5 [00:00<00:00, 13.90it/s]\n"
          ]
        },
        {
          "output_type": "stream",
          "name": "stdout",
          "text": [
            "| Train Loss : 0.6619896623823378 |  Val Loss : 0.6225250508334186 | Train Acc : 63.19444274902344 | Val Acc : 72.97296905517578 |\n"
          ]
        },
        {
          "output_type": "stream",
          "name": "stderr",
          "text": [
            "100%|██████████| 5/5 [00:00<00:00, 17.35it/s]\n"
          ]
        },
        {
          "output_type": "stream",
          "name": "stdout",
          "text": [
            "| Train Loss : 0.6608695122930739 |  Val Loss : 0.6195435942830266 | Train Acc : 63.19444274902344 | Val Acc : 72.97296905517578 |\n"
          ]
        },
        {
          "output_type": "stream",
          "name": "stderr",
          "text": [
            "100%|██████████| 5/5 [00:00<00:00, 14.35it/s]\n"
          ]
        },
        {
          "output_type": "stream",
          "name": "stdout",
          "text": [
            "| Train Loss : 0.6600328286488851 |  Val Loss : 0.6182415727022532 | Train Acc : 63.19444274902344 | Val Acc : 72.97296905517578 |\n"
          ]
        },
        {
          "output_type": "stream",
          "name": "stderr",
          "text": [
            "100%|██████████| 5/5 [00:00<00:00, 15.15it/s]\n"
          ]
        },
        {
          "output_type": "stream",
          "name": "stdout",
          "text": [
            "| Train Loss : 0.659418092833625 |  Val Loss : 0.6145377014134381 | Train Acc : 63.19444274902344 | Val Acc : 72.97296905517578 |\n"
          ]
        },
        {
          "output_type": "stream",
          "name": "stderr",
          "text": [
            "100%|██████████| 5/5 [00:00<00:00, 18.89it/s]\n"
          ]
        },
        {
          "output_type": "stream",
          "name": "stdout",
          "text": [
            "| Train Loss : 0.6589907275305854 |  Val Loss : 0.6119281053543091 | Train Acc : 63.19444274902344 | Val Acc : 72.97296905517578 |\n"
          ]
        },
        {
          "output_type": "stream",
          "name": "stderr",
          "text": [
            "100%|██████████| 5/5 [00:00<00:00, 14.64it/s]\n"
          ]
        },
        {
          "output_type": "stream",
          "name": "stdout",
          "text": [
            "| Train Loss : 0.658831086423662 |  Val Loss : 0.6095565589698585 | Train Acc : 63.19444274902344 | Val Acc : 72.97296905517578 |\n"
          ]
        },
        {
          "output_type": "stream",
          "name": "stderr",
          "text": [
            "100%|██████████| 5/5 [00:00<00:00, 17.86it/s]\n"
          ]
        },
        {
          "output_type": "stream",
          "name": "stdout",
          "text": [
            "| Train Loss : 0.6582367155287001 |  Val Loss : 0.6079223300959613 | Train Acc : 63.19444274902344 | Val Acc : 72.97296905517578 |\n"
          ]
        },
        {
          "output_type": "stream",
          "name": "stderr",
          "text": [
            "100%|██████████| 5/5 [00:00<00:00, 18.41it/s]\n"
          ]
        },
        {
          "output_type": "stream",
          "name": "stdout",
          "text": [
            "| Train Loss : 0.6587274736828275 |  Val Loss : 0.6093919728253339 | Train Acc : 63.19444274902344 | Val Acc : 72.97296905517578 |\n"
          ]
        },
        {
          "output_type": "stream",
          "name": "stderr",
          "text": [
            "100%|██████████| 5/5 [00:00<00:00, 19.35it/s]\n"
          ]
        },
        {
          "output_type": "stream",
          "name": "stdout",
          "text": [
            "| Train Loss : 0.6591732634438409 |  Val Loss : 0.6086111777537578 | Train Acc : 63.19444274902344 | Val Acc : 72.97296905517578 |\n"
          ]
        },
        {
          "output_type": "stream",
          "name": "stderr",
          "text": [
            "100%|██████████| 5/5 [00:00<00:00, 16.45it/s]\n"
          ]
        },
        {
          "output_type": "stream",
          "name": "stdout",
          "text": [
            "| Train Loss : 0.6580910881360372 |  Val Loss : 0.6072379817833772 | Train Acc : 63.19444274902344 | Val Acc : 72.97296905517578 |\n"
          ]
        },
        {
          "output_type": "stream",
          "name": "stderr",
          "text": [
            "100%|██████████| 5/5 [00:00<00:00, 17.31it/s]\n"
          ]
        },
        {
          "output_type": "stream",
          "name": "stdout",
          "text": [
            "| Train Loss : 0.658434165848626 |  Val Loss : 0.6088053986832902 | Train Acc : 63.19444274902344 | Val Acc : 72.97296905517578 |\n"
          ]
        },
        {
          "output_type": "stream",
          "name": "stderr",
          "text": [
            "100%|██████████| 5/5 [00:00<00:00, 18.89it/s]\n"
          ]
        },
        {
          "output_type": "stream",
          "name": "stdout",
          "text": [
            "| Train Loss : 0.6581477920214335 |  Val Loss : 0.6074183985993669 | Train Acc : 63.19444274902344 | Val Acc : 72.97296905517578 |\n"
          ]
        },
        {
          "output_type": "stream",
          "name": "stderr",
          "text": [
            "100%|██████████| 5/5 [00:00<00:00, 15.27it/s]\n"
          ]
        },
        {
          "output_type": "stream",
          "name": "stdout",
          "text": [
            "| Train Loss : 0.6583682099978129 |  Val Loss : 0.605812486764547 | Train Acc : 63.19444274902344 | Val Acc : 72.97296905517578 |\n"
          ]
        },
        {
          "output_type": "stream",
          "name": "stderr",
          "text": [
            "100%|██████████| 5/5 [00:00<00:00, 16.42it/s]\n"
          ]
        },
        {
          "output_type": "stream",
          "name": "stdout",
          "text": [
            "| Train Loss : 0.6582250462638007 |  Val Loss : 0.6069355172079962 | Train Acc : 63.19444274902344 | Val Acc : 72.97296905517578 |\n"
          ]
        },
        {
          "output_type": "stream",
          "name": "stderr",
          "text": [
            "100%|██████████| 5/5 [00:00<00:00, 15.82it/s]\n"
          ]
        },
        {
          "output_type": "stream",
          "name": "stdout",
          "text": [
            "| Train Loss : 0.6582540935940213 |  Val Loss : 0.6079489314878309 | Train Acc : 63.19444274902344 | Val Acc : 72.97296905517578 |\n"
          ]
        },
        {
          "output_type": "stream",
          "name": "stderr",
          "text": [
            "100%|██████████| 5/5 [00:00<00:00, 11.28it/s]\n"
          ]
        },
        {
          "output_type": "stream",
          "name": "stdout",
          "text": [
            "| Train Loss : 0.6580557160907321 |  Val Loss : 0.6067738388035748 | Train Acc : 63.19444274902344 | Val Acc : 72.97296905517578 |\n"
          ]
        },
        {
          "output_type": "stream",
          "name": "stderr",
          "text": [
            "100%|██████████| 5/5 [00:00<00:00,  6.35it/s]\n"
          ]
        },
        {
          "output_type": "stream",
          "name": "stdout",
          "text": [
            "| Train Loss : 0.6585902637905545 |  Val Loss : 0.6057742189716648 | Train Acc : 63.19444274902344 | Val Acc : 72.97296905517578 |\n"
          ]
        },
        {
          "output_type": "stream",
          "name": "stderr",
          "text": [
            "100%|██████████| 5/5 [00:00<00:00,  6.71it/s]\n"
          ]
        },
        {
          "output_type": "stream",
          "name": "stdout",
          "text": [
            "| Train Loss : 0.6580160591337416 |  Val Loss : 0.6062912651010461 | Train Acc : 63.19444274902344 | Val Acc : 72.97296905517578 |\n"
          ]
        },
        {
          "output_type": "stream",
          "name": "stderr",
          "text": [
            "100%|██████████| 5/5 [00:00<00:00,  9.47it/s]\n"
          ]
        },
        {
          "output_type": "stream",
          "name": "stdout",
          "text": [
            "| Train Loss : 0.6584568156136407 |  Val Loss : 0.6062043003133826 | Train Acc : 63.19444274902344 | Val Acc : 72.97296905517578 |\n"
          ]
        },
        {
          "output_type": "stream",
          "name": "stderr",
          "text": [
            "100%|██████████| 5/5 [00:00<00:00,  8.81it/s]\n"
          ]
        },
        {
          "output_type": "stream",
          "name": "stdout",
          "text": [
            "| Train Loss : 0.658245219124688 |  Val Loss : 0.6054850832836048 | Train Acc : 63.19444274902344 | Val Acc : 72.97296905517578 |\n"
          ]
        },
        {
          "output_type": "stream",
          "name": "stderr",
          "text": [
            "100%|██████████| 5/5 [00:00<00:00, 10.33it/s]\n"
          ]
        },
        {
          "output_type": "stream",
          "name": "stdout",
          "text": [
            "| Train Loss : 0.6592121521631876 |  Val Loss : 0.603560563680288 | Train Acc : 63.19444274902344 | Val Acc : 72.97296905517578 |\n"
          ]
        },
        {
          "output_type": "stream",
          "name": "stderr",
          "text": [
            "100%|██████████| 5/5 [00:00<00:00, 12.97it/s]\n"
          ]
        },
        {
          "output_type": "stream",
          "name": "stdout",
          "text": [
            "| Train Loss : 0.6580406162473891 |  Val Loss : 0.6038736620464841 | Train Acc : 63.19444274902344 | Val Acc : 72.97296905517578 |\n"
          ]
        },
        {
          "output_type": "stream",
          "name": "stderr",
          "text": [
            "100%|██████████| 5/5 [00:00<00:00, 18.70it/s]\n"
          ]
        },
        {
          "output_type": "stream",
          "name": "stdout",
          "text": [
            "| Train Loss : 0.6584603720241122 |  Val Loss : 0.6036967828467086 | Train Acc : 63.19444274902344 | Val Acc : 72.97296905517578 |\n"
          ]
        },
        {
          "output_type": "stream",
          "name": "stderr",
          "text": [
            "100%|██████████| 5/5 [00:00<00:00, 11.58it/s]\n"
          ]
        },
        {
          "output_type": "stream",
          "name": "stdout",
          "text": [
            "| Train Loss : 0.6588117612732781 |  Val Loss : 0.6037437062005739 | Train Acc : 63.19444274902344 | Val Acc : 72.97296905517578 |\n",
            "Words found are : 85\n",
            "Embedding(85, 100)\n",
            "-----------------------------------------------------------1-fold of the model-----------------------------------------------------------\n"
          ]
        },
        {
          "output_type": "stream",
          "name": "stderr",
          "text": [
            "100%|██████████| 5/5 [00:00<00:00, 15.44it/s]\n"
          ]
        },
        {
          "output_type": "stream",
          "name": "stdout",
          "text": [
            "| Train Loss : 0.6777827990466151 |  Val Loss : 0.6715004311667548 | Train Acc : 65.51724243164062 | Val Acc : 63.88888931274414 |\n"
          ]
        },
        {
          "output_type": "stream",
          "name": "stderr",
          "text": [
            "100%|██████████| 5/5 [00:00<00:00, 16.76it/s]\n"
          ]
        },
        {
          "output_type": "stream",
          "name": "stdout",
          "text": [
            "| Train Loss : 0.6659456561351644 |  Val Loss : 0.6657189859284295 | Train Acc : 65.51724243164062 | Val Acc : 63.88888931274414 |\n"
          ]
        },
        {
          "output_type": "stream",
          "name": "stderr",
          "text": [
            "100%|██████████| 5/5 [00:00<00:00, 13.79it/s]\n"
          ]
        },
        {
          "output_type": "stream",
          "name": "stdout",
          "text": [
            "| Train Loss : 0.6595604896545411 |  Val Loss : 0.6614397300614251 | Train Acc : 65.51724243164062 | Val Acc : 63.88888931274414 |\n"
          ]
        },
        {
          "output_type": "stream",
          "name": "stderr",
          "text": [
            "100%|██████████| 5/5 [00:00<00:00, 14.89it/s]\n"
          ]
        },
        {
          "output_type": "stream",
          "name": "stdout",
          "text": [
            "| Train Loss : 0.6549114288954899 |  Val Loss : 0.6577850315305922 | Train Acc : 65.51724243164062 | Val Acc : 63.88888931274414 |\n"
          ]
        },
        {
          "output_type": "stream",
          "name": "stderr",
          "text": [
            "100%|██████████| 5/5 [00:00<00:00, 13.78it/s]\n"
          ]
        },
        {
          "output_type": "stream",
          "name": "stdout",
          "text": [
            "| Train Loss : 0.650543723024171 |  Val Loss : 0.655695014529758 | Train Acc : 65.51724243164062 | Val Acc : 63.88888931274414 |\n"
          ]
        },
        {
          "output_type": "stream",
          "name": "stderr",
          "text": [
            "100%|██████████| 5/5 [00:00<00:00, 17.51it/s]\n"
          ]
        },
        {
          "output_type": "stream",
          "name": "stdout",
          "text": [
            "| Train Loss : 0.6487628048863904 |  Val Loss : 0.6549123658074273 | Train Acc : 65.51724243164062 | Val Acc : 63.88888931274414 |\n"
          ]
        },
        {
          "output_type": "stream",
          "name": "stderr",
          "text": [
            "100%|██████████| 5/5 [00:00<00:00, 11.69it/s]\n"
          ]
        },
        {
          "output_type": "stream",
          "name": "stdout",
          "text": [
            "| Train Loss : 0.6475567784802667 |  Val Loss : 0.6545546121067471 | Train Acc : 65.51724243164062 | Val Acc : 63.88888931274414 |\n"
          ]
        },
        {
          "output_type": "stream",
          "name": "stderr",
          "text": [
            "100%|██████████| 5/5 [00:00<00:00, 16.82it/s]\n"
          ]
        },
        {
          "output_type": "stream",
          "name": "stdout",
          "text": [
            "| Train Loss : 0.6465208098806184 |  Val Loss : 0.6542855236265395 | Train Acc : 65.51724243164062 | Val Acc : 63.88888931274414 |\n"
          ]
        },
        {
          "output_type": "stream",
          "name": "stderr",
          "text": [
            "100%|██████████| 5/5 [00:00<00:00,  7.08it/s]\n"
          ]
        },
        {
          "output_type": "stream",
          "name": "stdout",
          "text": [
            "| Train Loss : 0.6455845935591336 |  Val Loss : 0.6540794107649062 | Train Acc : 65.51724243164062 | Val Acc : 63.88888931274414 |\n"
          ]
        },
        {
          "output_type": "stream",
          "name": "stderr",
          "text": [
            "100%|██████████| 5/5 [00:00<00:00, 10.73it/s]\n"
          ]
        },
        {
          "output_type": "stream",
          "name": "stdout",
          "text": [
            "| Train Loss : 0.6456274455991284 |  Val Loss : 0.6541312336921692 | Train Acc : 65.51724243164062 | Val Acc : 63.88888931274414 |\n"
          ]
        },
        {
          "output_type": "stream",
          "name": "stderr",
          "text": [
            "100%|██████████| 5/5 [00:00<00:00, 18.88it/s]\n"
          ]
        },
        {
          "output_type": "stream",
          "name": "stdout",
          "text": [
            "| Train Loss : 0.6455394646217083 |  Val Loss : 0.6540661984019809 | Train Acc : 65.51724243164062 | Val Acc : 63.88888931274414 |\n"
          ]
        },
        {
          "output_type": "stream",
          "name": "stderr",
          "text": [
            "100%|██████████| 5/5 [00:00<00:00, 13.17it/s]\n"
          ]
        },
        {
          "output_type": "stream",
          "name": "stdout",
          "text": [
            "| Train Loss : 0.6460235332620555 |  Val Loss : 0.6540584100617303 | Train Acc : 65.51724243164062 | Val Acc : 63.88888931274414 |\n"
          ]
        },
        {
          "output_type": "stream",
          "name": "stderr",
          "text": [
            "100%|██████████| 5/5 [00:00<00:00, 13.45it/s]\n"
          ]
        },
        {
          "output_type": "stream",
          "name": "stdout",
          "text": [
            "| Train Loss : 0.6453290717355136 |  Val Loss : 0.6541300813357035 | Train Acc : 65.51724243164062 | Val Acc : 63.88888931274414 |\n"
          ]
        },
        {
          "output_type": "stream",
          "name": "stderr",
          "text": [
            "100%|██████████| 5/5 [00:00<00:00, 13.77it/s]\n"
          ]
        },
        {
          "output_type": "stream",
          "name": "stdout",
          "text": [
            "| Train Loss : 0.6447465148465387 |  Val Loss : 0.6543249355422126 | Train Acc : 65.51724243164062 | Val Acc : 63.88888931274414 |\n"
          ]
        },
        {
          "output_type": "stream",
          "name": "stderr",
          "text": [
            "100%|██████████| 5/5 [00:00<00:00, 12.34it/s]\n"
          ]
        },
        {
          "output_type": "stream",
          "name": "stdout",
          "text": [
            "| Train Loss : 0.6456099945923378 |  Val Loss : 0.654199308819241 | Train Acc : 65.51724243164062 | Val Acc : 63.88888931274414 |\n"
          ]
        },
        {
          "output_type": "stream",
          "name": "stderr",
          "text": [
            "100%|██████████| 5/5 [00:00<00:00, 14.81it/s]\n"
          ]
        },
        {
          "output_type": "stream",
          "name": "stdout",
          "text": [
            "| Train Loss : 0.6452338769518096 |  Val Loss : 0.6541704071892632 | Train Acc : 65.51724243164062 | Val Acc : 63.88888931274414 |\n"
          ]
        },
        {
          "output_type": "stream",
          "name": "stderr",
          "text": [
            "100%|██████████| 5/5 [00:00<00:00, 10.06it/s]\n"
          ]
        },
        {
          "output_type": "stream",
          "name": "stdout",
          "text": [
            "| Train Loss : 0.6447508417326828 |  Val Loss : 0.654239727391137 | Train Acc : 65.51724243164062 | Val Acc : 63.88888931274414 |\n"
          ]
        },
        {
          "output_type": "stream",
          "name": "stderr",
          "text": [
            "100%|██████████| 5/5 [00:00<00:00, 19.35it/s]\n"
          ]
        },
        {
          "output_type": "stream",
          "name": "stdout",
          "text": [
            "| Train Loss : 0.6447419376208865 |  Val Loss : 0.6543491548962064 | Train Acc : 65.51724243164062 | Val Acc : 63.88888931274414 |\n"
          ]
        },
        {
          "output_type": "stream",
          "name": "stderr",
          "text": [
            "100%|██████████| 5/5 [00:00<00:00, 20.85it/s]\n"
          ]
        },
        {
          "output_type": "stream",
          "name": "stdout",
          "text": [
            "| Train Loss : 0.644750572484115 |  Val Loss : 0.6542840798695883 | Train Acc : 65.51724243164062 | Val Acc : 63.88888931274414 |\n"
          ]
        },
        {
          "output_type": "stream",
          "name": "stderr",
          "text": [
            "100%|██████████| 5/5 [00:00<00:00, 20.20it/s]\n"
          ]
        },
        {
          "output_type": "stream",
          "name": "stdout",
          "text": [
            "| Train Loss : 0.6448665483244534 |  Val Loss : 0.6541882223553128 | Train Acc : 65.51724243164062 | Val Acc : 63.88888931274414 |\n"
          ]
        },
        {
          "output_type": "stream",
          "name": "stderr",
          "text": [
            "100%|██████████| 5/5 [00:00<00:00, 19.09it/s]\n"
          ]
        },
        {
          "output_type": "stream",
          "name": "stdout",
          "text": [
            "| Train Loss : 0.6453537792995059 |  Val Loss : 0.6541830433739556 | Train Acc : 65.51724243164062 | Val Acc : 63.88888931274414 |\n"
          ]
        },
        {
          "output_type": "stream",
          "name": "stderr",
          "text": [
            "100%|██████████| 5/5 [00:00<00:00, 19.42it/s]\n"
          ]
        },
        {
          "output_type": "stream",
          "name": "stdout",
          "text": [
            "| Train Loss : 0.6444453239440918 |  Val Loss : 0.6542417738172743 | Train Acc : 65.51724243164062 | Val Acc : 63.88888931274414 |\n"
          ]
        },
        {
          "output_type": "stream",
          "name": "stderr",
          "text": [
            "100%|██████████| 5/5 [00:00<00:00, 15.32it/s]\n"
          ]
        },
        {
          "output_type": "stream",
          "name": "stdout",
          "text": [
            "| Train Loss : 0.6447931959711272 |  Val Loss : 0.6541422837310367 | Train Acc : 65.51724243164062 | Val Acc : 63.88888931274414 |\n"
          ]
        },
        {
          "output_type": "stream",
          "name": "stderr",
          "text": [
            "100%|██████████| 5/5 [00:00<00:00, 16.74it/s]\n"
          ]
        },
        {
          "output_type": "stream",
          "name": "stdout",
          "text": [
            "| Train Loss : 0.6445251604606366 |  Val Loss : 0.6542385684119331 | Train Acc : 65.51724243164062 | Val Acc : 63.88888931274414 |\n"
          ]
        },
        {
          "output_type": "stream",
          "name": "stderr",
          "text": [
            "100%|██████████| 5/5 [00:00<00:00, 17.80it/s]\n"
          ]
        },
        {
          "output_type": "stream",
          "name": "stdout",
          "text": [
            "| Train Loss : 0.6445463201095318 |  Val Loss : 0.6543482542037964 | Train Acc : 65.51724243164062 | Val Acc : 63.88888931274414 |\n"
          ]
        },
        {
          "output_type": "stream",
          "name": "stderr",
          "text": [
            "100%|██████████| 5/5 [00:00<00:00, 18.69it/s]\n"
          ]
        },
        {
          "output_type": "stream",
          "name": "stdout",
          "text": [
            "| Train Loss : 0.6449467182159424 |  Val Loss : 0.6544178194469876 | Train Acc : 65.51724243164062 | Val Acc : 63.88888931274414 |\n"
          ]
        },
        {
          "output_type": "stream",
          "name": "stderr",
          "text": [
            "100%|██████████| 5/5 [00:00<00:00, 16.13it/s]\n"
          ]
        },
        {
          "output_type": "stream",
          "name": "stdout",
          "text": [
            "| Train Loss : 0.644344516047116 |  Val Loss : 0.6545381413565742 | Train Acc : 65.51724243164062 | Val Acc : 63.88888931274414 |\n"
          ]
        },
        {
          "output_type": "stream",
          "name": "stderr",
          "text": [
            "100%|██████████| 5/5 [00:00<00:00, 18.58it/s]\n"
          ]
        },
        {
          "output_type": "stream",
          "name": "stdout",
          "text": [
            "| Train Loss : 0.6446078366246717 |  Val Loss : 0.6545730431874593 | Train Acc : 65.51724243164062 | Val Acc : 63.88888931274414 |\n"
          ]
        },
        {
          "output_type": "stream",
          "name": "stderr",
          "text": [
            "100%|██████████| 5/5 [00:00<00:00, 15.98it/s]\n"
          ]
        },
        {
          "output_type": "stream",
          "name": "stdout",
          "text": [
            "| Train Loss : 0.6450159714139742 |  Val Loss : 0.6546438932418823 | Train Acc : 65.51724243164062 | Val Acc : 63.88888931274414 |\n"
          ]
        },
        {
          "output_type": "stream",
          "name": "stderr",
          "text": [
            "100%|██████████| 5/5 [00:00<00:00, 16.23it/s]\n"
          ]
        },
        {
          "output_type": "stream",
          "name": "stdout",
          "text": [
            "| Train Loss : 0.6449758143260561 |  Val Loss : 0.6550034284591675 | Train Acc : 65.51724243164062 | Val Acc : 63.88888931274414 |\n",
            "Words found are : 85\n",
            "Embedding(85, 100)\n",
            "-----------------------------------------------------------2-fold of the model-----------------------------------------------------------\n"
          ]
        },
        {
          "output_type": "stream",
          "name": "stderr",
          "text": [
            "100%|██████████| 5/5 [00:00<00:00, 19.90it/s]\n"
          ]
        },
        {
          "output_type": "stream",
          "name": "stdout",
          "text": [
            "| Train Loss : 0.6939881472752012 |  Val Loss : 0.681274778313107 | Train Acc : 52.41379165649414 | Val Acc : 66.66667175292969 |\n"
          ]
        },
        {
          "output_type": "stream",
          "name": "stderr",
          "text": [
            "100%|██████████| 5/5 [00:00<00:00, 19.56it/s]\n"
          ]
        },
        {
          "output_type": "stream",
          "name": "stdout",
          "text": [
            "| Train Loss : 0.6786971610167931 |  Val Loss : 0.6689295636283027 | Train Acc : 64.82758331298828 | Val Acc : 66.66667175292969 |\n"
          ]
        },
        {
          "output_type": "stream",
          "name": "stderr",
          "text": [
            "100%|██████████| 5/5 [00:00<00:00, 20.83it/s]\n"
          ]
        },
        {
          "output_type": "stream",
          "name": "stdout",
          "text": [
            "| Train Loss : 0.6697613395493606 |  Val Loss : 0.6591096520423889 | Train Acc : 64.82758331298828 | Val Acc : 66.66667175292969 |\n"
          ]
        },
        {
          "output_type": "stream",
          "name": "stderr",
          "text": [
            "100%|██████████| 5/5 [00:00<00:00, 30.03it/s]\n"
          ]
        },
        {
          "output_type": "stream",
          "name": "stdout",
          "text": [
            "| Train Loss : 0.6626255635557503 |  Val Loss : 0.6543650097317166 | Train Acc : 64.82758331298828 | Val Acc : 66.66667175292969 |\n"
          ]
        },
        {
          "output_type": "stream",
          "name": "stderr",
          "text": [
            "100%|██████████| 5/5 [00:00<00:00, 31.30it/s]\n"
          ]
        },
        {
          "output_type": "stream",
          "name": "stdout",
          "text": [
            "| Train Loss : 0.6587550035838423 |  Val Loss : 0.6497986316680908 | Train Acc : 64.82758331298828 | Val Acc : 66.66667175292969 |\n"
          ]
        },
        {
          "output_type": "stream",
          "name": "stderr",
          "text": [
            "100%|██████████| 5/5 [00:00<00:00, 30.79it/s]\n"
          ]
        },
        {
          "output_type": "stream",
          "name": "stdout",
          "text": [
            "| Train Loss : 0.6556302695438779 |  Val Loss : 0.6463369329770406 | Train Acc : 64.82758331298828 | Val Acc : 66.66667175292969 |\n"
          ]
        },
        {
          "output_type": "stream",
          "name": "stderr",
          "text": [
            "100%|██████████| 5/5 [00:00<00:00, 29.93it/s]\n"
          ]
        },
        {
          "output_type": "stream",
          "name": "stdout",
          "text": [
            "| Train Loss : 0.6530731821882314 |  Val Loss : 0.6435805559158325 | Train Acc : 64.82758331298828 | Val Acc : 66.66667175292969 |\n"
          ]
        },
        {
          "output_type": "stream",
          "name": "stderr",
          "text": [
            "100%|██████████| 5/5 [00:00<00:00, 30.24it/s]\n"
          ]
        },
        {
          "output_type": "stream",
          "name": "stdout",
          "text": [
            "| Train Loss : 0.6516173860122417 |  Val Loss : 0.6415915456083086 | Train Acc : 64.82758331298828 | Val Acc : 66.66667175292969 |\n"
          ]
        },
        {
          "output_type": "stream",
          "name": "stderr",
          "text": [
            "100%|██████████| 5/5 [00:00<00:00, 29.34it/s]\n"
          ]
        },
        {
          "output_type": "stream",
          "name": "stdout",
          "text": [
            "| Train Loss : 0.6512664433183342 |  Val Loss : 0.6405433879958259 | Train Acc : 64.82758331298828 | Val Acc : 66.66667175292969 |\n"
          ]
        },
        {
          "output_type": "stream",
          "name": "stderr",
          "text": [
            "100%|██████████| 5/5 [00:00<00:00, 30.07it/s]\n"
          ]
        },
        {
          "output_type": "stream",
          "name": "stdout",
          "text": [
            "| Train Loss : 0.6502447292722505 |  Val Loss : 0.6395790312025282 | Train Acc : 64.82758331298828 | Val Acc : 66.66667175292969 |\n"
          ]
        },
        {
          "output_type": "stream",
          "name": "stderr",
          "text": [
            "100%|██████████| 5/5 [00:00<00:00, 31.65it/s]\n"
          ]
        },
        {
          "output_type": "stream",
          "name": "stdout",
          "text": [
            "| Train Loss : 0.649592755169704 |  Val Loss : 0.6392569343249003 | Train Acc : 64.82758331298828 | Val Acc : 66.66667175292969 |\n"
          ]
        },
        {
          "output_type": "stream",
          "name": "stderr",
          "text": [
            "100%|██████████| 5/5 [00:00<00:00, 29.83it/s]\n"
          ]
        },
        {
          "output_type": "stream",
          "name": "stdout",
          "text": [
            "| Train Loss : 0.6491503468875227 |  Val Loss : 0.6385766996277703 | Train Acc : 64.82758331298828 | Val Acc : 66.66667175292969 |\n"
          ]
        },
        {
          "output_type": "stream",
          "name": "stderr",
          "text": [
            "100%|██████████| 5/5 [00:00<00:00, 29.96it/s]"
          ]
        },
        {
          "output_type": "stream",
          "name": "stdout",
          "text": [
            "| Train Loss : 0.6489118029331339 |  Val Loss : 0.6381252739164565 | Train Acc : 64.82758331298828 | Val Acc : 66.66667175292969 |"
          ]
        },
        {
          "output_type": "stream",
          "name": "stderr",
          "text": [
            "\n"
          ]
        },
        {
          "output_type": "stream",
          "name": "stdout",
          "text": [
            "\n"
          ]
        },
        {
          "output_type": "stream",
          "name": "stderr",
          "text": [
            "100%|██████████| 5/5 [00:00<00:00, 29.83it/s]\n"
          ]
        },
        {
          "output_type": "stream",
          "name": "stdout",
          "text": [
            "| Train Loss : 0.6488243686741796 |  Val Loss : 0.6379157304763794 | Train Acc : 64.82758331298828 | Val Acc : 66.66667175292969 |\n"
          ]
        },
        {
          "output_type": "stream",
          "name": "stderr",
          "text": [
            "100%|██████████| 5/5 [00:00<00:00, 31.35it/s]\n"
          ]
        },
        {
          "output_type": "stream",
          "name": "stdout",
          "text": [
            "| Train Loss : 0.6492097032481227 |  Val Loss : 0.6376673248079088 | Train Acc : 64.82758331298828 | Val Acc : 66.66667175292969 |\n"
          ]
        },
        {
          "output_type": "stream",
          "name": "stderr",
          "text": [
            "100%|██████████| 5/5 [00:00<00:00, 30.19it/s]\n"
          ]
        },
        {
          "output_type": "stream",
          "name": "stdout",
          "text": [
            "| Train Loss : 0.6490171568147067 |  Val Loss : 0.6378942131996155 | Train Acc : 64.82758331298828 | Val Acc : 66.66667175292969 |\n"
          ]
        },
        {
          "output_type": "stream",
          "name": "stderr",
          "text": [
            "100%|██████████| 5/5 [00:00<00:00, 30.16it/s]\n"
          ]
        },
        {
          "output_type": "stream",
          "name": "stdout",
          "text": [
            "| Train Loss : 0.6490928255278489 |  Val Loss : 0.6381832626130846 | Train Acc : 64.82758331298828 | Val Acc : 66.66667175292969 |\n"
          ]
        },
        {
          "output_type": "stream",
          "name": "stderr",
          "text": [
            "100%|██████████| 5/5 [00:00<00:00, 17.03it/s]\n"
          ]
        },
        {
          "output_type": "stream",
          "name": "stdout",
          "text": [
            "| Train Loss : 0.6487036717349085 |  Val Loss : 0.6378317740228441 | Train Acc : 64.82758331298828 | Val Acc : 66.66667175292969 |\n"
          ]
        },
        {
          "output_type": "stream",
          "name": "stderr",
          "text": [
            "100%|██████████| 5/5 [00:00<00:00, 19.45it/s]\n"
          ]
        },
        {
          "output_type": "stream",
          "name": "stdout",
          "text": [
            "| Train Loss : 0.6491161490308828 |  Val Loss : 0.6377953489621481 | Train Acc : 64.82758331298828 | Val Acc : 66.66667175292969 |\n"
          ]
        },
        {
          "output_type": "stream",
          "name": "stderr",
          "text": [
            "100%|██████████| 5/5 [00:00<00:00, 17.77it/s]\n"
          ]
        },
        {
          "output_type": "stream",
          "name": "stdout",
          "text": [
            "| Train Loss : 0.648653911311051 |  Val Loss : 0.6375612219174703 | Train Acc : 64.82758331298828 | Val Acc : 66.66667175292969 |\n"
          ]
        },
        {
          "output_type": "stream",
          "name": "stderr",
          "text": [
            "100%|██████████| 5/5 [00:00<00:00, 14.40it/s]\n"
          ]
        },
        {
          "output_type": "stream",
          "name": "stdout",
          "text": [
            "| Train Loss : 0.6487653884394415 |  Val Loss : 0.6372908221350776 | Train Acc : 64.82758331298828 | Val Acc : 66.66667175292969 |\n"
          ]
        },
        {
          "output_type": "stream",
          "name": "stderr",
          "text": [
            "100%|██████████| 5/5 [00:00<00:00, 16.97it/s]\n"
          ]
        },
        {
          "output_type": "stream",
          "name": "stdout",
          "text": [
            "| Train Loss : 0.6505306930377566 |  Val Loss : 0.6371217734283872 | Train Acc : 64.82758331298828 | Val Acc : 66.66667175292969 |\n"
          ]
        },
        {
          "output_type": "stream",
          "name": "stderr",
          "text": [
            "100%|██████████| 5/5 [00:00<00:00, 15.67it/s]\n"
          ]
        },
        {
          "output_type": "stream",
          "name": "stdout",
          "text": [
            "| Train Loss : 0.6491127293685387 |  Val Loss : 0.6369570857948728 | Train Acc : 64.82758331298828 | Val Acc : 66.66667175292969 |\n"
          ]
        },
        {
          "output_type": "stream",
          "name": "stderr",
          "text": [
            "100%|██████████| 5/5 [00:00<00:00, 15.12it/s]\n"
          ]
        },
        {
          "output_type": "stream",
          "name": "stdout",
          "text": [
            "| Train Loss : 0.6488677518121128 |  Val Loss : 0.6371760798825158 | Train Acc : 64.82758331298828 | Val Acc : 66.66667175292969 |\n"
          ]
        },
        {
          "output_type": "stream",
          "name": "stderr",
          "text": [
            "100%|██████████| 5/5 [00:00<00:00, 18.14it/s]\n"
          ]
        },
        {
          "output_type": "stream",
          "name": "stdout",
          "text": [
            "| Train Loss : 0.6485683182190205 |  Val Loss : 0.6372048722373115 | Train Acc : 64.82758331298828 | Val Acc : 66.66667175292969 |\n"
          ]
        },
        {
          "output_type": "stream",
          "name": "stderr",
          "text": [
            "100%|██████████| 5/5 [00:00<00:00, 17.93it/s]\n"
          ]
        },
        {
          "output_type": "stream",
          "name": "stdout",
          "text": [
            "| Train Loss : 0.6488946034990508 |  Val Loss : 0.6370108524958292 | Train Acc : 64.82758331298828 | Val Acc : 66.66667175292969 |\n"
          ]
        },
        {
          "output_type": "stream",
          "name": "stderr",
          "text": [
            "100%|██████████| 5/5 [00:00<00:00, 15.16it/s]\n"
          ]
        },
        {
          "output_type": "stream",
          "name": "stdout",
          "text": [
            "| Train Loss : 0.6487455614681902 |  Val Loss : 0.6369786858558655 | Train Acc : 64.82758331298828 | Val Acc : 66.66667175292969 |\n"
          ]
        },
        {
          "output_type": "stream",
          "name": "stderr",
          "text": [
            "100%|██████████| 5/5 [00:00<00:00, 17.41it/s]\n"
          ]
        },
        {
          "output_type": "stream",
          "name": "stdout",
          "text": [
            "| Train Loss : 0.6492173125003946 |  Val Loss : 0.6368235482109917 | Train Acc : 64.82758331298828 | Val Acc : 66.66667175292969 |\n"
          ]
        },
        {
          "output_type": "stream",
          "name": "stderr",
          "text": [
            "100%|██████████| 5/5 [00:00<00:00, 13.90it/s]\n"
          ]
        },
        {
          "output_type": "stream",
          "name": "stdout",
          "text": [
            "| Train Loss : 0.648650860786438 |  Val Loss : 0.6368859940105014 | Train Acc : 64.82758331298828 | Val Acc : 66.66667175292969 |\n"
          ]
        },
        {
          "output_type": "stream",
          "name": "stderr",
          "text": [
            "100%|██████████| 5/5 [00:00<00:00, 14.97it/s]\n"
          ]
        },
        {
          "output_type": "stream",
          "name": "stdout",
          "text": [
            "| Train Loss : 0.6493447961478398 |  Val Loss : 0.6373658776283264 | Train Acc : 64.82758331298828 | Val Acc : 66.66667175292969 |\n",
            "Words found are : 85\n",
            "Embedding(85, 100)\n",
            "-----------------------------------------------------------3-fold of the model-----------------------------------------------------------\n"
          ]
        },
        {
          "output_type": "stream",
          "name": "stderr",
          "text": [
            "100%|██████████| 5/5 [00:00<00:00, 18.64it/s]\n"
          ]
        },
        {
          "output_type": "stream",
          "name": "stdout",
          "text": [
            "| Train Loss : 0.6966468046451437 |  Val Loss : 0.6845454904768202 | Train Acc : 39.31034469604492 | Val Acc : 63.88888931274414 |\n"
          ]
        },
        {
          "output_type": "stream",
          "name": "stderr",
          "text": [
            "100%|██████████| 5/5 [00:00<00:00, 17.11it/s]\n"
          ]
        },
        {
          "output_type": "stream",
          "name": "stdout",
          "text": [
            "| Train Loss : 0.6802931575939573 |  Val Loss : 0.6737939980294969 | Train Acc : 65.51724243164062 | Val Acc : 63.88888931274414 |\n"
          ]
        },
        {
          "output_type": "stream",
          "name": "stderr",
          "text": [
            "100%|██████████| 5/5 [00:00<00:00, 18.09it/s]\n"
          ]
        },
        {
          "output_type": "stream",
          "name": "stdout",
          "text": [
            "| Train Loss : 0.6679551617852573 |  Val Loss : 0.6663503117031522 | Train Acc : 65.51724243164062 | Val Acc : 63.88888931274414 |\n"
          ]
        },
        {
          "output_type": "stream",
          "name": "stderr",
          "text": [
            "100%|██████████| 5/5 [00:00<00:00, 15.08it/s]\n"
          ]
        },
        {
          "output_type": "stream",
          "name": "stdout",
          "text": [
            "| Train Loss : 0.6600201841058402 |  Val Loss : 0.6609370443556044 | Train Acc : 65.51724243164062 | Val Acc : 63.88888931274414 |\n"
          ]
        },
        {
          "output_type": "stream",
          "name": "stderr",
          "text": [
            "100%|██████████| 5/5 [00:00<00:00, 13.53it/s]\n"
          ]
        },
        {
          "output_type": "stream",
          "name": "stdout",
          "text": [
            "| Train Loss : 0.6542327987736669 |  Val Loss : 0.6575986941655477 | Train Acc : 65.51724243164062 | Val Acc : 63.88888931274414 |\n"
          ]
        },
        {
          "output_type": "stream",
          "name": "stderr",
          "text": [
            "100%|██████████| 5/5 [00:00<00:00,  9.66it/s]\n"
          ]
        },
        {
          "output_type": "stream",
          "name": "stdout",
          "text": [
            "| Train Loss : 0.6505042261090772 |  Val Loss : 0.656345976723565 | Train Acc : 65.51724243164062 | Val Acc : 63.88888931274414 |\n"
          ]
        },
        {
          "output_type": "stream",
          "name": "stderr",
          "text": [
            "100%|██████████| 5/5 [00:00<00:00, 10.05it/s]\n"
          ]
        },
        {
          "output_type": "stream",
          "name": "stdout",
          "text": [
            "| Train Loss : 0.6489350417564655 |  Val Loss : 0.6555410027503967 | Train Acc : 65.51724243164062 | Val Acc : 63.88888931274414 |\n"
          ]
        },
        {
          "output_type": "stream",
          "name": "stderr",
          "text": [
            "100%|██████████| 5/5 [00:00<00:00,  9.25it/s]\n"
          ]
        },
        {
          "output_type": "stream",
          "name": "stdout",
          "text": [
            "| Train Loss : 0.6485366788403741 |  Val Loss : 0.6550146341323853 | Train Acc : 65.51724243164062 | Val Acc : 63.88888931274414 |\n"
          ]
        },
        {
          "output_type": "stream",
          "name": "stderr",
          "text": [
            "100%|██████████| 5/5 [00:00<00:00,  6.19it/s]\n"
          ]
        },
        {
          "output_type": "stream",
          "name": "stdout",
          "text": [
            "| Train Loss : 0.6472421715999471 |  Val Loss : 0.6543069614304436 | Train Acc : 65.51724243164062 | Val Acc : 63.88888931274414 |\n"
          ]
        },
        {
          "output_type": "stream",
          "name": "stderr",
          "text": [
            "100%|██████████| 5/5 [00:00<00:00,  9.55it/s]\n"
          ]
        },
        {
          "output_type": "stream",
          "name": "stdout",
          "text": [
            "| Train Loss : 0.6466609325902215 |  Val Loss : 0.6541027228037516 | Train Acc : 65.51724243164062 | Val Acc : 63.88888931274414 |\n"
          ]
        },
        {
          "output_type": "stream",
          "name": "stderr",
          "text": [
            "100%|██████████| 5/5 [00:00<00:00, 11.53it/s]\n"
          ]
        },
        {
          "output_type": "stream",
          "name": "stdout",
          "text": [
            "| Train Loss : 0.6460110475277079 |  Val Loss : 0.6540575159920586 | Train Acc : 65.51724243164062 | Val Acc : 63.88888931274414 |\n"
          ]
        },
        {
          "output_type": "stream",
          "name": "stderr",
          "text": [
            "100%|██████████| 5/5 [00:00<00:00, 15.31it/s]\n"
          ]
        },
        {
          "output_type": "stream",
          "name": "stdout",
          "text": [
            "| Train Loss : 0.6464945694495892 |  Val Loss : 0.6540609863069322 | Train Acc : 65.51724243164062 | Val Acc : 63.88888931274414 |\n"
          ]
        },
        {
          "output_type": "stream",
          "name": "stderr",
          "text": [
            "100%|██████████| 5/5 [00:00<00:00, 18.58it/s]\n"
          ]
        },
        {
          "output_type": "stream",
          "name": "stdout",
          "text": [
            "| Train Loss : 0.6453225612640381 |  Val Loss : 0.6540990471839905 | Train Acc : 65.51724243164062 | Val Acc : 63.88888931274414 |\n"
          ]
        },
        {
          "output_type": "stream",
          "name": "stderr",
          "text": [
            "100%|██████████| 5/5 [00:00<00:00, 15.78it/s]\n"
          ]
        },
        {
          "output_type": "stream",
          "name": "stdout",
          "text": [
            "| Train Loss : 0.6455437516344005 |  Val Loss : 0.6541293660799662 | Train Acc : 65.51724243164062 | Val Acc : 63.88888931274414 |\n"
          ]
        },
        {
          "output_type": "stream",
          "name": "stderr",
          "text": [
            "100%|██████████| 5/5 [00:00<00:00, 15.59it/s]\n"
          ]
        },
        {
          "output_type": "stream",
          "name": "stdout",
          "text": [
            "| Train Loss : 0.6448271640415849 |  Val Loss : 0.6543256507979499 | Train Acc : 65.51724243164062 | Val Acc : 63.88888931274414 |\n"
          ]
        },
        {
          "output_type": "stream",
          "name": "stderr",
          "text": [
            "100%|██████████| 5/5 [00:00<00:00, 14.23it/s]\n"
          ]
        },
        {
          "output_type": "stream",
          "name": "stdout",
          "text": [
            "| Train Loss : 0.6445259332656861 |  Val Loss : 0.65445609887441 | Train Acc : 65.51724243164062 | Val Acc : 63.88888931274414 |\n"
          ]
        },
        {
          "output_type": "stream",
          "name": "stderr",
          "text": [
            "100%|██████████| 5/5 [00:00<00:00, 12.08it/s]\n"
          ]
        },
        {
          "output_type": "stream",
          "name": "stdout",
          "text": [
            "| Train Loss : 0.6443116825202416 |  Val Loss : 0.6545535193549262 | Train Acc : 65.51724243164062 | Val Acc : 63.88888931274414 |\n"
          ]
        },
        {
          "output_type": "stream",
          "name": "stderr",
          "text": [
            "100%|██████████| 5/5 [00:00<00:00, 13.69it/s]\n"
          ]
        },
        {
          "output_type": "stream",
          "name": "stdout",
          "text": [
            "| Train Loss : 0.6443810680816914 |  Val Loss : 0.6546289457215203 | Train Acc : 65.51724243164062 | Val Acc : 63.88888931274414 |\n"
          ]
        },
        {
          "output_type": "stream",
          "name": "stderr",
          "text": [
            "100%|██████████| 5/5 [00:00<00:00, 14.42it/s]\n"
          ]
        },
        {
          "output_type": "stream",
          "name": "stdout",
          "text": [
            "| Train Loss : 0.6443803039090387 |  Val Loss : 0.6545116106669108 | Train Acc : 65.51724243164062 | Val Acc : 63.88888931274414 |\n"
          ]
        },
        {
          "output_type": "stream",
          "name": "stderr",
          "text": [
            "100%|██████████| 5/5 [00:00<00:00, 17.26it/s]\n"
          ]
        },
        {
          "output_type": "stream",
          "name": "stdout",
          "text": [
            "| Train Loss : 0.6450342914153789 |  Val Loss : 0.6544703112708198 | Train Acc : 65.51724243164062 | Val Acc : 63.88888931274414 |\n"
          ]
        },
        {
          "output_type": "stream",
          "name": "stderr",
          "text": [
            "100%|██████████| 5/5 [00:00<00:00, 14.72it/s]\n"
          ]
        },
        {
          "output_type": "stream",
          "name": "stdout",
          "text": [
            "| Train Loss : 0.6446410281904813 |  Val Loss : 0.6544840468300713 | Train Acc : 65.51724243164062 | Val Acc : 63.88888931274414 |\n"
          ]
        },
        {
          "output_type": "stream",
          "name": "stderr",
          "text": [
            "100%|██████████| 5/5 [00:00<00:00, 18.26it/s]\n"
          ]
        },
        {
          "output_type": "stream",
          "name": "stdout",
          "text": [
            "| Train Loss : 0.6451708164708367 |  Val Loss : 0.6545387572712369 | Train Acc : 65.51724243164062 | Val Acc : 63.88888931274414 |\n"
          ]
        },
        {
          "output_type": "stream",
          "name": "stderr",
          "text": [
            "100%|██████████| 5/5 [00:00<00:00, 18.28it/s]\n"
          ]
        },
        {
          "output_type": "stream",
          "name": "stdout",
          "text": [
            "| Train Loss : 0.6449659248878216 |  Val Loss : 0.6543931431240506 | Train Acc : 65.51724243164062 | Val Acc : 63.88888931274414 |\n"
          ]
        },
        {
          "output_type": "stream",
          "name": "stderr",
          "text": [
            "100%|██████████| 5/5 [00:00<00:00, 16.20it/s]\n"
          ]
        },
        {
          "output_type": "stream",
          "name": "stdout",
          "text": [
            "| Train Loss : 0.6446087956428528 |  Val Loss : 0.6544953385988871 | Train Acc : 65.51724243164062 | Val Acc : 63.88888931274414 |\n"
          ]
        },
        {
          "output_type": "stream",
          "name": "stderr",
          "text": [
            "100%|██████████| 5/5 [00:00<00:00,  8.97it/s]\n"
          ]
        },
        {
          "output_type": "stream",
          "name": "stdout",
          "text": [
            "| Train Loss : 0.6450320893320544 |  Val Loss : 0.6545300086339315 | Train Acc : 65.51724243164062 | Val Acc : 63.88888931274414 |\n"
          ]
        },
        {
          "output_type": "stream",
          "name": "stderr",
          "text": [
            "100%|██████████| 5/5 [00:00<00:00, 13.38it/s]\n"
          ]
        },
        {
          "output_type": "stream",
          "name": "stdout",
          "text": [
            "| Train Loss : 0.6457220024076001 |  Val Loss : 0.6551562812593248 | Train Acc : 65.51724243164062 | Val Acc : 63.88888931274414 |\n"
          ]
        },
        {
          "output_type": "stream",
          "name": "stderr",
          "text": [
            "100%|██████████| 5/5 [00:00<00:00, 13.39it/s]\n"
          ]
        },
        {
          "output_type": "stream",
          "name": "stdout",
          "text": [
            "| Train Loss : 0.644703471660614 |  Val Loss : 0.6548030641343858 | Train Acc : 65.51724243164062 | Val Acc : 63.88888931274414 |\n"
          ]
        },
        {
          "output_type": "stream",
          "name": "stderr",
          "text": [
            "100%|██████████| 5/5 [00:00<00:00, 16.09it/s]\n"
          ]
        },
        {
          "output_type": "stream",
          "name": "stdout",
          "text": [
            "| Train Loss : 0.6446354331641362 |  Val Loss : 0.6548352109061347 | Train Acc : 65.51724243164062 | Val Acc : 63.88888931274414 |\n"
          ]
        },
        {
          "output_type": "stream",
          "name": "stderr",
          "text": [
            "100%|██████████| 5/5 [00:00<00:00, 14.44it/s]\n"
          ]
        },
        {
          "output_type": "stream",
          "name": "stdout",
          "text": [
            "| Train Loss : 0.6448190783632213 |  Val Loss : 0.6550736427307129 | Train Acc : 65.51724243164062 | Val Acc : 63.88888931274414 |\n"
          ]
        },
        {
          "output_type": "stream",
          "name": "stderr",
          "text": [
            "100%|██████████| 5/5 [00:00<00:00, 18.49it/s]\n"
          ]
        },
        {
          "output_type": "stream",
          "name": "stdout",
          "text": [
            "| Train Loss : 0.6446832003264592 |  Val Loss : 0.6550889213879904 | Train Acc : 65.51724243164062 | Val Acc : 63.88888931274414 |\n",
            "Words found are : 85\n",
            "Embedding(85, 100)\n",
            "-----------------------------------------------------------4-fold of the model-----------------------------------------------------------\n"
          ]
        },
        {
          "output_type": "stream",
          "name": "stderr",
          "text": [
            "100%|██████████| 5/5 [00:00<00:00, 29.05it/s]\n"
          ]
        },
        {
          "output_type": "stream",
          "name": "stdout",
          "text": [
            "| Train Loss : 0.6769043914202986 |  Val Loss : 0.6822329759597778 | Train Acc : 66.89655303955078 | Val Acc : 58.33333206176758 |\n"
          ]
        },
        {
          "output_type": "stream",
          "name": "stderr",
          "text": [
            "100%|██████████| 5/5 [00:00<00:00, 27.83it/s]\n"
          ]
        },
        {
          "output_type": "stream",
          "name": "stdout",
          "text": [
            "| Train Loss : 0.6630978136227048 |  Val Loss : 0.6798189083735148 | Train Acc : 66.89655303955078 | Val Acc : 58.33333206176758 |\n"
          ]
        },
        {
          "output_type": "stream",
          "name": "stderr",
          "text": [
            "100%|██████████| 5/5 [00:00<00:00, 29.69it/s]"
          ]
        },
        {
          "output_type": "stream",
          "name": "stdout",
          "text": [
            "| Train Loss : 0.6548068190443105 |  Val Loss : 0.6793396208021376 | "
          ]
        },
        {
          "output_type": "stream",
          "name": "stderr",
          "text": [
            "\n"
          ]
        },
        {
          "output_type": "stream",
          "name": "stdout",
          "text": [
            "Train Acc : 66.89655303955078 | Val Acc : 58.33333206176758 |\n"
          ]
        },
        {
          "output_type": "stream",
          "name": "stderr",
          "text": [
            "100%|██████████| 5/5 [00:00<00:00, 29.85it/s]\n"
          ]
        },
        {
          "output_type": "stream",
          "name": "stdout",
          "text": [
            "| Train Loss : 0.6460888763953899 |  Val Loss : 0.6802875333362155 | Train Acc : 66.89655303955078 | Val Acc : 58.33333206176758 |\n"
          ]
        },
        {
          "output_type": "stream",
          "name": "stderr",
          "text": [
            "100%|██████████| 5/5 [00:00<00:00, 30.05it/s]\n"
          ]
        },
        {
          "output_type": "stream",
          "name": "stdout",
          "text": [
            "| Train Loss : 0.6431645993528695 |  Val Loss : 0.6817663510640463 | Train Acc : 66.89655303955078 | Val Acc : 58.33333206176758 |\n"
          ]
        },
        {
          "output_type": "stream",
          "name": "stderr",
          "text": [
            "100%|██████████| 5/5 [00:00<00:00, 30.01it/s]\n"
          ]
        },
        {
          "output_type": "stream",
          "name": "stdout",
          "text": [
            "| Train Loss : 0.640642000888956 |  Val Loss : 0.682406849331326 | Train Acc : 66.89655303955078 | Val Acc : 58.33333206176758 |\n"
          ]
        },
        {
          "output_type": "stream",
          "name": "stderr",
          "text": [
            "100%|██████████| 5/5 [00:00<00:00, 28.40it/s]\n"
          ]
        },
        {
          "output_type": "stream",
          "name": "stdout",
          "text": [
            "| Train Loss : 0.6391775160000241 |  Val Loss : 0.68375563621521 | Train Acc : 66.89655303955078 | Val Acc : 58.33333206176758 |\n"
          ]
        },
        {
          "output_type": "stream",
          "name": "stderr",
          "text": [
            "100%|██████████| 5/5 [00:00<00:00, 30.95it/s]\n"
          ]
        },
        {
          "output_type": "stream",
          "name": "stdout",
          "text": [
            "| Train Loss : 0.6383096024907868 |  Val Loss : 0.6862271494335599 | Train Acc : 66.89655303955078 | Val Acc : 58.33333206176758 |\n"
          ]
        },
        {
          "output_type": "stream",
          "name": "stderr",
          "text": [
            "100%|██████████| 5/5 [00:00<00:00, 29.76it/s]\n"
          ]
        },
        {
          "output_type": "stream",
          "name": "stdout",
          "text": [
            "| Train Loss : 0.6366675290568121 |  Val Loss : 0.6871364977624681 | Train Acc : 66.89655303955078 | Val Acc : 58.33333206176758 |\n"
          ]
        },
        {
          "output_type": "stream",
          "name": "stderr",
          "text": [
            "100%|██████████| 5/5 [00:00<00:00, 29.78it/s]"
          ]
        },
        {
          "output_type": "stream",
          "name": "stdout",
          "text": [
            "| Train Loss : 0.6366880174340873 |  Val Loss : 0.68918666905827 | "
          ]
        },
        {
          "output_type": "stream",
          "name": "stderr",
          "text": [
            "\n"
          ]
        },
        {
          "output_type": "stream",
          "name": "stdout",
          "text": [
            "Train Acc : 66.89655303955078 | Val Acc : 58.33333206176758 |\n"
          ]
        },
        {
          "output_type": "stream",
          "name": "stderr",
          "text": [
            "100%|██████████| 5/5 [00:00<00:00, 21.16it/s]\n"
          ]
        },
        {
          "output_type": "stream",
          "name": "stdout",
          "text": [
            "| Train Loss : 0.6355942265740756 |  Val Loss : 0.6904662648836771 | Train Acc : 66.89655303955078 | Val Acc : 58.33333206176758 |\n"
          ]
        },
        {
          "output_type": "stream",
          "name": "stderr",
          "text": [
            "100%|██████████| 5/5 [00:00<00:00, 18.32it/s]\n"
          ]
        },
        {
          "output_type": "stream",
          "name": "stdout",
          "text": [
            "| Train Loss : 0.6368439888132029 |  Val Loss : 0.6914487348662482 | Train Acc : 66.89655303955078 | Val Acc : 58.33333206176758 |\n"
          ]
        },
        {
          "output_type": "stream",
          "name": "stderr",
          "text": [
            "100%|██████████| 5/5 [00:00<00:00, 19.49it/s]\n"
          ]
        },
        {
          "output_type": "stream",
          "name": "stdout",
          "text": [
            "| Train Loss : 0.635637680826516 |  Val Loss : 0.6920319332016839 | Train Acc : 66.89655303955078 | Val Acc : 58.33333206176758 |\n"
          ]
        },
        {
          "output_type": "stream",
          "name": "stderr",
          "text": [
            "100%|██████████| 5/5 [00:00<00:00, 20.53it/s]\n"
          ]
        },
        {
          "output_type": "stream",
          "name": "stdout",
          "text": [
            "| Train Loss : 0.6357458961421045 |  Val Loss : 0.6926771601041158 | Train Acc : 66.89655303955078 | Val Acc : 58.33333206176758 |\n"
          ]
        },
        {
          "output_type": "stream",
          "name": "stderr",
          "text": [
            "100%|██████████| 5/5 [00:00<00:00, 20.07it/s]\n"
          ]
        },
        {
          "output_type": "stream",
          "name": "stdout",
          "text": [
            "| Train Loss : 0.6361008208373498 |  Val Loss : 0.6927458246548971 | Train Acc : 66.89655303955078 | Val Acc : 58.33333206176758 |\n"
          ]
        },
        {
          "output_type": "stream",
          "name": "stderr",
          "text": [
            "100%|██████████| 5/5 [00:00<00:00, 21.00it/s]\n"
          ]
        },
        {
          "output_type": "stream",
          "name": "stdout",
          "text": [
            "| Train Loss : 0.6356060389814706 |  Val Loss : 0.6936997440126207 | Train Acc : 66.89655303955078 | Val Acc : 58.33333206176758 |\n"
          ]
        },
        {
          "output_type": "stream",
          "name": "stderr",
          "text": [
            "100%|██████████| 5/5 [00:00<00:00, 18.51it/s]\n"
          ]
        },
        {
          "output_type": "stream",
          "name": "stdout",
          "text": [
            "| Train Loss : 0.6352121776547925 |  Val Loss : 0.6948069466484917 | Train Acc : 66.89655303955078 | Val Acc : 58.33333206176758 |\n"
          ]
        },
        {
          "output_type": "stream",
          "name": "stderr",
          "text": [
            "100%|██████████| 5/5 [00:00<00:00, 19.25it/s]\n"
          ]
        },
        {
          "output_type": "stream",
          "name": "stdout",
          "text": [
            "| Train Loss : 0.635108560940315 |  Val Loss : 0.6946848697132535 | Train Acc : 66.89655303955078 | Val Acc : 58.33333206176758 |\n"
          ]
        },
        {
          "output_type": "stream",
          "name": "stderr",
          "text": [
            "100%|██████████| 5/5 [00:00<00:00, 19.33it/s]\n"
          ]
        },
        {
          "output_type": "stream",
          "name": "stdout",
          "text": [
            "| Train Loss : 0.636416152839003 |  Val Loss : 0.6923769447538588 | Train Acc : 66.89655303955078 | Val Acc : 58.33333206176758 |\n"
          ]
        },
        {
          "output_type": "stream",
          "name": "stderr",
          "text": [
            "100%|██████████| 5/5 [00:00<00:00, 20.93it/s]\n"
          ]
        },
        {
          "output_type": "stream",
          "name": "stdout",
          "text": [
            "| Train Loss : 0.6353890682088917 |  Val Loss : 0.6918550994661119 | Train Acc : 66.89655303955078 | Val Acc : 58.33333206176758 |\n"
          ]
        },
        {
          "output_type": "stream",
          "name": "stderr",
          "text": [
            "100%|██████████| 5/5 [00:00<00:00, 29.23it/s]\n"
          ]
        },
        {
          "output_type": "stream",
          "name": "stdout",
          "text": [
            "| Train Loss : 0.6353880421868686 |  Val Loss : 0.6918464303016663 | Train Acc : 66.89655303955078 | Val Acc : 58.33333206176758 |\n"
          ]
        },
        {
          "output_type": "stream",
          "name": "stderr",
          "text": [
            "100%|██████████| 5/5 [00:00<00:00, 30.22it/s]\n"
          ]
        },
        {
          "output_type": "stream",
          "name": "stdout",
          "text": [
            "| Train Loss : 0.6354891612611968 |  Val Loss : 0.6928749548064338 | Train Acc : 66.89655303955078 | Val Acc : 58.33333206176758 |\n"
          ]
        },
        {
          "output_type": "stream",
          "name": "stderr",
          "text": [
            "100%|██████████| 5/5 [00:00<00:00, 28.02it/s]\n"
          ]
        },
        {
          "output_type": "stream",
          "name": "stdout",
          "text": [
            "| Train Loss : 0.6351727728185983 |  Val Loss : 0.6925741963916354 | Train Acc : 66.89655303955078 | Val Acc : 58.33333206176758 |\n"
          ]
        },
        {
          "output_type": "stream",
          "name": "stderr",
          "text": [
            "100%|██████████| 5/5 [00:00<00:00, 29.02it/s]\n"
          ]
        },
        {
          "output_type": "stream",
          "name": "stdout",
          "text": [
            "| Train Loss : 0.635607518820927 |  Val Loss : 0.6930136349466112 | Train Acc : 66.89655303955078 | Val Acc : 58.33333206176758 |\n"
          ]
        },
        {
          "output_type": "stream",
          "name": "stderr",
          "text": [
            "100%|██████████| 5/5 [00:00<00:00, 29.61it/s]\n"
          ]
        },
        {
          "output_type": "stream",
          "name": "stdout",
          "text": [
            "| Train Loss : 0.6354691345116188 |  Val Loss : 0.6928291254573398 | Train Acc : 66.89655303955078 | Val Acc : 58.33333206176758 |\n"
          ]
        },
        {
          "output_type": "stream",
          "name": "stderr",
          "text": [
            "100%|██████████| 5/5 [00:00<00:00, 29.35it/s]\n"
          ]
        },
        {
          "output_type": "stream",
          "name": "stdout",
          "text": [
            "| Train Loss : 0.6356964678599917 |  Val Loss : 0.692398296462165 | Train Acc : 66.89655303955078 | Val Acc : 58.33333206176758 |\n"
          ]
        },
        {
          "output_type": "stream",
          "name": "stderr",
          "text": [
            "100%|██████████| 5/5 [00:00<00:00, 29.08it/s]\n"
          ]
        },
        {
          "output_type": "stream",
          "name": "stdout",
          "text": [
            "| Train Loss : 0.6353356538147762 |  Val Loss : 0.6913775470521715 | Train Acc : 66.89655303955078 | Val Acc : 58.33333206176758 |\n"
          ]
        },
        {
          "output_type": "stream",
          "name": "stderr",
          "text": [
            "100%|██████████| 5/5 [00:00<00:00, 27.80it/s]\n"
          ]
        },
        {
          "output_type": "stream",
          "name": "stdout",
          "text": [
            "| Train Loss : 0.636181838347994 |  Val Loss : 0.6921261813905504 | Train Acc : 66.89655303955078 | Val Acc : 58.33333206176758 |\n"
          ]
        },
        {
          "output_type": "stream",
          "name": "stderr",
          "text": [
            "100%|██████████| 5/5 [00:00<00:00, 29.80it/s]\n"
          ]
        },
        {
          "output_type": "stream",
          "name": "stdout",
          "text": [
            "| Train Loss : 0.6358818851668259 |  Val Loss : 0.6922698451413049 | Train Acc : 66.89655303955078 | Val Acc : 58.33333206176758 |\n"
          ]
        },
        {
          "output_type": "stream",
          "name": "stderr",
          "text": [
            "100%|██████████| 5/5 [00:00<00:00, 29.26it/s]\n"
          ]
        },
        {
          "output_type": "stream",
          "name": "stdout",
          "text": [
            "| Train Loss : 0.635931657100546 |  Val Loss : 0.6940049131711324 | Train Acc : 66.89655303955078 | Val Acc : 58.33333206176758 |\n"
          ]
        }
      ]
    },
    {
      "cell_type": "code",
      "source": [
        "# summarize history for accuracy\n",
        "plt.plot(train_accs)\n",
        "plt.plot(val_accs)\n",
        "plt.title('Model Accuracy')\n",
        "plt.ylabel('Accuracy')\n",
        "plt.xlabel('Epoch')\n",
        "plt.legend(['Train', 'Test'], loc='upper left')\n",
        "plt.show()\n",
        "# summarize history for loss\n",
        "plt.plot(train_losses)\n",
        "plt.plot(val_losses)\n",
        "plt.title('Model Loss')\n",
        "plt.ylabel('Loss')\n",
        "plt.xlabel('Epoch')\n",
        "plt.legend(['Train', 'Test'], loc='upper left')\n",
        "plt.show()"
      ],
      "metadata": {
        "colab": {
          "base_uri": "https://localhost:8080/",
          "height": 927
        },
        "id": "22sPKTc7VdyX",
        "outputId": "94038f35-4740-4437-ff2a-aaa466402246"
      },
      "execution_count": null,
      "outputs": [
        {
          "output_type": "display_data",
          "data": {
            "text/plain": [
              "<Figure size 640x480 with 1 Axes>"
            ],
            "image/png": "[encoded data removed]"
          },
          "metadata": {}
        },
        {
          "output_type": "display_data",
          "data": {
            "text/plain": [
              "<Figure size 640x480 with 1 Axes>"
            ],
            "image/png": "[encoded data removed]"
          },
          "metadata": {}
        }
      ]
    },
    {
      "cell_type": "code",
      "source": [
        "torch.save(model_state_dicts, \"My-Model.pt\")"
      ],
      "metadata": {
        "id": "FFETfeYXWazW"
      },
      "execution_count": null,
      "outputs": []
    },
    {
      "cell_type": "markdown",
      "source": [
        "# Inference"
      ],
      "metadata": {
        "id": "SFQ150kHIzlN"
      }
    },
    {
      "cell_type": "code",
      "source": [
        "def numericalize(text):\n",
        "\n",
        "    numerialized_source = []\n",
        "    numerialized_source = [dataset.source_vocab.stoi[\"<SOS>\"]]\n",
        "    numerialized_source += dataset.source_vocab.numericalize(text)\n",
        "    numerialized_source.append(dataset.source_vocab.stoi[\"<EOS>\"])\n",
        "\n",
        "    return numerialized_source\n",
        "\n",
        "def padding(source):\n",
        "    padded_sequence = torch.zeros(config.MAX_LEN, 1, dtype = torch.int)\n",
        "    source = torch.tensor(source)\n",
        "\n",
        "    if len(source) > config.MAX_LEN:\n",
        "        padded_sequence[:, 0] = source[: config.MAX_LEN]\n",
        "    else:\n",
        "        padded_sequence[:len(source), 0] = padded_sequence[:len(source), 0] + source\n",
        "\n",
        "    return padded_sequence"
      ],
      "metadata": {
        "id": "mup3gyk3WeNK"
      },
      "execution_count": null,
      "outputs": []
    },
    {
      "cell_type": "code",
      "source": [
        "def infer_processing(text):\n",
        "\n",
        "    text = preprocessing(text)\n",
        "    text = numericalize(text)\n",
        "    text = padding(text)\n",
        "    return text"
      ],
      "metadata": {
        "id": "POycVlZPWg3m"
      },
      "execution_count": null,
      "outputs": []
    },
    {
      "cell_type": "code",
      "source": [
        "def get_similarity(text, aspect):\n",
        "    try:\n",
        "#         text = \" \".join(text)\n",
        "        return fasttext_model.wv.n_similarity(text, aspect)\n",
        "    except:\n",
        "        return 0\n",
        "\n",
        "def best_aspect(text, aspects):\n",
        "    a = []\n",
        "\n",
        "    for aspect in aspects:\n",
        "        a.append(get_similarity(text, aspect))\n",
        "\n",
        "    return aspects[np.argmax(a)]\n"
      ],
      "metadata": {
        "id": "C9yZ_PA3Wkbc"
      },
      "execution_count": null,
      "outputs": []
    },
    {
      "cell_type": "code",
      "source": [
        "sample = \"I am really impressed with the tshirt's great fit.\"\n",
        "\n",
        "ba = best_aspect(preprocessing(sample), aspects)\n",
        "\n",
        "a = infer_processing(sample).to(config.DEVICE)"
      ],
      "metadata": {
        "id": "1DVtwrCYWu4B"
      },
      "execution_count": null,
      "outputs": []
    },
    {
      "cell_type": "code",
      "source": [
        "model.eval()\n",
        "sentiment = model(a)\n",
        "sentiment = sentiment.cpu().detach().numpy()[0]\n",
        "\n",
        "if sentiment > 0.5:\n",
        "    sentiment = 'Positively'\n",
        "else :\n",
        "    sentiment = 'Negatively'"
      ],
      "metadata": {
        "id": "sNQZRtPeW6r8"
      },
      "execution_count": null,
      "outputs": []
    },
    {
      "cell_type": "code",
      "source": [
        "# Analyze aspects and sentiments for each review\n",
        "results = []\n",
        "for idx, row in df.iterrows():\n",
        "    sample = row['clean_review']\n",
        "    ba = best_aspect(preprocessing(sample), aspects)\n",
        "    a = infer_processing(sample).to(config.DEVICE)\n",
        "    model.eval()\n",
        "    sentiment = model(a)\n",
        "    sentiment = sentiment.cpu().detach().numpy()[0]\n",
        "    sentiment_label = 'Positively' if sentiment > 0.5 else 'Negatively'\n",
        "    results.append({'Review': sample, 'Best Aspect': ba, 'Sentiment': sentiment_label})\n",
        "\n",
        "# Aggregate results\n",
        "summary_df = pd.DataFrame(results)\n",
        "aspect_summary = summary_df['Best Aspect'].value_counts()\n",
        "sentiment_summary = summary_df['Sentiment'].value_counts()\n",
        "\n",
        "# Print or visualize the aggregated results\n",
        "print(\"Aspect Summary:\")\n",
        "print(aspect_summary)\n",
        "print(\"\\nSentiment Summary:\")\n",
        "print(sentiment_summary)"
      ],
      "metadata": {
        "colab": {
          "base_uri": "https://localhost:8080/"
        },
        "id": "HijxRUjTYuFD",
        "outputId": "453e22e1-22f5-484e-eed3-8460f9da81e0"
      },
      "execution_count": null,
      "outputs": [
        {
          "output_type": "stream",
          "name": "stdout",
          "text": [
            "Aspect Summary:\n",
            "Best Aspect\n",
            "materi     105\n",
            "look        21\n",
            "qualiti     17\n",
            "fit         14\n",
            "money       13\n",
            "feel         8\n",
            "size         3\n",
            "Name: count, dtype: int64\n",
            "\n",
            "Sentiment Summary:\n",
            "Sentiment\n",
            "Positively    181\n",
            "Name: count, dtype: int64\n"
          ]
        }
      ]
    }
  ]
}